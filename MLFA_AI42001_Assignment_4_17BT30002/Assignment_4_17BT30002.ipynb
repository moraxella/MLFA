{
 "cells": [
  {
   "cell_type": "markdown",
   "metadata": {},
   "source": [
    "## Assingment Submitted by:\n",
    "### - Ankit Saini\n",
    "### - 17BT30002\n"
   ]
  },
  {
   "cell_type": "markdown",
   "metadata": {},
   "source": [
    "## Daily Rainfall Analysis\n",
    "\n",
    "Two files are attached which contain daily rainfall data over India for 2010 and 2011. Both of them contain a 357x122 matrix (XR1 and XR) an a binary vector (ZR1 and ZR). The matrices contain rainfall amounts at 357 locations over India, on each day during the monsoon seasons of 2010 and 2011 (122 days from 1 June to 30 September). ZR1 and ZR are binary vectors which classify every day as 'rainy\" (1) or non-rainy (0) based on the rainfall across the landmass.\n",
    "\n",
    "1) Read the .mat files in Python and access the variables\n",
    "\n",
    "2) Use a linear regression model to predict the rainfall XR(s,t) at any location 's' on day 't', using as predictor the rainfall at all other locations on the same day, and also rainfall at the same location on the previous 2 days [XR(1,t)....XR(s-1,t), XR(s+1,t),....XR(357,t), XR(s,t-1), XR(s,t-2)]. Use 2010 data for training.\n",
    "\n",
    "Build such a model for s=42 (Mumbai), s=158 (Delhi), s= 299 (Kharagpur) [3 marks]\n",
    "\n",
    "3) Use the same model to predict the rainfall at these 3 locations on each day of 2011.  Use values in XR as predictors. Compare the results with the true values and compute error for 3 locations separately. [1 marks]\n",
    "\n",
    "4) Repeat the same process using LASSO linear regression. Using the coefficients, identify the top 5 predictors for each of the 3 locations. [2 marks]\n",
    "\n",
    "5) Use Decision Tree on 2010 data to classify each day as 1 or 0 (as given in ZR1). For each day, use the 357-dimensional rainfall vector as feature vector. Report the 10 most discriminative features (i.e. locations) [3 marks]\n",
    "\n",
    "6) Use this Decision Tree to classify each day of 2011 as 1 or 0. Report accuracy by comparing with ZR. [1 mark]"
   ]
  },
  {
   "cell_type": "code",
   "execution_count": 1,
   "metadata": {},
   "outputs": [],
   "source": [
    "#Importing necessary Libraries\n",
    "import scipy.io\n",
    "import numpy as np\n",
    "import pandas as pd\n",
    "from math import sqrt\n",
    "from sklearn.linear_model import LinearRegression\n",
    "from sklearn.tree import DecisionTreeClassifier\n",
    "from sklearn.metrics import mean_squared_error\n",
    "from sklearn.metrics import accuracy_score\n",
    "from sklearn.linear_model import Lasso"
   ]
  },
  {
   "cell_type": "markdown",
   "metadata": {},
   "source": [
    "#### 1) Read the .mat files in Python and access the variables"
   ]
  },
  {
   "cell_type": "code",
   "execution_count": 2,
   "metadata": {},
   "outputs": [],
   "source": [
    "# Loading .mat files\n",
    "mat_train = scipy.io.loadmat('2010rainfall.mat')\n",
    "mat_tests = scipy.io.loadmat('2011rainfall.mat')"
   ]
  },
  {
   "cell_type": "markdown",
   "metadata": {},
   "source": [
    "These are the keys present in given dataset \"2010rainfall.mat\""
   ]
  },
  {
   "cell_type": "code",
   "execution_count": 3,
   "metadata": {},
   "outputs": [
    {
     "name": "stdout",
     "output_type": "stream",
     "text": [
      "dict_keys(['__header__', '__version__', '__globals__', 'XR1', 'ZR1'])\n",
      "dict_keys(['__header__', '__version__', '__globals__', 'XR', 'ZR'])\n"
     ]
    }
   ],
   "source": [
    "print (mat_train.keys()) #required only 'XR1' & 'ZR1'\n",
    "print (mat_tests.keys()) #required only 'XR' & 'ZR'"
   ]
  },
  {
   "cell_type": "code",
   "execution_count": 4,
   "metadata": {},
   "outputs": [
    {
     "data": {
      "text/plain": [
       "(357, 122)"
      ]
     },
     "execution_count": 4,
     "metadata": {},
     "output_type": "execute_result"
    }
   ],
   "source": [
    "mat_train['XR1'].shape"
   ]
  },
  {
   "cell_type": "markdown",
   "metadata": {},
   "source": [
    "The shape of the matrix is 357 rows and 122 columns as shown above. Which contain rainfall amount for 357 different locations over india, on each day during the monsoon seasons of 2010 and 2011 (122 days from 1 June to 30 September)"
   ]
  },
  {
   "cell_type": "code",
   "execution_count": 5,
   "metadata": {},
   "outputs": [],
   "source": [
    "# Creating dataframe using pandas\n",
    "def dataframe(mat_file): \n",
    "    return pd.DataFrame(mat_file.transpose(), columns = list(range(1, 358))) #Creating dataframe\n",
    "\n",
    "\n",
    "location = [42, 158, 299] #locations required for Mumbai, delhi, Kharagpur"
   ]
  },
  {
   "cell_type": "code",
   "execution_count": 25,
   "metadata": {},
   "outputs": [],
   "source": [
    "# Dataframe for year 2010\n",
    "rainfall10_df = dataframe(mat_train['XR1'])"
   ]
  },
  {
   "cell_type": "markdown",
   "metadata": {},
   "source": [
    "#### 2) Use a linear regression model to predict the rainfall XR(s,t) at any location 's' on day 't', using as predictor the rainfall at all other locations on the same day, and also rainfall at the same location on the previous 2 days [XR(1,t)....XR(s-1,t), XR(s+1,t),....XR(357,t), XR(s,t-1), XR(s,t-2)]. Use 2010 data for training."
   ]
  },
  {
   "cell_type": "markdown",
   "metadata": {},
   "source": [
    "#### Linear Regression Model"
   ]
  },
  {
   "cell_type": "code",
   "execution_count": 7,
   "metadata": {},
   "outputs": [],
   "source": [
    "# Training the model\n",
    "def linear_regression(X, Y): #By inbuilt Linear Regression Model\n",
    "    reg = LinearRegression()\n",
    "    reg.fit(X, Y)\n",
    "    var = reg.coef_[0] \n",
    "    M = reg.intercept_[0]\n",
    "    return var, M"
   ]
  },
  {
   "cell_type": "code",
   "execution_count": 8,
   "metadata": {},
   "outputs": [],
   "source": [
    "constant = []\n",
    "coff_weights = []\n",
    "for j in location:\n",
    "    coff, cons = linear_regression(rainfall10_df.drop(j, 1), pd.DataFrame(rainfall10_df[j], columns = [j]))\n",
    "    coff_weights.append(coff)\n",
    "    constant.append(cons)"
   ]
  },
  {
   "cell_type": "markdown",
   "metadata": {},
   "source": [
    "Weights of every location show the importance of there rainfall data for the prediction of rainfall at any other location 's' on day 't'. Prediction can be determine by using the below define prediction function. "
   ]
  },
  {
   "cell_type": "markdown",
   "metadata": {},
   "source": [
    "#### 3) Use the same model to predict the rainfall at these 3 locations on each day of 2011. Use values in XR as predictors. Compare the results with the true values and compute error for 3 locations separately. "
   ]
  },
  {
   "cell_type": "code",
   "execution_count": 9,
   "metadata": {},
   "outputs": [],
   "source": [
    "# Creating dataframe for year 2011 using above defined function\n",
    "rainfall11_df = dataframe(mat_tests['XR'])"
   ]
  },
  {
   "cell_type": "markdown",
   "metadata": {},
   "source": [
    "Prediction using linear regression model"
   ]
  },
  {
   "cell_type": "code",
   "execution_count": 10,
   "metadata": {},
   "outputs": [],
   "source": [
    "# Prediction on the test dataset, Rainfall analysis\n",
    "class prediction():\n",
    "    \n",
    "    def predicting_rainfall(self, X, Y, Z, W):\n",
    "        prediction = []\n",
    "        for row in range(122):\n",
    "            if row < 2:\n",
    "                prediction.append(np.dot(np.array(X.loc[row]), Y) + Z)\n",
    "            else:\n",
    "                #rainfall11_df[W][row-1], rainfall at day - 1\n",
    "                #rainfall11_df[W][row-2], rainfall at day - 2\n",
    "                prediction.append(np.dot(np.array(X.loc[row]), Y) + Z + rainfall11_df[W][row-1] + rainfall11_df[W][row-2])\n",
    "            \n",
    "        return prediction"
   ]
  },
  {
   "cell_type": "code",
   "execution_count": 11,
   "metadata": {},
   "outputs": [],
   "source": [
    "delhi = prediction()\n",
    "mumbai = prediction()\n",
    "kharagpur = prediction()\n",
    "\n",
    "mum_pred = mumbai.predicting_rainfall(rainfall11_df.drop(42, 1), coff_weights[0], constant[0], location[0])\n",
    "del_pred = delhi.predicting_rainfall(rainfall11_df.drop(158, 1), coff_weights[1], constant[1], location[1])\n",
    "kgp_pred = kharagpur.predicting_rainfall(rainfall11_df.drop(299, 1), coff_weights[2], constant[2], location[2])"
   ]
  },
  {
   "cell_type": "code",
   "execution_count": 12,
   "metadata": {},
   "outputs": [
    {
     "name": "stdout",
     "output_type": "stream",
     "text": [
      "Error for data on Mumbai is 88.63079322866871\n",
      "Error for data on Delhi is 35.07074163173628\n",
      "Error for data on kharagpur is 48.19770964494719\n"
     ]
    }
   ],
   "source": [
    "#Calculating the error\n",
    "print ('Error for data on Mumbai is', sqrt(mean_squared_error(mum_pred, list(rainfall11_df[42]))))\n",
    "print ('Error for data on Delhi is', sqrt(mean_squared_error(del_pred, list(rainfall11_df[158]))))\n",
    "print ('Error for data on kharagpur is', sqrt(mean_squared_error(kgp_pred, list(rainfall11_df[299]))))"
   ]
  },
  {
   "cell_type": "markdown",
   "metadata": {},
   "source": [
    "#### 4) Repeat the same process using LASSO linear regression. Using the coefficients, identify the top 5 predictors for each of the 3 locations."
   ]
  },
  {
   "cell_type": "code",
   "execution_count": 13,
   "metadata": {
    "scrolled": true
   },
   "outputs": [
    {
     "name": "stderr",
     "output_type": "stream",
     "text": [
      "/home/moraxella/anaconda3/lib/python3.8/site-packages/sklearn/linear_model/_coordinate_descent.py:529: ConvergenceWarning: Objective did not converge. You might want to increase the number of iterations. Duality gap: 79.19353607982558, tolerance: 14.362556867025141\n",
      "  model = cd_fast.enet_coordinate_descent(\n",
      "/home/moraxella/anaconda3/lib/python3.8/site-packages/sklearn/linear_model/_coordinate_descent.py:529: ConvergenceWarning: Objective did not converge. You might want to increase the number of iterations. Duality gap: 70.53983749824799, tolerance: 2.8048406879295706\n",
      "  model = cd_fast.enet_coordinate_descent(\n",
      "/home/moraxella/anaconda3/lib/python3.8/site-packages/sklearn/linear_model/_coordinate_descent.py:529: ConvergenceWarning: Objective did not converge. You might want to increase the number of iterations. Duality gap: 36.08922948156892, tolerance: 2.2319624113395755\n",
      "  model = cd_fast.enet_coordinate_descent(\n"
     ]
    },
    {
     "data": {
      "text/plain": [
       "Lasso(alpha=0.1)"
      ]
     },
     "execution_count": 13,
     "metadata": {},
     "output_type": "execute_result"
    }
   ],
   "source": [
    "#Reapeating using LASSO\n",
    "mumbai = Lasso(alpha = 0.1)\n",
    "mumbai.fit(rainfall10_df.drop(42, 1),pd.DataFrame(rainfall10_df[42], columns = [42]))\n",
    "\n",
    "delhi = Lasso(alpha = 0.1)\n",
    "delhi.fit(rainfall10_df.drop(158, 1),pd.DataFrame(rainfall10_df[158], columns = [158]))\n",
    "\n",
    "kharagpur = Lasso(alpha = 0.1)\n",
    "kharagpur.fit(rainfall10_df.drop(299, 1),pd.DataFrame(rainfall10_df[299], columns = [299]))"
   ]
  },
  {
   "cell_type": "code",
   "execution_count": 14,
   "metadata": {
    "scrolled": true
   },
   "outputs": [],
   "source": [
    "# Modifying the indices accordingly to the missing columns \n",
    "def top_five(lst, x):\n",
    "    for i in range(len(lst)):\n",
    "        if lst[i] > x:\n",
    "            lst[i] = lst[i] + 1\n",
    "            \n",
    "    return lst"
   ]
  },
  {
   "cell_type": "code",
   "execution_count": 16,
   "metadata": {
    "scrolled": true
   },
   "outputs": [],
   "source": [
    "#Getting top 5 predictors\n",
    "\n",
    "coeff_m = mumbai.coef_\n",
    "index_m = sorted(range(len(coeff_m)), key = lambda i: coeff_m[i], reverse = True)[:5]\n",
    "\n",
    "coeff_d = delhi.coef_\n",
    "index_d = sorted(range(len(coeff_d)), key = lambda i: coeff_d[i], reverse = True)[:5]\n",
    "\n",
    "coeff_k = kharagpur.coef_\n",
    "index_k = sorted(range(len(coeff_k)), key = lambda i: coeff_k[i], reverse = True)[:5]"
   ]
  },
  {
   "cell_type": "code",
   "execution_count": 17,
   "metadata": {},
   "outputs": [
    {
     "name": "stdout",
     "output_type": "stream",
     "text": [
      "Five Most Important Predictor for Mumbai are on indices [25, 63, 40, 130, 200]\n",
      "Five Most Important Predictor for Delhi are on indices [252, 127, 183, 304, 158]\n",
      "Five Most Important Predictor for Kharagpur are on indices [305, 125, 278, 298, 96]\n"
     ]
    }
   ],
   "source": [
    "print ('Five Most Important Predictor for Mumbai are on indices', top_five(index_m, 42))\n",
    "print ('Five Most Important Predictor for Delhi are on indices', top_five(index_d, 158))\n",
    "print ('Five Most Important Predictor for Kharagpur are on indices', top_five(index_k, 299))"
   ]
  },
  {
   "cell_type": "markdown",
   "metadata": {},
   "source": [
    "#### 5) Use Decision Tree on 2010 data to classify each day as 1 or 0 (as given in ZR1). For each day, use the 357-dimensional rainfall vector as feature vector. Report the 10 most discriminative features (i.e. locations) "
   ]
  },
  {
   "cell_type": "code",
   "execution_count": 18,
   "metadata": {},
   "outputs": [],
   "source": [
    "# Getting the data set\n",
    "y_train = mat_train['ZR1'].transpose()"
   ]
  },
  {
   "cell_type": "code",
   "execution_count": 19,
   "metadata": {},
   "outputs": [
    {
     "data": {
      "text/plain": [
       "DecisionTreeClassifier()"
      ]
     },
     "execution_count": 19,
     "metadata": {},
     "output_type": "execute_result"
    }
   ],
   "source": [
    "# Training the Model\n",
    "regressor = DecisionTreeClassifier()\n",
    "regressor.fit(rainfall10_df, y_train)"
   ]
  },
  {
   "cell_type": "code",
   "execution_count": 20,
   "metadata": {},
   "outputs": [
    {
     "name": "stdout",
     "output_type": "stream",
     "text": [
      "Ten most important indices are [184, 252, 163, 26, 204, 159, 65, 172, 69, 0]\n"
     ]
    }
   ],
   "source": [
    "# Getting feature importances\n",
    "imp_feat = regressor.feature_importances_\n",
    "\n",
    "# Picking the values for feature importance\n",
    "index = sorted(range(len(imp_feat)), key=lambda i: imp_feat[i], reverse=True)[:10]\n",
    "print(f\"Ten most important indices are {index}\")"
   ]
  },
  {
   "cell_type": "markdown",
   "metadata": {},
   "source": [
    "#### 6) Use this Decision Tree to classify each day of 2011 as 1 or 0. Report accuracy by comparing with ZR."
   ]
  },
  {
   "cell_type": "code",
   "execution_count": 21,
   "metadata": {},
   "outputs": [],
   "source": [
    "# Getting the data set\n",
    "y_test = mat_tests['ZR'].transpose()\n",
    "\n",
    "# Predicting \n",
    "y_pred = regressor.predict(rainfall11_df)"
   ]
  },
  {
   "cell_type": "code",
   "execution_count": 22,
   "metadata": {},
   "outputs": [
    {
     "data": {
      "text/plain": [
       "array([0, 1, 0, 0, 0, 0, 0, 0, 0, 0, 0, 0, 0, 1, 0, 1, 0, 0, 0, 0, 0, 0,\n",
       "       0, 0, 0, 0, 0, 1, 1, 1, 1, 0, 0, 0, 0, 1, 1, 0, 1, 1, 1, 0, 0, 1,\n",
       "       0, 1, 1, 1, 1, 0, 1, 0, 1, 0, 0, 0, 1, 0, 1, 0, 1, 1, 0, 1, 0, 1,\n",
       "       1, 0, 0, 0, 1, 0, 0, 0, 0, 1, 1, 0, 0, 1, 0, 0, 0, 0, 1, 1, 0, 0,\n",
       "       0, 0, 0, 0, 0, 0, 1, 1, 1, 0, 0, 0, 0, 0, 1, 1, 0, 0, 1, 0, 0, 0,\n",
       "       0, 0, 0, 0, 0, 0, 0, 0, 0, 0, 0, 0], dtype=uint8)"
      ]
     },
     "execution_count": 22,
     "metadata": {},
     "output_type": "execute_result"
    }
   ],
   "source": [
    "y_pred"
   ]
  },
  {
   "cell_type": "code",
   "execution_count": 23,
   "metadata": {},
   "outputs": [
    {
     "name": "stdout",
     "output_type": "stream",
     "text": [
      "Accuracy by comparing the ZR with predicted values of test cases 0.7049180327868853\n"
     ]
    }
   ],
   "source": [
    "#Calculating the accuracy of deision tree\n",
    "acc = accuracy_score(y_test, y_pred)\n",
    "print (\"Accuracy by comparing the ZR with predicted values of test cases\", acc)"
   ]
  }
 ],
 "metadata": {
  "kernelspec": {
   "display_name": "Python 3",
   "language": "python",
   "name": "python3"
  },
  "language_info": {
   "codemirror_mode": {
    "name": "ipython",
    "version": 3
   },
   "file_extension": ".py",
   "mimetype": "text/x-python",
   "name": "python",
   "nbconvert_exporter": "python",
   "pygments_lexer": "ipython3",
   "version": "3.8.3"
  }
 },
 "nbformat": 4,
 "nbformat_minor": 4
}

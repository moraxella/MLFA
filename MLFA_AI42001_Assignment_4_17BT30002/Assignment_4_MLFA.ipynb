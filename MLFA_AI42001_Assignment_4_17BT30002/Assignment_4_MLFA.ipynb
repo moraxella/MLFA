{
  "nbformat": 4,
  "nbformat_minor": 0,
  "metadata": {
    "colab": {
      "name": "Assignment_4_MLFA.ipynb",
      "provenance": [],
      "toc_visible": true
    },
    "kernelspec": {
      "display_name": "Python 3",
      "language": "python",
      "name": "python3"
    },
    "language_info": {
      "codemirror_mode": {
        "name": "ipython",
        "version": 3
      },
      "file_extension": ".py",
      "mimetype": "text/x-python",
      "name": "python",
      "nbconvert_exporter": "python",
      "pygments_lexer": "ipython3",
      "version": "3.7.1"
    }
  },
  "cells": [
    {
      "cell_type": "markdown",
      "metadata": {
        "id": "qQ0E_JyWsuRo"
      },
      "source": [
        "# Assignment 3\n",
        "\n",
        "### Submitted by Udayaditya Pratap Singh, Saransh Gupta, Neel Shah, Lakshya Sharma, Rishabh Surana\n",
        "\n",
        "##### 17BT10026 , 17QM30005, 17QE30006, 17NA30026, 17MT30016"
      ]
    },
    {
      "cell_type": "markdown",
      "metadata": {
        "id": "tcZaRl7aGS6D"
      },
      "source": [
        "Meta Info\n",
        "1. Two files are attached which contain daily rainfall data over India for 2010 and 2011.\n",
        "\n",
        "2. Both contain 357x122 matrix (XR1 and XR) and a binary vector (ZR1 and ZR).\n",
        "\n",
        "3. Rainfall amounts at 357 locations over India, on each day during the monsoon seasons of 2010 and 2011 (122 days from 1 June to 30 September).\n",
        "\n",
        "4. ZR1 and ZR are binary vectors which classify every day as 'rainy\" (1) or non-rainy (0) based on the rainfall across the landmass."
      ]
    },
    {
      "cell_type": "code",
      "metadata": {
        "id": "4tRuvc1oxhO5"
      },
      "source": [
        "import pandas as pd\n",
        "import numpy as np\n",
        "\n",
        "from sklearn import linear_model\n",
        "from sklearn import linear_model as pLM\n",
        "from sklearn.linear_model import LinearRegression\n",
        "from sklearn.tree import DecisionTreeClassifier\n",
        "from sklearn.metrics import mean_squared_error\n",
        "from sklearn.metrics import accuracy_score\n",
        "\n",
        "from sklearn.model_selection import GridSearchCV\n",
        "from sklearn.model_selection import RepeatedKFold\n",
        "\n",
        "import scipy.io"
      ],
      "execution_count": 84,
      "outputs": []
    },
    {
      "cell_type": "markdown",
      "metadata": {
        "id": "fJO5t__CJige"
      },
      "source": [
        "# 1. Read the .mat files in Python and access the variables"
      ]
    },
    {
      "cell_type": "code",
      "metadata": {
        "id": "TYnHQFp3x8we"
      },
      "source": [
        "def make_readable(path):\n",
        "    \"\"\"\n",
        "    path -- i/p string of the path of the .mat file\n",
        "\n",
        "    Return -- Readable Table w/ Locations as rows, dates as column\n",
        "              ## --> First Row = Rainy day or not in India (avgd. over locations)\n",
        "    \"\"\"\n",
        "\n",
        "    # Reading the .mat data\n",
        "    dat_rainfall = scipy.io.loadmat(str(path))\n",
        "    XR = list(dat_rainfall.keys())[-2]\n",
        "    ZR = list(dat_rainfall.keys())[-1]\n",
        "\n",
        "    # XR1 - amount of rainfall at different locations (rows) on different days (columns)\n",
        "    index_XR1 = ['Pos ' + str(day) for day in range(dat_rainfall[str(XR)].shape[0])]\n",
        "    cols_XR1 = [\"Day\" + str(pos_) for pos_ in range(dat_rainfall[str(XR)].shape[1])]\n",
        "\n",
        "    dat_XR1 = pd.DataFrame(data=dat_rainfall[str(XR)],\n",
        "                            index=index_XR1, columns=cols_XR1)\n",
        "\n",
        "    # ZR1 - classification of location as Rainy/Non-Rainy\n",
        "    cols_ZR1 = ['Day' + str(day) for day in range(dat_rainfall[str(ZR)].shape[1])]\n",
        "    index_ZR1 = [\"Rainy / Not\"]\n",
        "\n",
        "    dat_ZR1 = pd.DataFrame(data=dat_rainfall[str(ZR)],\n",
        "                                index=index_ZR1, columns=cols_ZR1)\n",
        "\n",
        "    table_ = dat_ZR1.copy()\n",
        "    table_ = table_.append(dat_XR1)\n",
        "    table_.iloc[0].apply(int)\n",
        "\n",
        "    return table_.T"
      ],
      "execution_count": null,
      "outputs": []
    },
    {
      "cell_type": "code",
      "metadata": {
        "id": "X3MMiS0bEY2f",
        "outputId": "5e589874-caae-40b9-f3cc-a97b27ef108b",
        "colab": {
          "base_uri": "https://localhost:8080/",
          "height": 526
        }
      },
      "source": [
        "# table_2010 = make_readable(\"/content/2010rainfall.mat\")\n",
        "# table_2011 = make_readable(\"/content/2011rainfall.mat\")\n",
        "\n",
        "table_2010 = make_readable(\"2010rainfall.mat\")\n",
        "table_2011 = make_readable(\"2011rainfall.mat\")\n",
        "\n",
        "\"\"\"\n",
        "## Uncomment to show\n",
        "xx = table_2010.drop(['Pos 1'], axis = 1)\n",
        "np.array(xx)\n",
        "print(xx)\n",
        "\"\"\"\n",
        "print(table_2010)\n",
        "print(table_2011)"
      ],
      "execution_count": 68,
      "outputs": [
        {
          "output_type": "stream",
          "text": [
            "        Rainy / Not  Pos 0  Pos 1  ...  Pos 354  Pos 355  Pos 356\n",
            "Day0            0.0    0.0    0.0  ...      0.0      0.0      0.0\n",
            "Day1            0.0    0.0    0.0  ...      0.0      0.0      0.0\n",
            "Day2            0.0    0.0    0.0  ...      0.0      0.0      0.0\n",
            "Day3            0.0    0.0    0.0  ...      0.0      0.0      0.0\n",
            "Day4            0.0    0.0    0.0  ...      0.0      0.0      0.0\n",
            "...             ...    ...    ...  ...      ...      ...      ...\n",
            "Day117          0.0    0.0    0.0  ...      0.0      0.0      0.0\n",
            "Day118          0.0    0.0    0.0  ...      0.0      0.0      0.0\n",
            "Day119          0.0    0.0    0.0  ...      0.0      0.0      0.0\n",
            "Day120          0.0    0.0    0.0  ...      0.0      0.0      0.0\n",
            "Day121          0.0    0.0    0.0  ...      0.0      0.0      0.0\n",
            "\n",
            "[122 rows x 358 columns]\n",
            "        Rainy / Not  Pos 0  Pos 1  ...    Pos 354  Pos 355    Pos 356\n",
            "Day0            0.0    0.0    0.0  ...  34.099998      0.0  17.049999\n",
            "Day1            0.0    0.0    0.0  ...  12.400000      0.0   6.200000\n",
            "Day2            0.0    0.0    0.0  ...  17.000000      0.0   8.499999\n",
            "Day3            0.0    0.0    0.0  ...  68.500000      0.0  34.250000\n",
            "Day4            0.0    0.0    0.0  ...   6.099999      0.0   3.050000\n",
            "...             ...    ...    ...  ...        ...      ...        ...\n",
            "Day117          0.0    0.0    0.0  ...  15.900000      0.0   7.950000\n",
            "Day118          0.0    0.0    0.0  ...   0.200000      0.0   0.100000\n",
            "Day119          0.0    0.0    0.0  ...   1.000000      0.0   0.500000\n",
            "Day120          0.0    0.0    0.0  ...   0.000000      0.0   0.000000\n",
            "Day121          0.0    0.0    0.0  ...   0.000000      0.0   0.000000\n",
            "\n",
            "[122 rows x 358 columns]\n"
          ],
          "name": "stdout"
        }
      ]
    },
    {
      "cell_type": "markdown",
      "metadata": {
        "id": "4tkhQxfOJu0Y"
      },
      "source": [
        "# Linear regression\n",
        "\n",
        "Use a linear regression model to predict the rainfall **XR(s,t)** at any location 's' on day 't', \n",
        "\n",
        "__Predictor:__\n",
        "\n",
        "---> using the rainfall at all other locations on the same day, and also rainfall at the same location on the previous 2 days \n",
        "\n",
        "[XR(1,t)....XR(s-1,t), XR(s+1,t),....XR(357,t), XR(s,t-1), XR(s,t-2)].\n",
        "\n",
        "***Use 2010 data for training***"
      ]
    },
    {
      "cell_type": "markdown",
      "metadata": {
        "id": "J9FcDww8Juww"
      },
      "source": [
        "Build such a model for s=42 (Mumbai), s=158 (Delhi), s= 299 (Kharagpur) [3 marks]"
      ]
    },
    {
      "cell_type": "code",
      "metadata": {
        "id": "_IQZlRgXvI1Q"
      },
      "source": [
        "def linReg_output(city, train=table_2010, test=table_2011, day=None,\n",
        "                  print_=False, debug=False):\n",
        "    \"\"\"Input\n",
        "    city -- the numerical index of the city for which linear model\n",
        "    has to be applied\n",
        "    train -- training data, 2010 by default\n",
        "    test -- testing data, 2011 by default\n",
        "    day -- predicted rainfall for specific day. Prints for all day by default\n",
        "           values fromm 0 to 121, whole numbers\n",
        "    print_ -- False by deafault, to directly output the predicted values\n",
        "\n",
        "    Output\n",
        "    prints the predicted\n",
        "    Returns an array of the predicted value, or the predicted value for a\n",
        "    particular day\n",
        "    \"\"\"\n",
        "\n",
        "    position = \"Pos \" + str(city)\n",
        "    model = LinearRegression()\n",
        "\n",
        "    y_train = train[position]\n",
        "    y_test = test[position]\n",
        "\n",
        "    model.fit(table_2010.drop([\"Rainy / Not\", position], axis = 1),\n",
        "              y_train)\n",
        "    y_pred = model.predict(table_2011.drop([\"Rainy / Not\", position], axis = 1))\n",
        "    \n",
        "    # convert negative values to zeroes -- since rainfall cannot be -ve\n",
        "    y_pred[y_pred < 0] = 0\n",
        "\n",
        "    if debug:\n",
        "        print(\"Y train:\")\n",
        "        print(y_train)\n",
        "        print(\"Y Test:\")\n",
        "        print(y_test)\n",
        "\n",
        "    # predicted rainfall on that position using rainfall at other areas\n",
        "    if day == None:\n",
        "        if print_:\n",
        "            print(y_pred)\n",
        "        return y_pred\n",
        "    elif day < 121 and day >= 0:\n",
        "        if print_:\n",
        "            print(y_pred[day])\n",
        "        return y_pred[day]\n"
      ],
      "execution_count": 45,
      "outputs": []
    },
    {
      "cell_type": "markdown",
      "metadata": {
        "id": "WT-u_LFWqojn"
      },
      "source": [
        "## Mumbai"
      ]
    },
    {
      "cell_type": "code",
      "metadata": {
        "id": "3d50ktUbyMxV",
        "outputId": "24885249-6ca8-4105-a6fa-3ce5f1393287",
        "colab": {
          "base_uri": "https://localhost:8080/",
          "height": 471
        }
      },
      "source": [
        "predictionM = linReg_output(42, print_=True)  # Mumbai\n",
        "\n",
        "#predictionMD = linReg_output(42, day=0)  # predicted rainfall on specific day"
      ],
      "execution_count": 46,
      "outputs": [
        {
          "output_type": "stream",
          "text": [
            "[  0.          26.04124861  27.04342057  29.72509527  37.90413453\n",
            "  38.19533216  11.19751914   0.           3.67325741  33.46861844\n",
            "  27.48747153  85.05117479  21.80118699   0.          38.10481485\n",
            "  26.71181782  39.23433859   4.20465102   4.57621885  32.67185245\n",
            "  12.24020787   0.          92.49502431  34.0030677   19.52161146\n",
            "   5.59918458  23.19852267  31.57620104  39.20122693   0.\n",
            "   0.           0.          17.74660184   2.51062485   6.66940471\n",
            "   0.          31.96901642  85.57671459  59.38005476  50.96271968\n",
            "  39.80882305  37.07181237  55.24995741  97.68432386  95.98351282\n",
            "  54.04706493 100.94082109  71.62331288  54.85509708  59.70307215\n",
            "   0.           5.49150421  30.33115338  24.20773468  29.89277014\n",
            "  36.86064519  25.43139535  16.45919801  78.21916037  97.30600229\n",
            " 145.80589301  80.54401439  43.86289217  22.7227939   42.34832559\n",
            "  45.42768336  34.74324285   8.72220483  25.3031582   33.74768745\n",
            "  13.11092218  21.76388768  23.65945479  40.44990865  15.10239502\n",
            "   0.          10.77813382  25.59492589   0.          31.27359817\n",
            "  14.70963808  19.42716529  13.61691857   3.58284368  26.90074735\n",
            "  50.63422911  37.92373827  74.23258629 153.98092091 170.91386369\n",
            "  47.87382786  24.31200267   3.08964301  68.14713051  26.3460222\n",
            "  51.58625906   0.           6.12025402  60.75007016   1.54767933\n",
            "  22.76601196   0.          22.68981941  56.35864168  17.82422649\n",
            "   7.95110574   0.          15.23826461  14.4507086    6.66990477\n",
            "   0.           0.          17.65248261   5.75407199  12.56089918\n",
            "  27.18202628  44.48764655   0.           1.76968844   0.95361824\n",
            "   5.82754747   2.60312706]\n"
          ],
          "name": "stdout"
        }
      ]
    },
    {
      "cell_type": "markdown",
      "metadata": {
        "id": "GD0esUxsqokC"
      },
      "source": [
        "## Delhi"
      ]
    },
    {
      "cell_type": "code",
      "metadata": {
        "id": "iBpFkcdVqokK",
        "outputId": "09d57c28-f103-4cca-9dd3-00b31deadbf0",
        "colab": {
          "base_uri": "https://localhost:8080/",
          "height": 399
        }
      },
      "source": [
        "predictionD = linReg_output(158, print_=True)  # Delhi"
      ],
      "execution_count": 49,
      "outputs": [
        {
          "output_type": "stream",
          "text": [
            "[ 0.          0.          3.19605794  4.66160967  1.83962681  0.19076494\n",
            "  0.          4.15009866  0.          2.8750577   5.08696452  5.32043195\n",
            "  0.          6.89885101  5.8164108  13.36282089  4.26787851 21.46575303\n",
            " 34.65605763 32.92636666 14.93005213  0.69108023 14.84077762  7.16741624\n",
            "  1.60346721 11.85368041 23.12458408 29.67407984 19.05545864 28.04925477\n",
            "  1.07351323  0.49178857  4.7199511   2.99967732  2.85041903  8.10054442\n",
            "  0.          6.77465498  6.88599997 11.27768066  2.92685282  0.\n",
            "  0.          0.          0.         21.19027853 13.5876887  16.56896219\n",
            "  9.20800095  0.94463993  7.72957811 22.1246005   8.2804662   5.95556162\n",
            "  8.34158299  1.11868007  0.          0.89817227  6.29339139  0.\n",
            "  0.         21.4040531   3.76889756  0.          3.28856329  0.\n",
            " 26.27241658 24.15488007 27.12742429 11.98526099 10.37904431 15.82631576\n",
            "  6.86629487  7.13781212 29.71849366 20.30900176  0.          0.\n",
            "  0.          8.31886418  0.          5.76116896  0.          2.60349837\n",
            " 25.07167493 20.05568838 11.11564863  1.63682245  7.24686959  6.60391048\n",
            "  1.82822457  2.34103956  1.44251871  0.51604427 18.49659502 27.82372285\n",
            " 11.83064435  4.72336667  0.         13.90925051 16.17260185  3.96227817\n",
            " 12.15388834  8.19728414  0.          9.58575943 16.52621064 30.67282218\n",
            "  5.46777425  4.43340395  9.43941312  0.          3.45994093  0.\n",
            " 22.56535954 23.76627254 23.71051753  7.67493124  0.49062693  0.5768456\n",
            "  0.          0.        ]\n"
          ],
          "name": "stdout"
        }
      ]
    },
    {
      "cell_type": "markdown",
      "metadata": {
        "id": "Z3_J6XdJqokj"
      },
      "source": [
        "## Kharagpur"
      ]
    },
    {
      "cell_type": "code",
      "metadata": {
        "id": "2VkdmaVDqokq",
        "outputId": "9477bec5-a59e-4d33-d60d-8ed8d02d0e64",
        "colab": {
          "base_uri": "https://localhost:8080/",
          "height": 580
        }
      },
      "source": [
        "predictionK = linReg_output(299, print_=True)  # Kharagpur"
      ],
      "execution_count": 50,
      "outputs": [
        {
          "output_type": "stream",
          "text": [
            "[1.46498563e+01 1.46623371e+01 8.28268800e+00 3.95645224e+00\n",
            " 1.68116850e+00 1.00145964e+01 8.28948664e+00 8.10127785e+00\n",
            " 8.89069864e+00 4.10650074e+00 2.11272396e+01 7.17916663e+00\n",
            " 5.38144583e+00 1.63445153e+00 1.33651525e+01 1.89424028e+01\n",
            " 1.84198478e+01 3.64433987e+01 1.10992675e+01 0.00000000e+00\n",
            " 1.69060521e+01 1.27283193e+01 0.00000000e+00 4.98608099e+00\n",
            " 8.67863727e+00 2.34178255e+01 1.19598730e+01 2.00761762e+01\n",
            " 0.00000000e+00 1.85930539e+01 1.97613378e-02 5.33561903e+00\n",
            " 9.66421386e+00 1.78521378e+01 0.00000000e+00 0.00000000e+00\n",
            " 1.34678997e+01 3.21321879e+00 0.00000000e+00 1.18014589e+01\n",
            " 0.00000000e+00 5.83349711e+00 0.00000000e+00 1.67319201e+01\n",
            " 3.75413257e+00 1.52517721e+01 1.21585181e+01 1.05071132e+01\n",
            " 9.38099362e+00 3.64113716e+00 1.65067388e+01 1.77050073e+01\n",
            " 1.59229063e-01 0.00000000e+00 5.00868386e-01 6.48044138e+00\n",
            " 0.00000000e+00 1.98381282e+01 0.00000000e+00 4.28413850e+00\n",
            " 0.00000000e+00 9.78851443e-01 8.01267102e+00 1.71719157e+01\n",
            " 1.52711464e+01 0.00000000e+00 7.37329950e+00 8.71288934e+00\n",
            " 9.07041543e+00 1.15332073e+01 6.20215551e-01 2.53647875e+01\n",
            " 1.82942059e+01 8.32655655e+00 0.00000000e+00 2.21799711e+01\n",
            " 2.77379773e+01 1.54525637e+01 5.42895042e+00 1.23414143e+00\n",
            " 0.00000000e+00 0.00000000e+00 0.00000000e+00 7.22042018e+00\n",
            " 0.00000000e+00 0.00000000e+00 1.22159325e+01 7.45820764e+00\n",
            " 1.52098862e+01 1.83567716e+01 1.47901736e+01 9.38390024e+00\n",
            " 1.86449903e+01 8.02346391e+00 1.76503479e+01 6.52549460e+00\n",
            " 2.49279423e+01 2.06437221e+01 1.11129081e+01 1.75434940e+01\n",
            " 2.20421558e+00 2.47083112e+01 1.77512741e-01 4.99069711e+00\n",
            " 9.81580241e+00 1.42805493e+01 3.40103652e+01 1.09379636e+01\n",
            " 1.93991144e+00 3.71798414e+00 6.85633764e+00 1.23439111e+01\n",
            " 9.57591933e+00 3.52454854e+01 1.49133858e+01 7.35087594e+00\n",
            " 0.00000000e+00 3.55622533e+00 0.00000000e+00 0.00000000e+00\n",
            " 0.00000000e+00 0.00000000e+00]\n"
          ],
          "name": "stdout"
        }
      ]
    },
    {
      "cell_type": "markdown",
      "metadata": {
        "id": "o20LXgOMJuus"
      },
      "source": [
        "# Predict the rainfall -- 2011\n",
        "\n",
        "Use the same model to predict the rainfall at these 3 locations on each day of 2011.  Use values in XR as predictors. Compare the results with the true values and compute error for 3 locations separately. [1 marks]"
      ]
    },
    {
      "cell_type": "code",
      "metadata": {
        "id": "78-FJ3_uqolD",
        "outputId": "9d85c3a4-af0e-4e41-aa7b-4d2c9dba9ba1",
        "colab": {
          "base_uri": "https://localhost:8080/",
          "height": 72
        }
      },
      "source": [
        "desired_pos = [42, 158, 299]\n",
        "des = ['Mumbai', 'Delhi', 'Kharagpur']\n",
        "\n",
        "k=0\n",
        "for i in desired_pos:\n",
        "    y_pred = linReg_output(i)\n",
        "    y_test = table_2011[\"Pos \" + str(i)]\n",
        "    print(mean_squared_error(y_test, y_pred), ' ||  for position:', des[k])\n",
        "    k+=1"
      ],
      "execution_count": 71,
      "outputs": [
        {
          "output_type": "stream",
          "text": [
            "651.0217026284423  ||  for position: Mumbai\n",
            "150.43316600138652  ||  for position: Delhi\n",
            "224.43552088327226  ||  for position: Kharagpur\n"
          ],
          "name": "stdout"
        }
      ]
    },
    {
      "cell_type": "markdown",
      "metadata": {
        "id": "FAnAcy90Jusm"
      },
      "source": [
        "# Predictor using LASSO\n",
        "\n",
        "Repeat the same process using LASSO linear regression. Using the coefficients, identify the top 5 predictors for each of the 3 locations. [2 marks]"
      ]
    },
    {
      "cell_type": "code",
      "metadata": {
        "id": "PcsIV4pgqolc",
        "outputId": "03cbb16f-1a1e-4ec6-fca6-d67263deb0a4",
        "colab": {
          "base_uri": "https://localhost:8080/",
          "height": 53
        }
      },
      "source": [
        "\"\"\"Search for better alpha for lasso\"\"\"\n",
        "# !!! This cell takes long to run\n",
        "\n",
        "position = \"Pos 42\"\n",
        "\n",
        "model = linear_model.Lasso()\n",
        "y_train = table_2010[position]\n",
        "\n",
        "# define model evaluation method\n",
        "cv = RepeatedKFold(n_splits=10, n_repeats=3, random_state=1)\n",
        "# define grid\n",
        "grid = dict()\n",
        "grid['alpha'] = np.arange(0, 1, 0.01)\n",
        "\n",
        "# define search\n",
        "search = GridSearchCV(model, grid, scoring='neg_mean_absolute_error',\n",
        "                      cv=cv, n_jobs=-1)\n",
        "# perform the search\n",
        "results = search.fit(table_2010.drop([\"Rainy / Not\", position], axis = 1),\n",
        "                     y_train)\n",
        "\n",
        "# summarize\n",
        "print('MAE: %.3f' % results.best_score_)\n",
        "print('Config: %s' % results.best_params_)"
      ],
      "execution_count": 104,
      "outputs": [
        {
          "output_type": "stream",
          "text": [
            "MAE: -10.494\n",
            "Config: {'alpha': 0.99}\n"
          ],
          "name": "stdout"
        }
      ]
    },
    {
      "cell_type": "code",
      "metadata": {
        "id": "PaoIvr3uVKC5"
      },
      "source": [
        "def top5LASSO(position, train=table_2010, test=table_2011, alpha=0.99):\n",
        "\n",
        "    position = \"Pos \" + str(position)\n",
        "    model = linear_model.Lasso(alpha=alpha)\n",
        "    y_train = train[position]\n",
        "    model.fit(train.drop([\"Rainy / Not\", position], axis = 1), y_train)\n",
        "    y_pred = model.predict(test.drop([\"Rainy / Not\", position],axis = 1))\n",
        "\n",
        "    list1 = model.coef_.tolist()\n",
        "\n",
        "    impFeatures = []\n",
        "    idxFeatures = []\n",
        "    for i in range(5):\n",
        "        imp = list1[max(range(len(list1)), key=list1.__getitem__)]\n",
        "        idx = max(range(len(list1)), key=list1.__getitem__)\n",
        "        impFeatures.append(imp)\n",
        "        idxFeatures.append('Pos' + str(idx))\n",
        "        list1[idx] = 0\n",
        "\n",
        "    print(\"For \", str(position))\n",
        "    print(\"-------------------------------\")\n",
        "    print(\"5 Most important feature are at = \", idxFeatures)\n",
        "    print(\"They are: \", impFeatures)    "
      ],
      "execution_count": 128,
      "outputs": []
    },
    {
      "cell_type": "markdown",
      "metadata": {
        "id": "tkALjQXJWYZB"
      },
      "source": [
        "## MUMBAI"
      ]
    },
    {
      "cell_type": "code",
      "metadata": {
        "id": "j_U3ElRuV5q-",
        "outputId": "850a21ff-86eb-4c42-8185-9aa1178a3754",
        "colab": {
          "base_uri": "https://localhost:8080/",
          "height": 90
        }
      },
      "source": [
        "top5LASSO(42)  # MUMBAI"
      ],
      "execution_count": 129,
      "outputs": [
        {
          "output_type": "stream",
          "text": [
            "For  Pos 42\n",
            "-------------------------------\n",
            "5 Most important feature are at =  ['Pos26', 'Pos25', 'Pos47', 'Pos92', 'Pos90']\n",
            "They are:  [0.5780270842974066, 0.35411317581165186, 0.3168822235889204, 0.25995559376008776, 0.24819354662788365]\n"
          ],
          "name": "stdout"
        }
      ]
    },
    {
      "cell_type": "markdown",
      "metadata": {
        "id": "L_ng2cbNWbY8"
      },
      "source": [
        "## DELHI"
      ]
    },
    {
      "cell_type": "code",
      "metadata": {
        "id": "SjvPdKO_WMp0",
        "outputId": "efb922ec-6328-45b4-e442-c76690a6064e",
        "colab": {
          "base_uri": "https://localhost:8080/",
          "height": 90
        }
      },
      "source": [
        "top5LASSO(158)  # DELHI"
      ],
      "execution_count": 131,
      "outputs": [
        {
          "output_type": "stream",
          "text": [
            "For  Pos 158\n",
            "-------------------------------\n",
            "5 Most important feature are at =  ['Pos131', 'Pos74', 'Pos153', 'Pos202', 'Pos73']\n",
            "They are:  [0.19749291884217077, 0.15965531926302298, 0.15717432461477387, 0.15668626221270335, 0.12116118722861387]\n"
          ],
          "name": "stdout"
        }
      ]
    },
    {
      "cell_type": "markdown",
      "metadata": {
        "id": "LJS3Re5-WfEl"
      },
      "source": [
        "## KHARAGPUR"
      ]
    },
    {
      "cell_type": "code",
      "metadata": {
        "id": "gzN8AbbfWfv1",
        "outputId": "71aa7e7d-cbdf-4a50-c2ac-32fe85723368",
        "colab": {
          "base_uri": "https://localhost:8080/",
          "height": 90
        }
      },
      "source": [
        "top5LASSO(299)  # KHARAGPUR"
      ],
      "execution_count": 132,
      "outputs": [
        {
          "output_type": "stream",
          "text": [
            "For  Pos 299\n",
            "-------------------------------\n",
            "5 Most important feature are at =  ['Pos50', 'Pos298', 'Pos210', 'Pos291', 'Pos123']\n",
            "They are:  [0.2187413500717578, 0.18356586231336616, 0.16590108575683313, 0.14663914749747822, 0.10425555408016629]\n"
          ],
          "name": "stdout"
        }
      ]
    },
    {
      "cell_type": "markdown",
      "metadata": {
        "id": "sHU5EtxVJup7"
      },
      "source": [
        "# Decision Tree\n",
        "\n",
        "Use Decision Tree on 2010 data to classify each day as 1 or 0 (as given in ZR1). For each day, use the 357-dimensional rainfall vector as feature vector. Report the 10 most discriminative features (i.e. locations) [3 marks]"
      ]
    },
    {
      "cell_type": "code",
      "metadata": {
        "id": "Esv4IOCHqomC"
      },
      "source": [
        "y_train = table_2010['Rainy / Not']\n",
        "x_train = table_2010[table_2010.columns[1:]]\n",
        "\n",
        "clf = DecisionTreeClassifier()\n",
        "clf.fit(x_train, y_train)\n",
        "feat_importance = clf.tree_.compute_feature_importances(normalize=False)\n",
        "# print(\"feat importance = \" + str(feat_importance))\n",
        "important_feature = []\n",
        "for i in range(len(feat_importance)):\n",
        "    if feat_importance[i]>0:\n",
        "        important_feature.append(table_2010.columns[i+1])"
      ],
      "execution_count": 133,
      "outputs": []
    },
    {
      "cell_type": "code",
      "metadata": {
        "id": "J0zNKMXwqomS",
        "outputId": "a73f55be-a457-4906-c48f-db1f58cf1fda",
        "colab": {
          "base_uri": "https://localhost:8080/",
          "height": 181
        }
      },
      "source": [
        "important_feature"
      ],
      "execution_count": 134,
      "outputs": [
        {
          "output_type": "execute_result",
          "data": {
            "text/plain": [
              "['Pos 26',\n",
              " 'Pos 43',\n",
              " 'Pos 159',\n",
              " 'Pos 161',\n",
              " 'Pos 184',\n",
              " 'Pos 205',\n",
              " 'Pos 252',\n",
              " 'Pos 260',\n",
              " 'Pos 349']"
            ]
          },
          "metadata": {
            "tags": []
          },
          "execution_count": 134
        }
      ]
    },
    {
      "cell_type": "code",
      "metadata": {
        "id": "iA-jEcj4qomn",
        "outputId": "ccbda477-f238-49a5-c44c-4e6b8dd15ab6",
        "colab": {
          "base_uri": "https://localhost:8080/",
          "height": 162
        }
      },
      "source": [
        "x_train = table_2010[important_feature]\n",
        "clf = DecisionTreeClassifier()\n",
        "clf.fit(x_train, y_train)\n",
        "y_t_pred = clf.predict(x_train)\n",
        "y_t_pred"
      ],
      "execution_count": 135,
      "outputs": [
        {
          "output_type": "execute_result",
          "data": {
            "text/plain": [
              "array([0., 0., 0., 0., 0., 0., 0., 0., 0., 0., 0., 0., 0., 0., 0., 0., 0.,\n",
              "       0., 0., 0., 0., 0., 0., 0., 0., 0., 0., 0., 0., 0., 0., 0., 0., 1.,\n",
              "       1., 1., 1., 0., 0., 0., 0., 1., 0., 0., 0., 0., 0., 0., 1., 1., 1.,\n",
              "       1., 1., 1., 1., 1., 1., 0., 0., 1., 1., 1., 1., 1., 0., 0., 0., 0.,\n",
              "       0., 0., 0., 0., 0., 1., 1., 0., 0., 0., 0., 1., 0., 1., 0., 0., 0.,\n",
              "       1., 1., 1., 0., 0., 0., 0., 0., 0., 0., 0., 1., 0., 0., 1., 1., 1.,\n",
              "       0., 0., 0., 0., 0., 1., 0., 1., 1., 0., 0., 0., 0., 0., 0., 0., 0.,\n",
              "       0., 0., 0.])"
            ]
          },
          "metadata": {
            "tags": []
          },
          "execution_count": 135
        }
      ]
    },
    {
      "cell_type": "code",
      "metadata": {
        "id": "xonr7Z5Iqom1",
        "outputId": "5052c485-fc52-4376-83f1-bf06f17e3b4e",
        "colab": {
          "base_uri": "https://localhost:8080/",
          "height": 35
        }
      },
      "source": [
        "print(accuracy_score(y_train,y_t_pred))"
      ],
      "execution_count": 136,
      "outputs": [
        {
          "output_type": "stream",
          "text": [
            "1.0\n"
          ],
          "name": "stdout"
        }
      ]
    },
    {
      "cell_type": "markdown",
      "metadata": {
        "id": "GfAhF86FLIxU"
      },
      "source": [
        "# Classification Using Decision Tree\n",
        "Use this Decision Tree to classify each day of 2011 as 1 or 0. Report accuracy by comparing with ZR. [1 mark]"
      ]
    },
    {
      "cell_type": "code",
      "metadata": {
        "id": "2LIwMT9mLC94",
        "outputId": "1e7ba3c6-7cea-4ac1-b9e7-69f3c7e42564",
        "colab": {
          "base_uri": "https://localhost:8080/",
          "height": 162
        }
      },
      "source": [
        "x_test = table_2011[important_feature]\n",
        "y_test = table_2010['Rainy / Not']\n",
        "y_pred = clf.predict(x_test)\n",
        "y_pred"
      ],
      "execution_count": 137,
      "outputs": [
        {
          "output_type": "execute_result",
          "data": {
            "text/plain": [
              "array([0., 1., 0., 0., 0., 0., 0., 0., 0., 0., 0., 0., 0., 0., 0., 1., 0.,\n",
              "       0., 0., 0., 0., 0., 0., 0., 0., 0., 0., 0., 0., 0., 1., 0., 0., 1.,\n",
              "       0., 1., 0., 0., 1., 1., 0., 0., 0., 1., 0., 1., 1., 1., 1., 0., 1.,\n",
              "       0., 0., 0., 0., 0., 1., 0., 1., 0., 1., 1., 0., 0., 0., 1., 1., 0.,\n",
              "       0., 0., 1., 0., 0., 0., 0., 1., 1., 0., 0., 0., 0., 0., 0., 0., 0.,\n",
              "       0., 0., 0., 0., 0., 0., 0., 0., 0., 0., 1., 1., 0., 0., 1., 0., 0.,\n",
              "       1., 1., 0., 0., 1., 0., 0., 0., 0., 0., 0., 0., 0., 0., 0., 0., 0.,\n",
              "       0., 0., 0.])"
            ]
          },
          "metadata": {
            "tags": []
          },
          "execution_count": 137
        }
      ]
    },
    {
      "cell_type": "code",
      "metadata": {
        "id": "kdHCEhgkqonY",
        "outputId": "8639443a-482b-4841-e241-898a60cadf74",
        "colab": {
          "base_uri": "https://localhost:8080/",
          "height": 35
        }
      },
      "source": [
        "print(accuracy_score(y_test,y_pred))"
      ],
      "execution_count": 138,
      "outputs": [
        {
          "output_type": "stream",
          "text": [
            "0.6475409836065574\n"
          ],
          "name": "stdout"
        }
      ]
    },
    {
      "cell_type": "code",
      "metadata": {
        "id": "E6A2-rGsXGqi"
      },
      "source": [
        ""
      ],
      "execution_count": null,
      "outputs": []
    }
  ]
}
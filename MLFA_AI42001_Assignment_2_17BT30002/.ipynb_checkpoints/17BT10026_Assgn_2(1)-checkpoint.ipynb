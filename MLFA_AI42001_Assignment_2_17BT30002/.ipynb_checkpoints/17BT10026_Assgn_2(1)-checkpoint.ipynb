{
 "cells": [
  {
   "cell_type": "markdown",
   "metadata": {
    "colab_type": "text",
    "id": "lAJpp9GqfsdM"
   },
   "source": [
    "# Problem Statement\n",
    "Consider the attached dataset about *advertising and sales*. The attributes denote the investments on advertising in TV, radio etc and the target variable is the **total sales**. \n",
    "\n",
    "AIM: to predict the sales from the investments on advertising."
   ]
  },
  {
   "cell_type": "markdown",
   "metadata": {
    "colab_type": "text",
    "id": "MdYmTO1DiuZn"
   },
   "source": [
    "## 0. Prelimenary Work"
   ]
  },
  {
   "cell_type": "markdown",
   "metadata": {
    "colab_type": "text",
    "id": "O3ClNfyAmEXM"
   },
   "source": [
    "### 0.1. Importing Libraries and Reading the Data"
   ]
  },
  {
   "cell_type": "code",
   "execution_count": null,
   "metadata": {
    "colab": {},
    "colab_type": "code",
    "id": "GSFUvNdkhquc"
   },
   "outputs": [],
   "source": [
    "# Importing relevant libraries\n",
    "\n",
    "import pandas as pd\n",
    "import numpy as np\n",
    "\n",
    "import random\n",
    "\n",
    "from sklearn import linear_model as pLM\n",
    "from sklearn.datasets import make_regression\n",
    "from matplotlib import pyplot as plt\n",
    "from sklearn.linear_model import Lasso"
   ]
  },
  {
   "cell_type": "code",
   "execution_count": null,
   "metadata": {
    "colab": {},
    "colab_type": "code",
    "id": "_blw1v29iy95"
   },
   "outputs": [],
   "source": [
    "# Reading the csv data\n",
    "data = pd.read_csv(\"/content/Advertising Dataset.csv\")"
   ]
  },
  {
   "cell_type": "code",
   "execution_count": null,
   "metadata": {
    "colab": {
     "base_uri": "https://localhost:8080/",
     "height": 206
    },
    "colab_type": "code",
    "id": "iloynEQEjkKQ",
    "outputId": "3ee4933b-71d5-4510-f452-aa203d97cde6"
   },
   "outputs": [
    {
     "data": {
      "text/html": [
       "<div>\n",
       "<style scoped>\n",
       "    .dataframe tbody tr th:only-of-type {\n",
       "        vertical-align: middle;\n",
       "    }\n",
       "\n",
       "    .dataframe tbody tr th {\n",
       "        vertical-align: top;\n",
       "    }\n",
       "\n",
       "    .dataframe thead th {\n",
       "        text-align: right;\n",
       "    }\n",
       "</style>\n",
       "<table border=\"1\" class=\"dataframe\">\n",
       "  <thead>\n",
       "    <tr style=\"text-align: right;\">\n",
       "      <th></th>\n",
       "      <th>Unnamed: 0</th>\n",
       "      <th>TV</th>\n",
       "      <th>radio</th>\n",
       "      <th>newspaper</th>\n",
       "      <th>sales</th>\n",
       "    </tr>\n",
       "  </thead>\n",
       "  <tbody>\n",
       "    <tr>\n",
       "      <th>0</th>\n",
       "      <td>1</td>\n",
       "      <td>230.1</td>\n",
       "      <td>37.8</td>\n",
       "      <td>69.2</td>\n",
       "      <td>22.1</td>\n",
       "    </tr>\n",
       "    <tr>\n",
       "      <th>1</th>\n",
       "      <td>2</td>\n",
       "      <td>44.5</td>\n",
       "      <td>39.3</td>\n",
       "      <td>45.1</td>\n",
       "      <td>10.4</td>\n",
       "    </tr>\n",
       "    <tr>\n",
       "      <th>2</th>\n",
       "      <td>3</td>\n",
       "      <td>17.2</td>\n",
       "      <td>45.9</td>\n",
       "      <td>69.3</td>\n",
       "      <td>9.3</td>\n",
       "    </tr>\n",
       "    <tr>\n",
       "      <th>3</th>\n",
       "      <td>4</td>\n",
       "      <td>151.5</td>\n",
       "      <td>41.3</td>\n",
       "      <td>58.5</td>\n",
       "      <td>18.5</td>\n",
       "    </tr>\n",
       "    <tr>\n",
       "      <th>4</th>\n",
       "      <td>5</td>\n",
       "      <td>180.8</td>\n",
       "      <td>10.8</td>\n",
       "      <td>58.4</td>\n",
       "      <td>12.9</td>\n",
       "    </tr>\n",
       "  </tbody>\n",
       "</table>\n",
       "</div>"
      ],
      "text/plain": [
       "   Unnamed: 0     TV  radio  newspaper  sales\n",
       "0           1  230.1   37.8       69.2   22.1\n",
       "1           2   44.5   39.3       45.1   10.4\n",
       "2           3   17.2   45.9       69.3    9.3\n",
       "3           4  151.5   41.3       58.5   18.5\n",
       "4           5  180.8   10.8       58.4   12.9"
      ]
     },
     "execution_count": 3,
     "metadata": {
      "tags": []
     },
     "output_type": "execute_result"
    }
   ],
   "source": [
    "data.head()"
   ]
  },
  {
   "cell_type": "code",
   "execution_count": null,
   "metadata": {
    "colab": {
     "base_uri": "https://localhost:8080/",
     "height": 181
    },
    "colab_type": "code",
    "id": "83Tsq7ZcjPA8",
    "outputId": "279bfb20-64d8-44cd-8003-4d456cee7d57"
   },
   "outputs": [
    {
     "name": "stdout",
     "output_type": "stream",
     "text": [
      "       Unnamed: 0          TV       radio   newspaper       sales\n",
      "count  200.000000  200.000000  200.000000  200.000000  200.000000\n",
      "mean   100.500000  147.042500   23.264000   30.554000   14.022500\n",
      "std     57.879185   85.854236   14.846809   21.778621    5.217457\n",
      "min      1.000000    0.700000    0.000000    0.300000    1.600000\n",
      "25%     50.750000   74.375000    9.975000   12.750000   10.375000\n",
      "50%    100.500000  149.750000   22.900000   25.750000   12.900000\n",
      "75%    150.250000  218.825000   36.525000   45.100000   17.400000\n",
      "max    200.000000  296.400000   49.600000  114.000000   27.000000\n"
     ]
    }
   ],
   "source": [
    "print(data.describe())"
   ]
  },
  {
   "cell_type": "code",
   "execution_count": null,
   "metadata": {
    "colab": {
     "base_uri": "https://localhost:8080/",
     "height": 206
    },
    "colab_type": "code",
    "id": "5coZzLVrj73W",
    "outputId": "8f84ebb2-5406-4aa7-c250-db60b0a361fc"
   },
   "outputs": [
    {
     "data": {
      "text/html": [
       "<div>\n",
       "<style scoped>\n",
       "    .dataframe tbody tr th:only-of-type {\n",
       "        vertical-align: middle;\n",
       "    }\n",
       "\n",
       "    .dataframe tbody tr th {\n",
       "        vertical-align: top;\n",
       "    }\n",
       "\n",
       "    .dataframe thead th {\n",
       "        text-align: right;\n",
       "    }\n",
       "</style>\n",
       "<table border=\"1\" class=\"dataframe\">\n",
       "  <thead>\n",
       "    <tr style=\"text-align: right;\">\n",
       "      <th></th>\n",
       "      <th>Sr. No.</th>\n",
       "      <th>TV</th>\n",
       "      <th>radio</th>\n",
       "      <th>newspaper</th>\n",
       "      <th>sales</th>\n",
       "    </tr>\n",
       "  </thead>\n",
       "  <tbody>\n",
       "    <tr>\n",
       "      <th>0</th>\n",
       "      <td>1</td>\n",
       "      <td>230.1</td>\n",
       "      <td>37.8</td>\n",
       "      <td>69.2</td>\n",
       "      <td>22.1</td>\n",
       "    </tr>\n",
       "    <tr>\n",
       "      <th>1</th>\n",
       "      <td>2</td>\n",
       "      <td>44.5</td>\n",
       "      <td>39.3</td>\n",
       "      <td>45.1</td>\n",
       "      <td>10.4</td>\n",
       "    </tr>\n",
       "    <tr>\n",
       "      <th>2</th>\n",
       "      <td>3</td>\n",
       "      <td>17.2</td>\n",
       "      <td>45.9</td>\n",
       "      <td>69.3</td>\n",
       "      <td>9.3</td>\n",
       "    </tr>\n",
       "    <tr>\n",
       "      <th>3</th>\n",
       "      <td>4</td>\n",
       "      <td>151.5</td>\n",
       "      <td>41.3</td>\n",
       "      <td>58.5</td>\n",
       "      <td>18.5</td>\n",
       "    </tr>\n",
       "    <tr>\n",
       "      <th>4</th>\n",
       "      <td>5</td>\n",
       "      <td>180.8</td>\n",
       "      <td>10.8</td>\n",
       "      <td>58.4</td>\n",
       "      <td>12.9</td>\n",
       "    </tr>\n",
       "  </tbody>\n",
       "</table>\n",
       "</div>"
      ],
      "text/plain": [
       "   Sr. No.     TV  radio  newspaper  sales\n",
       "0        1  230.1   37.8       69.2   22.1\n",
       "1        2   44.5   39.3       45.1   10.4\n",
       "2        3   17.2   45.9       69.3    9.3\n",
       "3        4  151.5   41.3       58.5   18.5\n",
       "4        5  180.8   10.8       58.4   12.9"
      ]
     },
     "execution_count": 5,
     "metadata": {
      "tags": []
     },
     "output_type": "execute_result"
    }
   ],
   "source": [
    "# rename the first column\n",
    "data = data.rename(columns={\"Unnamed: 0\": \"Sr. No.\"})\n",
    "\n",
    "data.head()"
   ]
  },
  {
   "cell_type": "markdown",
   "metadata": {
    "colab_type": "text",
    "id": "ZnAF5mAvhdnd"
   },
   "source": [
    "## 1. Random division\n",
    "Randomly divide the dataset into training (75%) and testing (25%) subsets [1 mark]"
   ]
  },
  {
   "cell_type": "code",
   "execution_count": null,
   "metadata": {
    "colab": {},
    "colab_type": "code",
    "id": "kUXLEPCMhcgR"
   },
   "outputs": [],
   "source": [
    "# shuffeling the data\n",
    "sData = data.sample(frac=1)\n",
    "\n",
    "train_size = int(.75 * len(data))  # --> 150\n",
    "\n",
    "# splitting the data\n",
    "train_set = sData[:train_size]\n",
    "test_set = sData[train_size:]"
   ]
  },
  {
   "cell_type": "code",
   "execution_count": null,
   "metadata": {
    "colab": {
     "base_uri": "https://localhost:8080/",
     "height": 206
    },
    "colab_type": "code",
    "id": "YcNYXvFKtGlq",
    "outputId": "f58802c2-e0f9-41e8-c380-085ef5efff06"
   },
   "outputs": [
    {
     "data": {
      "text/html": [
       "<div>\n",
       "<style scoped>\n",
       "    .dataframe tbody tr th:only-of-type {\n",
       "        vertical-align: middle;\n",
       "    }\n",
       "\n",
       "    .dataframe tbody tr th {\n",
       "        vertical-align: top;\n",
       "    }\n",
       "\n",
       "    .dataframe thead th {\n",
       "        text-align: right;\n",
       "    }\n",
       "</style>\n",
       "<table border=\"1\" class=\"dataframe\">\n",
       "  <thead>\n",
       "    <tr style=\"text-align: right;\">\n",
       "      <th></th>\n",
       "      <th>Sr. No.</th>\n",
       "      <th>TV</th>\n",
       "      <th>radio</th>\n",
       "      <th>newspaper</th>\n",
       "      <th>sales</th>\n",
       "    </tr>\n",
       "  </thead>\n",
       "  <tbody>\n",
       "    <tr>\n",
       "      <th>113</th>\n",
       "      <td>114</td>\n",
       "      <td>209.6</td>\n",
       "      <td>20.6</td>\n",
       "      <td>10.7</td>\n",
       "      <td>15.9</td>\n",
       "    </tr>\n",
       "    <tr>\n",
       "      <th>64</th>\n",
       "      <td>65</td>\n",
       "      <td>131.1</td>\n",
       "      <td>42.8</td>\n",
       "      <td>28.9</td>\n",
       "      <td>18.0</td>\n",
       "    </tr>\n",
       "    <tr>\n",
       "      <th>13</th>\n",
       "      <td>14</td>\n",
       "      <td>97.5</td>\n",
       "      <td>7.6</td>\n",
       "      <td>7.2</td>\n",
       "      <td>9.7</td>\n",
       "    </tr>\n",
       "    <tr>\n",
       "      <th>42</th>\n",
       "      <td>43</td>\n",
       "      <td>293.6</td>\n",
       "      <td>27.7</td>\n",
       "      <td>1.8</td>\n",
       "      <td>20.7</td>\n",
       "    </tr>\n",
       "    <tr>\n",
       "      <th>188</th>\n",
       "      <td>189</td>\n",
       "      <td>286.0</td>\n",
       "      <td>13.9</td>\n",
       "      <td>3.7</td>\n",
       "      <td>15.9</td>\n",
       "    </tr>\n",
       "  </tbody>\n",
       "</table>\n",
       "</div>"
      ],
      "text/plain": [
       "     Sr. No.     TV  radio  newspaper  sales\n",
       "113      114  209.6   20.6       10.7   15.9\n",
       "64        65  131.1   42.8       28.9   18.0\n",
       "13        14   97.5    7.6        7.2    9.7\n",
       "42        43  293.6   27.7        1.8   20.7\n",
       "188      189  286.0   13.9        3.7   15.9"
      ]
     },
     "execution_count": 7,
     "metadata": {
      "tags": []
     },
     "output_type": "execute_result"
    }
   ],
   "source": [
    "train_set.head()"
   ]
  },
  {
   "cell_type": "code",
   "execution_count": null,
   "metadata": {
    "colab": {
     "base_uri": "https://localhost:8080/",
     "height": 206
    },
    "colab_type": "code",
    "id": "l8Tf9RsMtMXW",
    "outputId": "5e66570a-cec6-4aa5-a520-866b1b0273af"
   },
   "outputs": [
    {
     "data": {
      "text/html": [
       "<div>\n",
       "<style scoped>\n",
       "    .dataframe tbody tr th:only-of-type {\n",
       "        vertical-align: middle;\n",
       "    }\n",
       "\n",
       "    .dataframe tbody tr th {\n",
       "        vertical-align: top;\n",
       "    }\n",
       "\n",
       "    .dataframe thead th {\n",
       "        text-align: right;\n",
       "    }\n",
       "</style>\n",
       "<table border=\"1\" class=\"dataframe\">\n",
       "  <thead>\n",
       "    <tr style=\"text-align: right;\">\n",
       "      <th></th>\n",
       "      <th>Sr. No.</th>\n",
       "      <th>TV</th>\n",
       "      <th>radio</th>\n",
       "      <th>newspaper</th>\n",
       "      <th>sales</th>\n",
       "    </tr>\n",
       "  </thead>\n",
       "  <tbody>\n",
       "    <tr>\n",
       "      <th>156</th>\n",
       "      <td>157</td>\n",
       "      <td>93.9</td>\n",
       "      <td>43.5</td>\n",
       "      <td>50.5</td>\n",
       "      <td>15.3</td>\n",
       "    </tr>\n",
       "    <tr>\n",
       "      <th>110</th>\n",
       "      <td>111</td>\n",
       "      <td>225.8</td>\n",
       "      <td>8.2</td>\n",
       "      <td>56.5</td>\n",
       "      <td>13.4</td>\n",
       "    </tr>\n",
       "    <tr>\n",
       "      <th>61</th>\n",
       "      <td>62</td>\n",
       "      <td>261.3</td>\n",
       "      <td>42.7</td>\n",
       "      <td>54.7</td>\n",
       "      <td>24.2</td>\n",
       "    </tr>\n",
       "    <tr>\n",
       "      <th>31</th>\n",
       "      <td>32</td>\n",
       "      <td>112.9</td>\n",
       "      <td>17.4</td>\n",
       "      <td>38.6</td>\n",
       "      <td>11.9</td>\n",
       "    </tr>\n",
       "    <tr>\n",
       "      <th>106</th>\n",
       "      <td>107</td>\n",
       "      <td>25.0</td>\n",
       "      <td>11.0</td>\n",
       "      <td>29.7</td>\n",
       "      <td>7.2</td>\n",
       "    </tr>\n",
       "  </tbody>\n",
       "</table>\n",
       "</div>"
      ],
      "text/plain": [
       "     Sr. No.     TV  radio  newspaper  sales\n",
       "156      157   93.9   43.5       50.5   15.3\n",
       "110      111  225.8    8.2       56.5   13.4\n",
       "61        62  261.3   42.7       54.7   24.2\n",
       "31        32  112.9   17.4       38.6   11.9\n",
       "106      107   25.0   11.0       29.7    7.2"
      ]
     },
     "execution_count": 8,
     "metadata": {
      "tags": []
     },
     "output_type": "execute_result"
    }
   ],
   "source": [
    "test_set.head()"
   ]
  },
  {
   "cell_type": "code",
   "execution_count": null,
   "metadata": {
    "colab": {},
    "colab_type": "code",
    "id": "5gyHPyIIvPvJ"
   },
   "outputs": [],
   "source": [
    "# To check if any common value exists\n",
    "for i in range(len(train_set)):\n",
    "    for j in range(len(test_set)):\n",
    "        if train_set.iloc[i, 0] == test_set.iloc[j, 0]:\n",
    "            print(\"Common row found! ABORT\")\n",
    "            print(train_set.iloc[i, 0])\n",
    "            print(test_set.iloc[j, 0])\n",
    "            break"
   ]
  },
  {
   "cell_type": "markdown",
   "metadata": {
    "colab_type": "text",
    "id": "-82LE4idmPyY"
   },
   "source": [
    "### 1.1. Attribute Matrix X"
   ]
  },
  {
   "cell_type": "code",
   "execution_count": null,
   "metadata": {
    "colab": {
     "base_uri": "https://localhost:8080/",
     "height": 235
    },
    "colab_type": "code",
    "id": "13OLVLHYlPcg",
    "outputId": "e3aa14fb-ac3c-4a56-b323-161603a6be6e"
   },
   "outputs": [
    {
     "name": "stdout",
     "output_type": "stream",
     "text": [
      "        TV  radio  newspaper\n",
      "113  209.6   20.6       10.7\n",
      "64   131.1   42.8       28.9\n",
      "13    97.5    7.6        7.2\n",
      "42   293.6   27.7        1.8\n",
      "188  286.0   13.9        3.7\n",
      "        TV  radio  newspaper\n",
      "156   93.9   43.5       50.5\n",
      "110  225.8    8.2       56.5\n",
      "61   261.3   42.7       54.7\n",
      "31   112.9   17.4       38.6\n",
      "106   25.0   11.0       29.7\n"
     ]
    }
   ],
   "source": [
    "# Creating Attributes Matrix -- X\n",
    "\n",
    "X_train = train_set.iloc[:, 1:4]\n",
    "print(X_train.head())\n",
    "\n",
    "X_test = test_set.iloc[:, 1:4]\n",
    "print(X_test.head())"
   ]
  },
  {
   "cell_type": "markdown",
   "metadata": {
    "colab_type": "text",
    "id": "JMtCm_3HmTh8"
   },
   "source": [
    "### 1.2. Label Vextor Y"
   ]
  },
  {
   "cell_type": "code",
   "execution_count": null,
   "metadata": {
    "colab": {
     "base_uri": "https://localhost:8080/",
     "height": 235
    },
    "colab_type": "code",
    "id": "-_4CqOjylqJe",
    "outputId": "fc240db9-c1be-4173-f3a8-565d25675bab"
   },
   "outputs": [
    {
     "name": "stdout",
     "output_type": "stream",
     "text": [
      "     sales\n",
      "113   15.9\n",
      "64    18.0\n",
      "13     9.7\n",
      "42    20.7\n",
      "188   15.9\n",
      "     sales\n",
      "156   15.3\n",
      "110   13.4\n",
      "61    24.2\n",
      "31    11.9\n",
      "106    7.2\n"
     ]
    }
   ],
   "source": [
    "# Creating Label Vector -- Y\n",
    "\n",
    "Y_temp = train_set.iloc[:, 4]\n",
    "Y_train = pd.DataFrame(Y_temp)\n",
    "print(Y_train.head())\n",
    "\n",
    "Y_temp = test_set.iloc[:, 4]\n",
    "Y_test = pd.DataFrame(Y_temp)\n",
    "print(Y_test.head())"
   ]
  },
  {
   "cell_type": "markdown",
   "metadata": {
    "colab_type": "text",
    "id": "QN7urxukh2_M"
   },
   "source": [
    "## 2. Linear Regression \n",
    "\n",
    "Using Linear Regression, fit a model to predict the sales from investments using your own formula. Compare the coefficients as found by the python library function [3 marks]"
   ]
  },
  {
   "cell_type": "markdown",
   "metadata": {
    "colab_type": "text",
    "id": "fUZ9mCvfv07U"
   },
   "source": [
    "### 2.1. Coefficient by Model From Scratch"
   ]
  },
  {
   "cell_type": "code",
   "execution_count": null,
   "metadata": {
    "colab": {},
    "colab_type": "code",
    "id": "cqYodhRqfsLU"
   },
   "outputs": [],
   "source": [
    "class OrdinaryLeastSquared(object):\n",
    "    \n",
    "    def __init__(self):\n",
    "        self.coefficients = []\n",
    "\n",
    "    def _reshape_x(self, X):\n",
    "        # Reshapig into a vector of 1 column\n",
    "        return X.reshape(-1, 1)\n",
    "\n",
    "    def _concatneate_ones(self, X):\n",
    "        ones = np.ones(shape=X.shape[0]).reshape(-1, 1)\n",
    "        return np.concatenate((ones, X), 1)\n",
    "\n",
    "    # -- Heart of the model -- #\n",
    "    def fit(self, X, y):\n",
    "        if len(X.shape) == 1:\n",
    "            X = self._reshape_x(X)\n",
    "        \n",
    "        X = self._concatneate_ones(X)\n",
    "\n",
    "        self.coefficients = np.linalg.inv(X.transpose().dot(X)).dot(\n",
    "            X.transpose().dot(y))\n",
    "    \n",
    "    def predict(self, entry):\n",
    "        b0 = self.coefficients[0]\n",
    "        other_betas = self.coefficients[1:]\n",
    "\n",
    "        prediction = other_betas.transpose().dot(entry) + b0\n",
    "        \n",
    "        return prediction"
   ]
  },
  {
   "cell_type": "code",
   "execution_count": null,
   "metadata": {
    "colab": {
     "base_uri": "https://localhost:8080/",
     "height": 90
    },
    "colab_type": "code",
    "id": "oP6dNvwm4Nz-",
    "outputId": "958356b9-338c-4043-ec22-fa2af4a75719"
   },
   "outputs": [
    {
     "data": {
      "text/plain": [
       "array([[ 3.22881573],\n",
       "       [ 0.04443152],\n",
       "       [ 0.18685433],\n",
       "       [-0.00481199]])"
      ]
     },
     "execution_count": 13,
     "metadata": {
      "tags": []
     },
     "output_type": "execute_result"
    }
   ],
   "source": [
    "model = OrdinaryLeastSquared()\n",
    "\n",
    "model.fit(X_train, Y_train)\n",
    "model.coefficients"
   ]
  },
  {
   "cell_type": "code",
   "execution_count": null,
   "metadata": {
    "colab": {},
    "colab_type": "code",
    "id": "7XeRyayE4Nur"
   },
   "outputs": [],
   "source": [
    "y_predictions = []\n",
    "\n",
    "for row in X_train.values:\n",
    "    y_predictions.append(model.predict(row)[0])\n",
    "\n",
    "y_predictions = np.asarray(y_predictions)"
   ]
  },
  {
   "cell_type": "code",
   "execution_count": null,
   "metadata": {
    "colab": {
     "base_uri": "https://localhost:8080/",
     "height": 424
    },
    "colab_type": "code",
    "id": "GEAguIBk4Njy",
    "outputId": "86672ec8-d62e-4648-80f3-1be8355e0f20"
   },
   "outputs": [
    {
     "data": {
      "text/html": [
       "<div>\n",
       "<style scoped>\n",
       "    .dataframe tbody tr th:only-of-type {\n",
       "        vertical-align: middle;\n",
       "    }\n",
       "\n",
       "    .dataframe tbody tr th {\n",
       "        vertical-align: top;\n",
       "    }\n",
       "\n",
       "    .dataframe thead th {\n",
       "        text-align: right;\n",
       "    }\n",
       "</style>\n",
       "<table border=\"1\" class=\"dataframe\">\n",
       "  <thead>\n",
       "    <tr style=\"text-align: right;\">\n",
       "      <th></th>\n",
       "      <th>sales</th>\n",
       "      <th>Y Predictions</th>\n",
       "    </tr>\n",
       "  </thead>\n",
       "  <tbody>\n",
       "    <tr>\n",
       "      <th>113</th>\n",
       "      <td>15.9</td>\n",
       "      <td>16.339373</td>\n",
       "    </tr>\n",
       "    <tr>\n",
       "      <th>64</th>\n",
       "      <td>18.0</td>\n",
       "      <td>16.912087</td>\n",
       "    </tr>\n",
       "    <tr>\n",
       "      <th>13</th>\n",
       "      <td>9.7</td>\n",
       "      <td>8.946335</td>\n",
       "    </tr>\n",
       "    <tr>\n",
       "      <th>42</th>\n",
       "      <td>20.7</td>\n",
       "      <td>21.441113</td>\n",
       "    </tr>\n",
       "    <tr>\n",
       "      <th>188</th>\n",
       "      <td>15.9</td>\n",
       "      <td>18.515701</td>\n",
       "    </tr>\n",
       "    <tr>\n",
       "      <th>...</th>\n",
       "      <td>...</td>\n",
       "      <td>...</td>\n",
       "    </tr>\n",
       "    <tr>\n",
       "      <th>116</th>\n",
       "      <td>12.2</td>\n",
       "      <td>11.962513</td>\n",
       "    </tr>\n",
       "    <tr>\n",
       "      <th>46</th>\n",
       "      <td>10.6</td>\n",
       "      <td>8.892393</td>\n",
       "    </tr>\n",
       "    <tr>\n",
       "      <th>142</th>\n",
       "      <td>20.1</td>\n",
       "      <td>19.047155</td>\n",
       "    </tr>\n",
       "    <tr>\n",
       "      <th>15</th>\n",
       "      <td>22.4</td>\n",
       "      <td>20.569132</td>\n",
       "    </tr>\n",
       "    <tr>\n",
       "      <th>104</th>\n",
       "      <td>20.7</td>\n",
       "      <td>20.196004</td>\n",
       "    </tr>\n",
       "  </tbody>\n",
       "</table>\n",
       "<p>150 rows × 2 columns</p>\n",
       "</div>"
      ],
      "text/plain": [
       "     sales  Y Predictions\n",
       "113   15.9      16.339373\n",
       "64    18.0      16.912087\n",
       "13     9.7       8.946335\n",
       "42    20.7      21.441113\n",
       "188   15.9      18.515701\n",
       "..     ...            ...\n",
       "116   12.2      11.962513\n",
       "46    10.6       8.892393\n",
       "142   20.1      19.047155\n",
       "15    22.4      20.569132\n",
       "104   20.7      20.196004\n",
       "\n",
       "[150 rows x 2 columns]"
      ]
     },
     "execution_count": 15,
     "metadata": {
      "tags": []
     },
     "output_type": "execute_result"
    }
   ],
   "source": [
    "# Actual vs Predicted DataFrame\n",
    "AvP = Y_train.copy()\n",
    "AvP[\"Y Predictions\"] = y_predictions\n",
    "\n",
    "AvP"
   ]
  },
  {
   "cell_type": "markdown",
   "metadata": {
    "colab_type": "text",
    "id": "xL53N-GZsuSD"
   },
   "source": [
    "### 2.2. Coefficients by Python Function\n"
   ]
  },
  {
   "cell_type": "code",
   "execution_count": null,
   "metadata": {
    "colab": {
     "base_uri": "https://localhost:8080/",
     "height": 144
    },
    "colab_type": "code",
    "id": "UWwmMHnjstab",
    "outputId": "5a4aad5d-715d-49b1-e8ad-00d76ad1aa5b"
   },
   "outputs": [
    {
     "name": "stdout",
     "output_type": "stream",
     "text": [
      "B_0 from mmodel: [3.22881573]\n",
      "W from mmodel: [[ 0.04443152]\n",
      " [ 0.18685433]\n",
      " [-0.00481199]]\n",
      "--------------\n",
      "B_0 from sklearn Linear Regression:  [3.22881573]\n",
      "W from sklearn Linear Regression:  [[ 0.04443152  0.18685433 -0.00481199]]\n"
     ]
    }
   ],
   "source": [
    "betas_from_library = pLM.LinearRegression().fit(X_train, Y_train).coef_\n",
    "beta_naught_from_library = pLM.LinearRegression().fit(X_train, Y_train).intercept_\n",
    "\n",
    "print(\"B_0 from mmodel:\", model.coefficients[0])\n",
    "print(\"W from mmodel:\", model.coefficients[1:])\n",
    "\n",
    "print(\"--------------\")\n",
    "\n",
    "print(\"B_0 from sklearn Linear Regression: \", beta_naught_from_library)\n",
    "print(\"W from sklearn Linear Regression: \", betas_from_library)"
   ]
  },
  {
   "cell_type": "markdown",
   "metadata": {
    "colab_type": "text",
    "id": "vvHiea98iRML"
   },
   "source": [
    "## 3. Mean Squared Error on Test Set\n",
    "Compute the mean squared error on the testing set [1 marks]"
   ]
  },
  {
   "cell_type": "markdown",
   "metadata": {
    "colab_type": "text",
    "id": "l2Kz_IwFzqa0"
   },
   "source": [
    "### 3.1. Applying Model onn test set"
   ]
  },
  {
   "cell_type": "code",
   "execution_count": null,
   "metadata": {
    "colab": {},
    "colab_type": "code",
    "id": "7NxoUnlvzn9T"
   },
   "outputs": [],
   "source": [
    "y_predictions_test = []\n",
    "\n",
    "for row in X_test.values:\n",
    "    y_predictions_test.append(model.predict(row)[0])\n",
    "\n",
    "y_predictions_test = np.asarray(y_predictions_test)"
   ]
  },
  {
   "cell_type": "code",
   "execution_count": null,
   "metadata": {
    "colab": {
     "base_uri": "https://localhost:8080/",
     "height": 1000
    },
    "colab_type": "code",
    "id": "V9w3N-nzz_W6",
    "outputId": "95f74850-6e5b-4ef0-eaaf-7f9468756cb7"
   },
   "outputs": [
    {
     "data": {
      "text/html": [
       "<div>\n",
       "<style scoped>\n",
       "    .dataframe tbody tr th:only-of-type {\n",
       "        vertical-align: middle;\n",
       "    }\n",
       "\n",
       "    .dataframe tbody tr th {\n",
       "        vertical-align: top;\n",
       "    }\n",
       "\n",
       "    .dataframe thead th {\n",
       "        text-align: right;\n",
       "    }\n",
       "</style>\n",
       "<table border=\"1\" class=\"dataframe\">\n",
       "  <thead>\n",
       "    <tr style=\"text-align: right;\">\n",
       "      <th></th>\n",
       "      <th>sales</th>\n",
       "      <th>Y Predictions</th>\n",
       "    </tr>\n",
       "  </thead>\n",
       "  <tbody>\n",
       "    <tr>\n",
       "      <th>156</th>\n",
       "      <td>15.3</td>\n",
       "      <td>15.286093</td>\n",
       "    </tr>\n",
       "    <tr>\n",
       "      <th>110</th>\n",
       "      <td>13.4</td>\n",
       "      <td>14.521781</td>\n",
       "    </tr>\n",
       "    <tr>\n",
       "      <th>61</th>\n",
       "      <td>24.2</td>\n",
       "      <td>22.554236</td>\n",
       "    </tr>\n",
       "    <tr>\n",
       "      <th>31</th>\n",
       "      <td>11.9</td>\n",
       "      <td>11.310657</td>\n",
       "    </tr>\n",
       "    <tr>\n",
       "      <th>106</th>\n",
       "      <td>7.2</td>\n",
       "      <td>6.252085</td>\n",
       "    </tr>\n",
       "    <tr>\n",
       "      <th>175</th>\n",
       "      <td>27.0</td>\n",
       "      <td>24.467939</td>\n",
       "    </tr>\n",
       "    <tr>\n",
       "      <th>167</th>\n",
       "      <td>12.2</td>\n",
       "      <td>13.295544</td>\n",
       "    </tr>\n",
       "    <tr>\n",
       "      <th>86</th>\n",
       "      <td>12.0</td>\n",
       "      <td>11.680443</td>\n",
       "    </tr>\n",
       "    <tr>\n",
       "      <th>93</th>\n",
       "      <td>22.2</td>\n",
       "      <td>20.848960</td>\n",
       "    </tr>\n",
       "    <tr>\n",
       "      <th>24</th>\n",
       "      <td>9.7</td>\n",
       "      <td>8.263204</td>\n",
       "    </tr>\n",
       "    <tr>\n",
       "      <th>163</th>\n",
       "      <td>18.0</td>\n",
       "      <td>17.334000</td>\n",
       "    </tr>\n",
       "    <tr>\n",
       "      <th>192</th>\n",
       "      <td>5.9</td>\n",
       "      <td>4.607082</td>\n",
       "    </tr>\n",
       "    <tr>\n",
       "      <th>16</th>\n",
       "      <td>12.5</td>\n",
       "      <td>12.531574</td>\n",
       "    </tr>\n",
       "    <tr>\n",
       "      <th>144</th>\n",
       "      <td>11.4</td>\n",
       "      <td>10.081385</td>\n",
       "    </tr>\n",
       "    <tr>\n",
       "      <th>77</th>\n",
       "      <td>14.2</td>\n",
       "      <td>13.839832</td>\n",
       "    </tr>\n",
       "    <tr>\n",
       "      <th>198</th>\n",
       "      <td>25.5</td>\n",
       "      <td>23.358922</td>\n",
       "    </tr>\n",
       "    <tr>\n",
       "      <th>145</th>\n",
       "      <td>10.3</td>\n",
       "      <td>9.774273</td>\n",
       "    </tr>\n",
       "    <tr>\n",
       "      <th>18</th>\n",
       "      <td>11.3</td>\n",
       "      <td>10.045931</td>\n",
       "    </tr>\n",
       "    <tr>\n",
       "      <th>89</th>\n",
       "      <td>16.7</td>\n",
       "      <td>16.791697</td>\n",
       "    </tr>\n",
       "    <tr>\n",
       "      <th>73</th>\n",
       "      <td>11.0</td>\n",
       "      <td>9.892709</td>\n",
       "    </tr>\n",
       "    <tr>\n",
       "      <th>160</th>\n",
       "      <td>14.4</td>\n",
       "      <td>14.127588</td>\n",
       "    </tr>\n",
       "    <tr>\n",
       "      <th>128</th>\n",
       "      <td>24.7</td>\n",
       "      <td>22.157543</td>\n",
       "    </tr>\n",
       "    <tr>\n",
       "      <th>52</th>\n",
       "      <td>22.6</td>\n",
       "      <td>20.445067</td>\n",
       "    </tr>\n",
       "    <tr>\n",
       "      <th>158</th>\n",
       "      <td>7.3</td>\n",
       "      <td>10.426087</td>\n",
       "    </tr>\n",
       "    <tr>\n",
       "      <th>78</th>\n",
       "      <td>5.3</td>\n",
       "      <td>9.010458</td>\n",
       "    </tr>\n",
       "    <tr>\n",
       "      <th>70</th>\n",
       "      <td>18.3</td>\n",
       "      <td>17.606650</td>\n",
       "    </tr>\n",
       "    <tr>\n",
       "      <th>120</th>\n",
       "      <td>15.5</td>\n",
       "      <td>14.292371</td>\n",
       "    </tr>\n",
       "    <tr>\n",
       "      <th>1</th>\n",
       "      <td>10.4</td>\n",
       "      <td>12.332373</td>\n",
       "    </tr>\n",
       "    <tr>\n",
       "      <th>166</th>\n",
       "      <td>8.0</td>\n",
       "      <td>10.945924</td>\n",
       "    </tr>\n",
       "    <tr>\n",
       "      <th>134</th>\n",
       "      <td>10.8</td>\n",
       "      <td>11.765249</td>\n",
       "    </tr>\n",
       "    <tr>\n",
       "      <th>9</th>\n",
       "      <td>10.6</td>\n",
       "      <td>12.490040</td>\n",
       "    </tr>\n",
       "    <tr>\n",
       "      <th>199</th>\n",
       "      <td>13.4</td>\n",
       "      <td>15.106454</td>\n",
       "    </tr>\n",
       "    <tr>\n",
       "      <th>135</th>\n",
       "      <td>11.6</td>\n",
       "      <td>14.116110</td>\n",
       "    </tr>\n",
       "    <tr>\n",
       "      <th>94</th>\n",
       "      <td>11.5</td>\n",
       "      <td>10.564271</td>\n",
       "    </tr>\n",
       "    <tr>\n",
       "      <th>21</th>\n",
       "      <td>12.5</td>\n",
       "      <td>14.616734</td>\n",
       "    </tr>\n",
       "    <tr>\n",
       "      <th>98</th>\n",
       "      <td>25.4</td>\n",
       "      <td>23.758191</td>\n",
       "    </tr>\n",
       "    <tr>\n",
       "      <th>114</th>\n",
       "      <td>14.6</td>\n",
       "      <td>15.282130</td>\n",
       "    </tr>\n",
       "    <tr>\n",
       "      <th>197</th>\n",
       "      <td>12.8</td>\n",
       "      <td>12.800143</td>\n",
       "    </tr>\n",
       "    <tr>\n",
       "      <th>49</th>\n",
       "      <td>9.7</td>\n",
       "      <td>8.210399</td>\n",
       "    </tr>\n",
       "    <tr>\n",
       "      <th>17</th>\n",
       "      <td>24.4</td>\n",
       "      <td>22.862767</td>\n",
       "    </tr>\n",
       "    <tr>\n",
       "      <th>171</th>\n",
       "      <td>14.5</td>\n",
       "      <td>14.214968</td>\n",
       "    </tr>\n",
       "    <tr>\n",
       "      <th>87</th>\n",
       "      <td>16.0</td>\n",
       "      <td>15.429553</td>\n",
       "    </tr>\n",
       "    <tr>\n",
       "      <th>125</th>\n",
       "      <td>10.6</td>\n",
       "      <td>9.183495</td>\n",
       "    </tr>\n",
       "    <tr>\n",
       "      <th>63</th>\n",
       "      <td>14.0</td>\n",
       "      <td>13.282400</td>\n",
       "    </tr>\n",
       "    <tr>\n",
       "      <th>147</th>\n",
       "      <td>25.4</td>\n",
       "      <td>22.977252</td>\n",
       "    </tr>\n",
       "    <tr>\n",
       "      <th>88</th>\n",
       "      <td>12.9</td>\n",
       "      <td>11.563704</td>\n",
       "    </tr>\n",
       "    <tr>\n",
       "      <th>143</th>\n",
       "      <td>10.4</td>\n",
       "      <td>8.775890</td>\n",
       "    </tr>\n",
       "    <tr>\n",
       "      <th>50</th>\n",
       "      <td>11.4</td>\n",
       "      <td>12.518987</td>\n",
       "    </tr>\n",
       "    <tr>\n",
       "      <th>33</th>\n",
       "      <td>17.4</td>\n",
       "      <td>18.765470</td>\n",
       "    </tr>\n",
       "    <tr>\n",
       "      <th>20</th>\n",
       "      <td>18.0</td>\n",
       "      <td>17.851564</td>\n",
       "    </tr>\n",
       "  </tbody>\n",
       "</table>\n",
       "</div>"
      ],
      "text/plain": [
       "     sales  Y Predictions\n",
       "156   15.3      15.286093\n",
       "110   13.4      14.521781\n",
       "61    24.2      22.554236\n",
       "31    11.9      11.310657\n",
       "106    7.2       6.252085\n",
       "175   27.0      24.467939\n",
       "167   12.2      13.295544\n",
       "86    12.0      11.680443\n",
       "93    22.2      20.848960\n",
       "24     9.7       8.263204\n",
       "163   18.0      17.334000\n",
       "192    5.9       4.607082\n",
       "16    12.5      12.531574\n",
       "144   11.4      10.081385\n",
       "77    14.2      13.839832\n",
       "198   25.5      23.358922\n",
       "145   10.3       9.774273\n",
       "18    11.3      10.045931\n",
       "89    16.7      16.791697\n",
       "73    11.0       9.892709\n",
       "160   14.4      14.127588\n",
       "128   24.7      22.157543\n",
       "52    22.6      20.445067\n",
       "158    7.3      10.426087\n",
       "78     5.3       9.010458\n",
       "70    18.3      17.606650\n",
       "120   15.5      14.292371\n",
       "1     10.4      12.332373\n",
       "166    8.0      10.945924\n",
       "134   10.8      11.765249\n",
       "9     10.6      12.490040\n",
       "199   13.4      15.106454\n",
       "135   11.6      14.116110\n",
       "94    11.5      10.564271\n",
       "21    12.5      14.616734\n",
       "98    25.4      23.758191\n",
       "114   14.6      15.282130\n",
       "197   12.8      12.800143\n",
       "49     9.7       8.210399\n",
       "17    24.4      22.862767\n",
       "171   14.5      14.214968\n",
       "87    16.0      15.429553\n",
       "125   10.6       9.183495\n",
       "63    14.0      13.282400\n",
       "147   25.4      22.977252\n",
       "88    12.9      11.563704\n",
       "143   10.4       8.775890\n",
       "50    11.4      12.518987\n",
       "33    17.4      18.765470\n",
       "20    18.0      17.851564"
      ]
     },
     "execution_count": 18,
     "metadata": {
      "tags": []
     },
     "output_type": "execute_result"
    }
   ],
   "source": [
    "# Actual vs Predicted DataFrame\n",
    "AvP_test = Y_test.copy()\n",
    "AvP_test[\"Y Predictions\"] = y_predictions_test\n",
    "\n",
    "AvP_test"
   ]
  },
  {
   "cell_type": "code",
   "execution_count": null,
   "metadata": {
    "colab": {
     "base_uri": "https://localhost:8080/",
     "height": 35
    },
    "colab_type": "code",
    "id": "kE3QsVLMfW0S",
    "outputId": "699226c1-cf5f-4f2c-9739-030ea5fea817"
   },
   "outputs": [
    {
     "data": {
      "text/plain": [
       "2.414960220148406"
      ]
     },
     "execution_count": 19,
     "metadata": {
      "tags": []
     },
     "output_type": "execute_result"
    }
   ],
   "source": [
    "# Calculating the mean square error\n",
    "mean_sq_error = []\n",
    "\n",
    "for i in range(len(AvP_test)):\n",
    "    mean_sq_error.append((AvP_test.iloc[i, 0] - AvP_test.iloc[i, 1])**2)\n",
    "\n",
    "MSE_test = sum(mean_sq_error)\n",
    "MSE_test /= len(AvP_test)\n",
    "MSE_test"
   ]
  },
  {
   "cell_type": "markdown",
   "metadata": {
    "colab_type": "text",
    "id": "981xaRtfibgx"
   },
   "source": [
    "## 4. Ridge Regression\n",
    "\n",
    "Using ridge regression with different values of lambda (0.5, 1, 5, 10, 50, 100) plot the coefficients against each other, and also compare the test set mean squared errors. [3 marks]"
   ]
  },
  {
   "cell_type": "code",
   "execution_count": null,
   "metadata": {
    "colab": {},
    "colab_type": "code",
    "id": "Xo_Yrt3difrS"
   },
   "outputs": [],
   "source": [
    "class RidgeRegression(object):\n",
    "\n",
    "\n",
    "    def __init__(self):\n",
    "        self.coefficients = []\n",
    "\n",
    "    def _reshape_x(self, X):\n",
    "        # Reshapig into a vector of 1 column\n",
    "        return X.reshape(-1, 1)\n",
    "\n",
    "    def _concatneate_ones(self, X):\n",
    "        ones = np.ones(shape=X.shape[0]).reshape(-1, 1)\n",
    "        return np.concatenate((ones, X), 1)\n",
    "\n",
    "    def fit(self, X, y, alpha):\n",
    "        if len(X.shape) == 1:\n",
    "            X = self._reshape_x(X)\n",
    "        \n",
    "        X = self._concatneate_ones(X)\n",
    "\n",
    "        I = np.identity(X.shape[1])\n",
    "\n",
    "        self.coefficients = np.linalg.inv(\n",
    "            X.transpose().dot(X) + alpha*I).dot(\n",
    "                X.transpose().dot(y))\n",
    "            \n",
    "    def predict(self, entry):\n",
    "        b = self.coefficients[0]\n",
    "        other_betas = self.coefficients[1:]\n",
    "\n",
    "        prediction = entry.dot(other_betas) + b\n",
    "        return prediction"
   ]
  },
  {
   "cell_type": "code",
   "execution_count": null,
   "metadata": {
    "colab": {},
    "colab_type": "code",
    "id": "n3ed4Ca4MDSr"
   },
   "outputs": [],
   "source": [
    "rrModel = RidgeRegression()\n",
    "\n",
    "rrModel.fit(X_train, Y_train, alpha=2)"
   ]
  },
  {
   "cell_type": "code",
   "execution_count": null,
   "metadata": {
    "colab": {},
    "colab_type": "code",
    "id": "UL2ekJqOMuWk"
   },
   "outputs": [],
   "source": [
    "# prediction on test set\n",
    "Y_Pred = rrModel.predict(X_test)\n",
    "Y_Pred"
   ]
  },
  {
   "cell_type": "markdown",
   "metadata": {
    "colab_type": "text",
    "id": "-695g3dOiMeV"
   },
   "source": [
    "#### For Different Alphas"
   ]
  },
  {
   "cell_type": "code",
   "execution_count": null,
   "metadata": {
    "colab": {
     "base_uri": "https://localhost:8080/",
     "height": 144
    },
    "colab_type": "code",
    "id": "o7atIsSNiL6H",
    "outputId": "aacaca94-be3c-48d1-d863-56ffb469fab7"
   },
   "outputs": [
    {
     "data": {
      "text/plain": [
       "[sales    0.047813\n",
       " dtype: float64, sales    0.047375\n",
       " dtype: float64, sales    0.045112\n",
       " dtype: float64, sales    0.044064\n",
       " dtype: float64, sales    0.046576\n",
       " dtype: float64, sales    0.049255\n",
       " dtype: float64]"
      ]
     },
     "execution_count": 63,
     "metadata": {
      "tags": []
     },
     "output_type": "execute_result"
    }
   ],
   "source": [
    "alpha = [0.5, 1, 5, 10, 50, 100]\n",
    "\n",
    "mse_new = []\n",
    "\n",
    "for i in alpha:\n",
    "    rrModel.fit(X_train, Y_train, alpha=i)\n",
    "    Y_Pred = rrModel.predict(X_test)    \n",
    "    mse_new.append(np.square(np.subtract(Y_test, Y_Pred)).mean() / len(Y_Pred))\n",
    "\n",
    "mse_new"
   ]
  },
  {
   "cell_type": "markdown",
   "metadata": {
    "colab_type": "text",
    "id": "LVH49rSf-G-a"
   },
   "source": [
    "### Mean Squared Error compared with Alpha"
   ]
  },
  {
   "cell_type": "code",
   "execution_count": null,
   "metadata": {
    "colab": {
     "base_uri": "https://localhost:8080/",
     "height": 401
    },
    "colab_type": "code",
    "id": "EneDnqAclaCa",
    "outputId": "e931462d-0b87-480f-e9d1-a5cc38ba31e2"
   },
   "outputs": [
    {
     "data": {
      "text/plain": [
       "[<matplotlib.lines.Line2D at 0x7f122d8bf908>]"
      ]
     },
     "execution_count": 163,
     "metadata": {
      "tags": []
     },
     "output_type": "execute_result"
    },
    {
     "data": {
      "image/png": "[encoded data removed]",
      "text/plain": [
       "<Figure size 400x400 with 1 Axes>"
      ]
     },
     "metadata": {
      "tags": []
     },
     "output_type": "display_data"
    }
   ],
   "source": [
    "plt.figure(num=None, figsize=(5, 5), dpi=80, facecolor='w', edgecolor='k')\n",
    "plt.title('MSE vs Alpha')\n",
    "plt.ylabel('Mean Squared Error')\n",
    "plt.xlabel('Alpha')\n",
    "plt.plot(alpha,mse_new,marker='*',color='g')"
   ]
  },
  {
   "cell_type": "code",
   "execution_count": null,
   "metadata": {
    "colab": {},
    "colab_type": "code",
    "id": "n8bkzsZ0mGO7"
   },
   "outputs": [],
   "source": [
    "alpha = [0.5, 1, 5, 10, 50, 100]\n",
    "\n",
    "parameters = []\n",
    "for i in alpha:\n",
    "    rrModel.fit(X_train, Y_train, alpha=i)\n",
    "    parameters.append(rrModel.coefficients)\n",
    "\n",
    "# Coeff indices:\n",
    "coeff_idx = []\n",
    "for i in range(len(parameters[0])):\n",
    "    coeff_idx.append(i)"
   ]
  },
  {
   "cell_type": "code",
   "execution_count": null,
   "metadata": {
    "colab": {
     "base_uri": "https://localhost:8080/",
     "height": 362
    },
    "colab_type": "code",
    "id": "Ir_m2p5ioIEm",
    "outputId": "0a19eaaa-d4c7-4383-db06-a7d31463f385"
   },
   "outputs": [
    {
     "data": {
      "text/plain": [
       "[array([[ 3.15781871],\n",
       "        [ 0.04462874],\n",
       "        [ 0.18769054],\n",
       "        [-0.00437902]]), array([[ 3.08987945],\n",
       "        [ 0.04481747],\n",
       "        [ 0.18849059],\n",
       "        [-0.00396464]]), array([[ 2.63622316e+00],\n",
       "        [ 4.60779625e-02],\n",
       "        [ 1.93828612e-01],\n",
       "        [-1.19602912e-03]]), array([[2.22755868e+00],\n",
       "        [4.72139374e-02],\n",
       "        [1.98628289e-01],\n",
       "        [1.30141963e-03]]), array([[0.99537617],\n",
       "        [0.05064792],\n",
       "        [0.21294075],\n",
       "        [0.00889251]]), array([[0.58934659],\n",
       "        [0.05179255],\n",
       "        [0.21742249],\n",
       "        [0.01148354]])]"
      ]
     },
     "execution_count": 68,
     "metadata": {
      "tags": []
     },
     "output_type": "execute_result"
    }
   ],
   "source": [
    "parameters"
   ]
  },
  {
   "cell_type": "markdown",
   "metadata": {
    "colab_type": "text",
    "id": "yfexd21--hTy"
   },
   "source": [
    "### Comparing the coefficients with changing Alphas\n",
    "Here, \n",
    "1. index 0 indicates the intercept term w0\n",
    "2. index 1 indicates the w1 term, and so on"
   ]
  },
  {
   "cell_type": "code",
   "execution_count": null,
   "metadata": {
    "colab": {
     "base_uri": "https://localhost:8080/",
     "height": 875
    },
    "colab_type": "code",
    "id": "prNYPkLdnTIa",
    "outputId": "95ec55e6-5ee2-4397-8edd-5ab3225ad427"
   },
   "outputs": [
    {
     "data": {
      "text/plain": [
       "<matplotlib.legend.Legend at 0x7f122de1d748>"
      ]
     },
     "execution_count": 93,
     "metadata": {
      "tags": []
     },
     "output_type": "execute_result"
    },
    {
     "data": {
      "image/png": "[encoded data removed]",
      "text/plain": [
       "<Figure size 1000x1000 with 1 Axes>"
      ]
     },
     "metadata": {
      "tags": []
     },
     "output_type": "display_data"
    }
   ],
   "source": [
    "plt.figure(num=None, figsize=(10, 10), dpi=100, facecolor='w', edgecolor='k')\n",
    "plt.title('Plotting the coefficients against each other')\n",
    "plt.ylabel('Coefficient')\n",
    "plt.xlabel('Coefficient Index')\n",
    "plt.plot(coeff_idx,parameters[0],marker='o',color='b' ,label='Alpha = 0.5')\n",
    "plt.plot(coeff_idx,parameters[1],marker='^',color='g' ,label='Alpha = 1')\n",
    "plt.plot(coeff_idx,parameters[2],marker=',',color='r' ,label='Alpha = 5')\n",
    "plt.plot(coeff_idx,parameters[3],marker='1',color='c' ,label='Alpha = 10')\n",
    "plt.plot(coeff_idx,parameters[4],marker='*',color='y' ,label='Alpha = 50')\n",
    "plt.plot(coeff_idx,parameters[5],marker='+',color='k' ,label='Alpha = 100')\n",
    "plt.legend()"
   ]
  },
  {
   "cell_type": "code",
   "execution_count": null,
   "metadata": {
    "colab": {
     "base_uri": "https://localhost:8080/",
     "height": 35
    },
    "colab_type": "code",
    "id": "HmylqfBhtE01",
    "outputId": "0aea41dc-b557-42e1-b1a0-4f5a110b42e1"
   },
   "outputs": [
    {
     "name": "stdout",
     "output_type": "stream",
     "text": [
      "Parameter2\n"
     ]
    }
   ],
   "source": [
    "# Comparing the coefficients (and NOT the bias term)\n",
    "\n",
    "mean_list = []\n",
    "for i in range(1, len(parameters[0])):\n",
    "    sum = 0\n",
    "    for j in range(len(parameters)):\n",
    "        sum += parameters[j][i]\n",
    "    \n",
    "    sum /= len(parameters)\n",
    "    mean_list.append(sum)\n",
    "\n",
    "maxPar = 'Parameter' + str(np.argmax(mean_list) + 1)\n",
    "print(maxPar)\n",
    "\n",
    "# variation of parameter 2 with alpha\n",
    "parMean = []\n",
    "for i in range(len(parameters)):\n",
    "    parMean.append(parameters[i][np.argmax(mean_list)])\n",
    "\n",
    "max_list = []\n",
    "for i in range(len(parameters)):\n",
    "    for j in range(1, len(parameters[0])-1):\n",
    "        max = parameters[i][j]\n",
    "        temp = parameters[i][j+1]\n",
    "        if (temp > max):\n",
    "            max = temp\n",
    "    max_list.append(max)"
   ]
  },
  {
   "cell_type": "code",
   "execution_count": null,
   "metadata": {
    "colab": {
     "base_uri": "https://localhost:8080/",
     "height": 703
    },
    "colab_type": "code",
    "id": "cHXhtxRVsLdB",
    "outputId": "cca3fc7e-ef4e-4aa6-b3ac-20ed7db9bfb9"
   },
   "outputs": [
    {
     "data": {
      "text/plain": [
       "<matplotlib.legend.Legend at 0x7f122da75828>"
      ]
     },
     "execution_count": 141,
     "metadata": {
      "tags": []
     },
     "output_type": "execute_result"
    },
    {
     "data": {
      "image/png": "[encoded data removed]",
      "text/plain": [
       "<Figure size 800x800 with 1 Axes>"
      ]
     },
     "metadata": {
      "tags": []
     },
     "output_type": "display_data"
    }
   ],
   "source": [
    "plt.figure(num=None, figsize=(10, 10), dpi=80, facecolor='w', edgecolor='k')\n",
    "plt.title('Plotting the coefficients (max, mean) vs alpha')\n",
    "plt.ylabel('Coefficient')\n",
    "plt.xlabel('alpha')\n",
    "plt.plot(alpha,parMean,marker='o',color='c' ,label='MEAN COEFFICIENT')\n",
    "plt.plot(alpha,max_list,marker='^',color='b' ,label='MAX COEFFICIENT')\n",
    "plt.legend()"
   ]
  },
  {
   "cell_type": "markdown",
   "metadata": {
    "colab_type": "text",
    "id": "6fdUdUPEig7d"
   },
   "source": [
    "## 5. Lasso Regression\n",
    "\n",
    "Use the library function of \"LASSO regression\" to find out which of the 3 features is most important, i.e. whose coefficient is furthest from 0. [2 marks]"
   ]
  },
  {
   "cell_type": "code",
   "execution_count": null,
   "metadata": {
    "colab": {
     "base_uri": "https://localhost:8080/",
     "height": 126
    },
    "colab_type": "code",
    "id": "Sm1-Q86hipps",
    "outputId": "1eae776b-8e2e-4bc5-d6ad-9c7026843580"
   },
   "outputs": [
    {
     "name": "stdout",
     "output_type": "stream",
     "text": [
      "All the available coefficients obtained using Lasso regression are:\n",
      "[ 0.04441851  0.18618922 -0.00443115]\n",
      "farthest from zero coefficient identified is =  0.1861892181617704\n",
      "----------------------------------------------------------------------\n",
      "Since, LASSO REGRESSION coeficient of feature #[2] i.e. radio is the farthest \n",
      " from 0 which means that radio is the most important feature!\n"
     ]
    }
   ],
   "source": [
    "lasso = Lasso(alpha = 0.1)\n",
    "lasso.fit(X_train,Y_train)\n",
    "\n",
    "print('All the available coefficients obtained using Lasso regression are:')\n",
    "print(lasso.coef_)\n",
    "print('farthest from zero coefficient identified is = ', lasso.coef_.max())\n",
    "\n",
    "print('----------------------------------------------------------------------')\n",
    "print('Since, LASSO REGRESSION coeficient of feature #' + \n",
    "      str(np.where(lasso.coef_ == lasso.coef_.max())[0] + 1) + \n",
    "      ' i.e. ' + \n",
    "      str(X_train.columns[int(\n",
    "          np.where(lasso.coef_ == lasso.coef_.max())[0])]) + \n",
    "      ' is the farthest', '\\n', 'from 0 which means that ' + \n",
    "      str(X_train.columns[int(\n",
    "          np.where(lasso.coef_ == lasso.coef_.max())[0])]) + \n",
    "      ' is the most important feature!')"
   ]
  },
  {
   "cell_type": "code",
   "execution_count": null,
   "metadata": {
    "colab": {},
    "colab_type": "code",
    "id": "D63-3AJGwj27"
   },
   "outputs": [],
   "source": []
  }
 ],
 "metadata": {
  "colab": {
   "name": "17BT10026_Assgn_2.ipynb",
   "provenance": [],
   "toc_visible": true
  },
  "kernelspec": {
   "display_name": "Python 3",
   "language": "python",
   "name": "python3"
  },
  "language_info": {
   "codemirror_mode": {
    "name": "ipython",
    "version": 3
   },
   "file_extension": ".py",
   "mimetype": "text/x-python",
   "name": "python",
   "nbconvert_exporter": "python",
   "pygments_lexer": "ipython3",
   "version": "3.8.3"
  }
 },
 "nbformat": 4,
 "nbformat_minor": 1
}

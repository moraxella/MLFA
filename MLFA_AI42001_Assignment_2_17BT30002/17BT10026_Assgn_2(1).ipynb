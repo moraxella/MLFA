{
 "cells": [
  {
   "cell_type": "markdown",
   "metadata": {
    "colab_type": "text",
    "id": "lAJpp9GqfsdM"
   },
   "source": [
    "# Problem Statement\n",
    "Consider the attached dataset about *advertising and sales*. The attributes denote the investments on advertising in TV, radio etc and the target variable is the **total sales**. \n",
    "\n",
    "AIM: to predict the sales from the investments on advertising."
   ]
  },
  {
   "cell_type": "markdown",
   "metadata": {
    "colab_type": "text",
    "id": "MdYmTO1DiuZn"
   },
   "source": [
    "## 0. Prelimenary Work"
   ]
  },
  {
   "cell_type": "markdown",
   "metadata": {
    "colab_type": "text",
    "id": "O3ClNfyAmEXM"
   },
   "source": [
    "### 0.1. Importing Libraries and Reading the Data"
   ]
  },
  {
   "cell_type": "code",
   "execution_count": 27,
   "metadata": {
    "colab": {},
    "colab_type": "code",
    "id": "GSFUvNdkhquc"
   },
   "outputs": [],
   "source": [
    "# Importing relevant libraries\n",
    "\n",
    "import pandas as pd\n",
    "import numpy as np\n",
    "\n",
    "import random\n",
    "\n",
    "from sklearn import linear_model as pLM\n",
    "from sklearn.datasets import make_regression\n",
    "from matplotlib import pyplot as plt\n",
    "from sklearn.linear_model import Lasso"
   ]
  },
  {
   "cell_type": "code",
   "execution_count": 28,
   "metadata": {
    "colab": {},
    "colab_type": "code",
    "id": "_blw1v29iy95"
   },
   "outputs": [],
   "source": [
    "# Reading the csv data\n",
    "data = pd.read_csv(\"Advertising Dataset.csv\")"
   ]
  },
  {
   "cell_type": "code",
   "execution_count": 29,
   "metadata": {
    "colab": {
     "base_uri": "https://localhost:8080/",
     "height": 206
    },
    "colab_type": "code",
    "id": "iloynEQEjkKQ",
    "outputId": "3ee4933b-71d5-4510-f452-aa203d97cde6"
   },
   "outputs": [
    {
     "data": {
      "text/html": [
       "<div>\n",
       "<style scoped>\n",
       "    .dataframe tbody tr th:only-of-type {\n",
       "        vertical-align: middle;\n",
       "    }\n",
       "\n",
       "    .dataframe tbody tr th {\n",
       "        vertical-align: top;\n",
       "    }\n",
       "\n",
       "    .dataframe thead th {\n",
       "        text-align: right;\n",
       "    }\n",
       "</style>\n",
       "<table border=\"1\" class=\"dataframe\">\n",
       "  <thead>\n",
       "    <tr style=\"text-align: right;\">\n",
       "      <th></th>\n",
       "      <th>Unnamed: 0</th>\n",
       "      <th>TV</th>\n",
       "      <th>radio</th>\n",
       "      <th>newspaper</th>\n",
       "      <th>sales</th>\n",
       "    </tr>\n",
       "  </thead>\n",
       "  <tbody>\n",
       "    <tr>\n",
       "      <th>0</th>\n",
       "      <td>1</td>\n",
       "      <td>230.1</td>\n",
       "      <td>37.8</td>\n",
       "      <td>69.2</td>\n",
       "      <td>22.1</td>\n",
       "    </tr>\n",
       "    <tr>\n",
       "      <th>1</th>\n",
       "      <td>2</td>\n",
       "      <td>44.5</td>\n",
       "      <td>39.3</td>\n",
       "      <td>45.1</td>\n",
       "      <td>10.4</td>\n",
       "    </tr>\n",
       "    <tr>\n",
       "      <th>2</th>\n",
       "      <td>3</td>\n",
       "      <td>17.2</td>\n",
       "      <td>45.9</td>\n",
       "      <td>69.3</td>\n",
       "      <td>9.3</td>\n",
       "    </tr>\n",
       "    <tr>\n",
       "      <th>3</th>\n",
       "      <td>4</td>\n",
       "      <td>151.5</td>\n",
       "      <td>41.3</td>\n",
       "      <td>58.5</td>\n",
       "      <td>18.5</td>\n",
       "    </tr>\n",
       "    <tr>\n",
       "      <th>4</th>\n",
       "      <td>5</td>\n",
       "      <td>180.8</td>\n",
       "      <td>10.8</td>\n",
       "      <td>58.4</td>\n",
       "      <td>12.9</td>\n",
       "    </tr>\n",
       "  </tbody>\n",
       "</table>\n",
       "</div>"
      ],
      "text/plain": [
       "   Unnamed: 0     TV  radio  newspaper  sales\n",
       "0           1  230.1   37.8       69.2   22.1\n",
       "1           2   44.5   39.3       45.1   10.4\n",
       "2           3   17.2   45.9       69.3    9.3\n",
       "3           4  151.5   41.3       58.5   18.5\n",
       "4           5  180.8   10.8       58.4   12.9"
      ]
     },
     "execution_count": 29,
     "metadata": {},
     "output_type": "execute_result"
    }
   ],
   "source": [
    "data.head()"
   ]
  },
  {
   "cell_type": "code",
   "execution_count": 30,
   "metadata": {
    "colab": {
     "base_uri": "https://localhost:8080/",
     "height": 181
    },
    "colab_type": "code",
    "id": "83Tsq7ZcjPA8",
    "outputId": "279bfb20-64d8-44cd-8003-4d456cee7d57"
   },
   "outputs": [
    {
     "name": "stdout",
     "output_type": "stream",
     "text": [
      "       Unnamed: 0          TV       radio   newspaper       sales\n",
      "count  200.000000  200.000000  200.000000  200.000000  200.000000\n",
      "mean   100.500000  147.042500   23.264000   30.554000   14.022500\n",
      "std     57.879185   85.854236   14.846809   21.778621    5.217457\n",
      "min      1.000000    0.700000    0.000000    0.300000    1.600000\n",
      "25%     50.750000   74.375000    9.975000   12.750000   10.375000\n",
      "50%    100.500000  149.750000   22.900000   25.750000   12.900000\n",
      "75%    150.250000  218.825000   36.525000   45.100000   17.400000\n",
      "max    200.000000  296.400000   49.600000  114.000000   27.000000\n"
     ]
    }
   ],
   "source": [
    "print(data.describe())"
   ]
  },
  {
   "cell_type": "code",
   "execution_count": 31,
   "metadata": {
    "colab": {
     "base_uri": "https://localhost:8080/",
     "height": 206
    },
    "colab_type": "code",
    "id": "5coZzLVrj73W",
    "outputId": "8f84ebb2-5406-4aa7-c250-db60b0a361fc"
   },
   "outputs": [
    {
     "data": {
      "text/html": [
       "<div>\n",
       "<style scoped>\n",
       "    .dataframe tbody tr th:only-of-type {\n",
       "        vertical-align: middle;\n",
       "    }\n",
       "\n",
       "    .dataframe tbody tr th {\n",
       "        vertical-align: top;\n",
       "    }\n",
       "\n",
       "    .dataframe thead th {\n",
       "        text-align: right;\n",
       "    }\n",
       "</style>\n",
       "<table border=\"1\" class=\"dataframe\">\n",
       "  <thead>\n",
       "    <tr style=\"text-align: right;\">\n",
       "      <th></th>\n",
       "      <th>Sr. No.</th>\n",
       "      <th>TV</th>\n",
       "      <th>radio</th>\n",
       "      <th>newspaper</th>\n",
       "      <th>sales</th>\n",
       "    </tr>\n",
       "  </thead>\n",
       "  <tbody>\n",
       "    <tr>\n",
       "      <th>0</th>\n",
       "      <td>1</td>\n",
       "      <td>230.1</td>\n",
       "      <td>37.8</td>\n",
       "      <td>69.2</td>\n",
       "      <td>22.1</td>\n",
       "    </tr>\n",
       "    <tr>\n",
       "      <th>1</th>\n",
       "      <td>2</td>\n",
       "      <td>44.5</td>\n",
       "      <td>39.3</td>\n",
       "      <td>45.1</td>\n",
       "      <td>10.4</td>\n",
       "    </tr>\n",
       "    <tr>\n",
       "      <th>2</th>\n",
       "      <td>3</td>\n",
       "      <td>17.2</td>\n",
       "      <td>45.9</td>\n",
       "      <td>69.3</td>\n",
       "      <td>9.3</td>\n",
       "    </tr>\n",
       "    <tr>\n",
       "      <th>3</th>\n",
       "      <td>4</td>\n",
       "      <td>151.5</td>\n",
       "      <td>41.3</td>\n",
       "      <td>58.5</td>\n",
       "      <td>18.5</td>\n",
       "    </tr>\n",
       "    <tr>\n",
       "      <th>4</th>\n",
       "      <td>5</td>\n",
       "      <td>180.8</td>\n",
       "      <td>10.8</td>\n",
       "      <td>58.4</td>\n",
       "      <td>12.9</td>\n",
       "    </tr>\n",
       "  </tbody>\n",
       "</table>\n",
       "</div>"
      ],
      "text/plain": [
       "   Sr. No.     TV  radio  newspaper  sales\n",
       "0        1  230.1   37.8       69.2   22.1\n",
       "1        2   44.5   39.3       45.1   10.4\n",
       "2        3   17.2   45.9       69.3    9.3\n",
       "3        4  151.5   41.3       58.5   18.5\n",
       "4        5  180.8   10.8       58.4   12.9"
      ]
     },
     "execution_count": 31,
     "metadata": {},
     "output_type": "execute_result"
    }
   ],
   "source": [
    "# rename the first column\n",
    "data = data.rename(columns={\"Unnamed: 0\": \"Sr. No.\"})\n",
    "\n",
    "data.head()"
   ]
  },
  {
   "cell_type": "markdown",
   "metadata": {
    "colab_type": "text",
    "id": "ZnAF5mAvhdnd"
   },
   "source": [
    "## 1. Random division\n",
    "Randomly divide the dataset into training (75%) and testing (25%) subsets [1 mark]"
   ]
  },
  {
   "cell_type": "code",
   "execution_count": 32,
   "metadata": {
    "colab": {},
    "colab_type": "code",
    "id": "kUXLEPCMhcgR"
   },
   "outputs": [],
   "source": [
    "# shuffeling the data\n",
    "sData = data.sample(frac=1)\n",
    "\n",
    "train_size = int(.75 * len(data))  # --> 150\n",
    "\n",
    "# splitting the data\n",
    "train_set = sData[:train_size]\n",
    "test_set = sData[train_size:]"
   ]
  },
  {
   "cell_type": "code",
   "execution_count": 33,
   "metadata": {
    "colab": {
     "base_uri": "https://localhost:8080/",
     "height": 206
    },
    "colab_type": "code",
    "id": "YcNYXvFKtGlq",
    "outputId": "f58802c2-e0f9-41e8-c380-085ef5efff06"
   },
   "outputs": [
    {
     "data": {
      "text/html": [
       "<div>\n",
       "<style scoped>\n",
       "    .dataframe tbody tr th:only-of-type {\n",
       "        vertical-align: middle;\n",
       "    }\n",
       "\n",
       "    .dataframe tbody tr th {\n",
       "        vertical-align: top;\n",
       "    }\n",
       "\n",
       "    .dataframe thead th {\n",
       "        text-align: right;\n",
       "    }\n",
       "</style>\n",
       "<table border=\"1\" class=\"dataframe\">\n",
       "  <thead>\n",
       "    <tr style=\"text-align: right;\">\n",
       "      <th></th>\n",
       "      <th>Sr. No.</th>\n",
       "      <th>TV</th>\n",
       "      <th>radio</th>\n",
       "      <th>newspaper</th>\n",
       "      <th>sales</th>\n",
       "    </tr>\n",
       "  </thead>\n",
       "  <tbody>\n",
       "    <tr>\n",
       "      <th>31</th>\n",
       "      <td>32</td>\n",
       "      <td>112.9</td>\n",
       "      <td>17.4</td>\n",
       "      <td>38.6</td>\n",
       "      <td>11.9</td>\n",
       "    </tr>\n",
       "    <tr>\n",
       "      <th>107</th>\n",
       "      <td>108</td>\n",
       "      <td>90.4</td>\n",
       "      <td>0.3</td>\n",
       "      <td>23.2</td>\n",
       "      <td>8.7</td>\n",
       "    </tr>\n",
       "    <tr>\n",
       "      <th>67</th>\n",
       "      <td>68</td>\n",
       "      <td>139.3</td>\n",
       "      <td>14.5</td>\n",
       "      <td>10.2</td>\n",
       "      <td>13.4</td>\n",
       "    </tr>\n",
       "    <tr>\n",
       "      <th>198</th>\n",
       "      <td>199</td>\n",
       "      <td>283.6</td>\n",
       "      <td>42.0</td>\n",
       "      <td>66.2</td>\n",
       "      <td>25.5</td>\n",
       "    </tr>\n",
       "    <tr>\n",
       "      <th>44</th>\n",
       "      <td>45</td>\n",
       "      <td>25.1</td>\n",
       "      <td>25.7</td>\n",
       "      <td>43.3</td>\n",
       "      <td>8.5</td>\n",
       "    </tr>\n",
       "  </tbody>\n",
       "</table>\n",
       "</div>"
      ],
      "text/plain": [
       "     Sr. No.     TV  radio  newspaper  sales\n",
       "31        32  112.9   17.4       38.6   11.9\n",
       "107      108   90.4    0.3       23.2    8.7\n",
       "67        68  139.3   14.5       10.2   13.4\n",
       "198      199  283.6   42.0       66.2   25.5\n",
       "44        45   25.1   25.7       43.3    8.5"
      ]
     },
     "execution_count": 33,
     "metadata": {},
     "output_type": "execute_result"
    }
   ],
   "source": [
    "train_set.head()"
   ]
  },
  {
   "cell_type": "code",
   "execution_count": 34,
   "metadata": {
    "colab": {
     "base_uri": "https://localhost:8080/",
     "height": 206
    },
    "colab_type": "code",
    "id": "l8Tf9RsMtMXW",
    "outputId": "5e66570a-cec6-4aa5-a520-866b1b0273af"
   },
   "outputs": [
    {
     "data": {
      "text/html": [
       "<div>\n",
       "<style scoped>\n",
       "    .dataframe tbody tr th:only-of-type {\n",
       "        vertical-align: middle;\n",
       "    }\n",
       "\n",
       "    .dataframe tbody tr th {\n",
       "        vertical-align: top;\n",
       "    }\n",
       "\n",
       "    .dataframe thead th {\n",
       "        text-align: right;\n",
       "    }\n",
       "</style>\n",
       "<table border=\"1\" class=\"dataframe\">\n",
       "  <thead>\n",
       "    <tr style=\"text-align: right;\">\n",
       "      <th></th>\n",
       "      <th>Sr. No.</th>\n",
       "      <th>TV</th>\n",
       "      <th>radio</th>\n",
       "      <th>newspaper</th>\n",
       "      <th>sales</th>\n",
       "    </tr>\n",
       "  </thead>\n",
       "  <tbody>\n",
       "    <tr>\n",
       "      <th>160</th>\n",
       "      <td>161</td>\n",
       "      <td>172.5</td>\n",
       "      <td>18.1</td>\n",
       "      <td>30.7</td>\n",
       "      <td>14.4</td>\n",
       "    </tr>\n",
       "    <tr>\n",
       "      <th>18</th>\n",
       "      <td>19</td>\n",
       "      <td>69.2</td>\n",
       "      <td>20.5</td>\n",
       "      <td>18.3</td>\n",
       "      <td>11.3</td>\n",
       "    </tr>\n",
       "    <tr>\n",
       "      <th>125</th>\n",
       "      <td>126</td>\n",
       "      <td>87.2</td>\n",
       "      <td>11.8</td>\n",
       "      <td>25.9</td>\n",
       "      <td>10.6</td>\n",
       "    </tr>\n",
       "    <tr>\n",
       "      <th>139</th>\n",
       "      <td>140</td>\n",
       "      <td>184.9</td>\n",
       "      <td>43.9</td>\n",
       "      <td>1.7</td>\n",
       "      <td>20.7</td>\n",
       "    </tr>\n",
       "    <tr>\n",
       "      <th>57</th>\n",
       "      <td>58</td>\n",
       "      <td>136.2</td>\n",
       "      <td>19.2</td>\n",
       "      <td>16.6</td>\n",
       "      <td>13.2</td>\n",
       "    </tr>\n",
       "  </tbody>\n",
       "</table>\n",
       "</div>"
      ],
      "text/plain": [
       "     Sr. No.     TV  radio  newspaper  sales\n",
       "160      161  172.5   18.1       30.7   14.4\n",
       "18        19   69.2   20.5       18.3   11.3\n",
       "125      126   87.2   11.8       25.9   10.6\n",
       "139      140  184.9   43.9        1.7   20.7\n",
       "57        58  136.2   19.2       16.6   13.2"
      ]
     },
     "execution_count": 34,
     "metadata": {},
     "output_type": "execute_result"
    }
   ],
   "source": [
    "test_set.head()"
   ]
  },
  {
   "cell_type": "code",
   "execution_count": 35,
   "metadata": {
    "colab": {},
    "colab_type": "code",
    "id": "5gyHPyIIvPvJ"
   },
   "outputs": [],
   "source": [
    "# To check if any common value exists\n",
    "for i in range(len(train_set)):\n",
    "    for j in range(len(test_set)):\n",
    "        if train_set.iloc[i, 0] == test_set.iloc[j, 0]:\n",
    "            print(\"Common row found! ABORT\")\n",
    "            print(train_set.iloc[i, 0])\n",
    "            print(test_set.iloc[j, 0])\n",
    "            break"
   ]
  },
  {
   "cell_type": "markdown",
   "metadata": {
    "colab_type": "text",
    "id": "-82LE4idmPyY"
   },
   "source": [
    "### 1.1. Attribute Matrix X"
   ]
  },
  {
   "cell_type": "code",
   "execution_count": 36,
   "metadata": {
    "colab": {
     "base_uri": "https://localhost:8080/",
     "height": 235
    },
    "colab_type": "code",
    "id": "13OLVLHYlPcg",
    "outputId": "e3aa14fb-ac3c-4a56-b323-161603a6be6e"
   },
   "outputs": [
    {
     "name": "stdout",
     "output_type": "stream",
     "text": [
      "        TV  radio  newspaper\n",
      "31   112.9   17.4       38.6\n",
      "107   90.4    0.3       23.2\n",
      "67   139.3   14.5       10.2\n",
      "198  283.6   42.0       66.2\n",
      "44    25.1   25.7       43.3\n",
      "        TV  radio  newspaper\n",
      "160  172.5   18.1       30.7\n",
      "18    69.2   20.5       18.3\n",
      "125   87.2   11.8       25.9\n",
      "139  184.9   43.9        1.7\n",
      "57   136.2   19.2       16.6\n"
     ]
    }
   ],
   "source": [
    "# Creating Attributes Matrix -- X\n",
    "\n",
    "X_train = train_set.iloc[:, 1:4]\n",
    "print(X_train.head())\n",
    "\n",
    "X_test = test_set.iloc[:, 1:4]\n",
    "print(X_test.head())"
   ]
  },
  {
   "cell_type": "markdown",
   "metadata": {
    "colab_type": "text",
    "id": "JMtCm_3HmTh8"
   },
   "source": [
    "### 1.2. Label Vextor Y"
   ]
  },
  {
   "cell_type": "code",
   "execution_count": 37,
   "metadata": {
    "colab": {
     "base_uri": "https://localhost:8080/",
     "height": 235
    },
    "colab_type": "code",
    "id": "-_4CqOjylqJe",
    "outputId": "fc240db9-c1be-4173-f3a8-565d25675bab"
   },
   "outputs": [
    {
     "name": "stdout",
     "output_type": "stream",
     "text": [
      "     sales\n",
      "31    11.9\n",
      "107    8.7\n",
      "67    13.4\n",
      "198   25.5\n",
      "44     8.5\n",
      "     sales\n",
      "160   14.4\n",
      "18    11.3\n",
      "125   10.6\n",
      "139   20.7\n",
      "57    13.2\n"
     ]
    }
   ],
   "source": [
    "# Creating Label Vector -- Y\n",
    "\n",
    "Y_temp = train_set.iloc[:, 4]\n",
    "Y_train = pd.DataFrame(Y_temp)\n",
    "print(Y_train.head())\n",
    "\n",
    "Y_temp = test_set.iloc[:, 4]\n",
    "Y_test = pd.DataFrame(Y_temp)\n",
    "print(Y_test.head())"
   ]
  },
  {
   "cell_type": "markdown",
   "metadata": {
    "colab_type": "text",
    "id": "QN7urxukh2_M"
   },
   "source": [
    "## 2. Linear Regression \n",
    "\n",
    "Using Linear Regression, fit a model to predict the sales from investments using your own formula. Compare the coefficients as found by the python library function [3 marks]"
   ]
  },
  {
   "cell_type": "markdown",
   "metadata": {
    "colab_type": "text",
    "id": "fUZ9mCvfv07U"
   },
   "source": [
    "### 2.1. Coefficient by Model From Scratch"
   ]
  },
  {
   "cell_type": "code",
   "execution_count": 71,
   "metadata": {
    "colab": {},
    "colab_type": "code",
    "id": "cqYodhRqfsLU"
   },
   "outputs": [],
   "source": [
    "class OrdinaryLeastSquared(object):\n",
    "    \n",
    "    def __init__(self):\n",
    "        self.coefficients = []\n",
    "\n",
    "    def _reshape_x(self, X):\n",
    "        # Reshapig into a vector of 1 column\n",
    "        return X.reshape(-1, 1)\n",
    "\n",
    "    def _concatneate_ones(self, X):\n",
    "        ones = np.ones(shape=X.shape[0]).reshape(-1, 1)\n",
    "        return np.concatenate((ones, X), 1)\n",
    "\n",
    "    # -- Heart of the model -- #\n",
    "    def fit(self, X, y):\n",
    "        if len(X.shape) == 1:\n",
    "            X = self._reshape_x(X)\n",
    "        \n",
    "        X = self._concatneate_ones(X)\n",
    "\n",
    "        self.coefficients = np.linalg.inv(X.transpose().dot(X)).dot(\n",
    "            X.transpose().dot(y))\n",
    "    \n",
    "    def predict(self, entry):\n",
    "        b0 = self.coefficients[0]\n",
    "        other_betas = self.coefficients[1:]\n",
    "\n",
    "        prediction = other_betas.transpose().dot(entry) + b0\n",
    "        print (prediction)\n",
    "        \n",
    "        return prediction"
   ]
  },
  {
   "cell_type": "code",
   "execution_count": 72,
   "metadata": {
    "colab": {
     "base_uri": "https://localhost:8080/",
     "height": 90
    },
    "colab_type": "code",
    "id": "oP6dNvwm4Nz-",
    "outputId": "958356b9-338c-4043-ec22-fa2af4a75719",
    "scrolled": true
   },
   "outputs": [
    {
     "data": {
      "text/plain": [
       "array([[ 2.83491025],\n",
       "       [ 0.04614785],\n",
       "       [ 0.19036464],\n",
       "       [-0.00312993]])"
      ]
     },
     "execution_count": 72,
     "metadata": {},
     "output_type": "execute_result"
    }
   ],
   "source": [
    "model = OrdinaryLeastSquared()\n",
    "\n",
    "model.fit(X_train, Y_train)\n",
    "model.coefficients"
   ]
  },
  {
   "cell_type": "code",
   "execution_count": 73,
   "metadata": {
    "colab": {},
    "colab_type": "code",
    "id": "7XeRyayE4Nur"
   },
   "outputs": [
    {
     "name": "stdout",
     "output_type": "stream",
     "text": [
      "[112.9  17.4  38.6]\n",
      "[11.23653161]\n",
      "[90.4  0.3 23.2]\n",
      "[6.99117062]\n",
      "[139.3  14.5  10.2]\n",
      "[11.99166741]\n",
      "[283.6  42.   66.2]\n",
      "[23.71055323]\n",
      "[25.1 25.7 43.3]\n",
      "[8.75006644]\n",
      "[94.2  4.9  8.1]\n",
      "[8.08947178]\n",
      "[93.9 43.5 50.5]\n",
      "[15.29099346]\n",
      "[292.9  28.3  43.2]\n",
      "[21.60372107]\n",
      "[230.1  37.8  69.2]\n",
      "[20.4327221]\n",
      "[182.6  46.2  58.7]\n",
      "[19.87262663]\n",
      "[68.4 44.5 35.6]\n",
      "[14.35122399]\n",
      "[163.3  31.6  52.9]\n",
      "[16.220803]\n",
      "[265.6  20.    0.3]\n",
      "[18.89813242]\n",
      "[ 0.7 39.6  8.7]\n",
      "[10.37842316]\n",
      "[ 7.8 38.9 50.6]\n",
      "[10.44167344]\n",
      "[104.6   5.7  34.4]\n",
      "[8.63938388]\n",
      "[73.4 17.  12.9]\n",
      "[9.41798504]\n",
      "[43.  25.9 20.5]\n",
      "[9.68554831]\n",
      "[74.7 49.4 45.7]\n",
      "[15.54312986]\n",
      "[11.7 36.9 45.2]\n",
      "[10.2578224]\n",
      "[44.7 25.8 20.6]\n",
      "[9.74465019]\n",
      "[188.4  18.1  25.6]\n",
      "[14.89463847]\n",
      "[76.4 26.7 22.3]\n",
      "[11.37354425]\n",
      "[266.9  43.8   5. ]\n",
      "[23.47409242]\n",
      "[210.7  29.5   9.3]\n",
      "[18.1449103]\n",
      "[ 8.7 48.9 75. ]\n",
      "[12.31048257]\n",
      "[171.3  39.7  37.7]\n",
      "[18.17951436]\n",
      "[17.2 45.9 69.3]\n",
      "[12.14948596]\n",
      "[110.7  40.6  63.2]\n",
      "[15.47446969]\n",
      "[286.   13.9   3.7]\n",
      "[18.66768242]\n",
      "[220.3  49.    3.2]\n",
      "[22.31913274]\n",
      "[139.5   2.1  26.6]\n",
      "[9.58904452]\n",
      "[140.3   1.9   9. ]\n",
      "[9.64297669]\n",
      "[187.8  21.1   9.5]\n",
      "[15.48843561]\n",
      "[220.5  33.2  37.9]\n",
      "[19.2119923]\n",
      "[195.4  47.7  52.9]\n",
      "[20.76701965]\n",
      "[13.1  0.4 25.6]\n",
      "[3.43546663]\n",
      "[164.5  20.9  47.4]\n",
      "[14.25649338]\n",
      "[75.1 35.  52.7]\n",
      "[12.79842862]\n",
      "[222.4   4.3  49.8]\n",
      "[13.76088886]\n",
      "[227.2  15.8  49.9]\n",
      "[16.17127891]\n",
      "[44.5 39.3 45.1]\n",
      "[12.22865994]\n",
      "[232.1   8.6   8.7]\n",
      "[15.15573117]\n",
      "[135.2  41.7  45.9]\n",
      "[16.8686409]\n",
      "[149.8   1.3  24.3]\n",
      "[9.91927448]\n",
      "[224.    2.4  15.6]\n",
      "[13.58007629]\n",
      "[225.8   8.2  56.5]\n",
      "[14.63924309]\n",
      "[215.4  23.6  57.6]\n",
      "[17.08747804]\n",
      "[125.7  36.9  79.2]\n",
      "[15.41225931]\n",
      "[31.5 24.6  2.2]\n",
      "[8.96465179]\n",
      "[ 7.3 28.1 41.4]\n",
      "[8.39145677]\n",
      "[142.9  29.3  12.6]\n",
      "[14.96768453]\n",
      "[204.1  32.9  46. ]\n",
      "[18.37270575]\n",
      "[100.4   9.6   3.6]\n",
      "[9.28438695]\n",
      "[170.2   7.8  35.2]\n",
      "[12.06394448]\n",
      "[ 4.1 11.6  5.7]\n",
      "[5.21450566]\n",
      "[163.5  36.8   7.4]\n",
      "[17.36234065]\n",
      "[107.4  14.   10.9]\n",
      "[10.4221778]\n",
      "[175.7  15.4   2.4]\n",
      "[13.86719071]\n",
      "[18.8 21.7 50.4]\n",
      "[7.67565391]\n",
      "[147.3  23.9  19.1]\n",
      "[14.12242143]\n",
      "[109.8  47.8  51.4]\n",
      "[16.84049526]\n",
      "[240.1  16.7  22.9]\n",
      "[17.02242251]\n",
      "[180.8  10.8  58.4]\n",
      "[13.05159115]\n",
      "[281.4  39.6  55.8]\n",
      "[23.18470413]\n",
      "[177.    9.3   6.4]\n",
      "[12.75343887]\n",
      "[205.   45.1  19.6]\n",
      "[20.81931767]\n",
      "[36.9 38.6 65.6]\n",
      "[11.68051742]\n",
      "[ 8.4 27.2  2.1]\n",
      "[8.39389758]\n",
      "[197.6  23.3  14.2]\n",
      "[16.34477604]\n",
      "[120.5  28.5  14.2]\n",
      "[13.77667314]\n",
      "[287.6  43.   71.8]\n",
      "[24.06798164]\n",
      "[25.  11.  29.7]\n",
      "[5.9896585]\n",
      "[13.2 15.9 49.6]\n",
      "[6.31561499]\n",
      "[262.7  28.8  15.9]\n",
      "[20.39068556]\n",
      "[273.7  28.9  59.7]\n",
      "[20.7802573]\n",
      "[237.4   5.1  23.5]\n",
      "[14.68771551]\n",
      "[209.6  20.6  10.7]\n",
      "[16.39552044]\n",
      "[197.6   3.5   5.9]\n",
      "[12.60153457]\n",
      "[213.5  43.   33.8]\n",
      "[20.76736358]\n",
      "[17.9 37.6 21.6]\n",
      "[10.75106072]\n",
      "[62.3 12.6 18.3]\n",
      "[8.05123788]\n",
      "[139.2  14.3  25.6]\n",
      "[11.90077873]\n",
      "[191.1  28.7  18.2]\n",
      "[17.06026437]\n",
      "[17.2  4.1 31.6]\n",
      "[4.31024239]\n",
      "[243.2  49.   44.3]\n",
      "[23.24727822]\n",
      "[88.3 25.5 73.4]\n",
      "[11.5343265]\n",
      "[199.1  30.6  38.7]\n",
      "[17.72697635]\n",
      "[75.5 10.8  6. ]\n",
      "[8.35623128]\n",
      "[293.6  27.7   1.8]\n",
      "[21.651385]\n",
      "[240.1   7.3   8.7]\n",
      "[15.27743992]\n",
      "[237.4  27.5  11. ]\n",
      "[18.99100766]\n",
      "[131.1  42.8  28.9]\n",
      "[16.94204469]\n",
      "[70.6 16.  40.8]\n",
      "[9.01108131]\n",
      "[53.5  2.  21.4]\n",
      "[5.61756882]\n",
      "[121.    8.4  48.7]\n",
      "[9.86543507]\n",
      "[239.3  15.5  27.3]\n",
      "[16.74329496]\n",
      "[206.9   8.4  26.4]\n",
      "[13.89933268]\n",
      "[151.5  41.3  58.5]\n",
      "[17.50526781]\n",
      "[66.9 11.7 36.8]\n",
      "[8.03428604]\n",
      "[117.2  14.7   5.4]\n",
      "[11.02489659]\n",
      "[199.8   2.6  21.2]\n",
      "[12.48384369]\n",
      "[193.2  18.4  65.7]\n",
      "[15.04774723]\n",
      "[89.7  9.9 35.7]\n",
      "[8.74724353]\n",
      "[168.4   7.1  12.8]\n",
      "[11.9177336]\n",
      "[241.7  38.   23.2]\n",
      "[21.15008696]\n",
      "[229.5  32.3  74.2]\n",
      "[19.34237819]\n",
      "[239.8   4.1  36.9]\n",
      "[14.56616461]\n",
      "[239.9  41.5  18.5]\n",
      "[21.74800777]\n",
      "[184.9  21.   22. ]\n",
      "[15.29644623]\n",
      "[262.9   3.5  19.5]\n",
      "[15.57242193]\n",
      "[280.7  13.9  37. ]\n",
      "[18.31887207]\n",
      "[228.3  16.9  26.2]\n",
      "[16.50562206]\n",
      "[16.9 43.7 89.4]\n",
      "[11.65392775]\n",
      "[48.3 47.   8.5]\n",
      "[13.98438504]\n",
      "[218.5   5.4  27.4]\n",
      "[13.86042385]\n",
      "[38.2  3.7 13.8]\n",
      "[5.25891413]\n",
      "[75.3 20.3 32.5]\n",
      "[10.07252259]\n",
      "[296.4  36.3 100.9]\n",
      "[23.10755856]\n",
      "[116.    7.7  23.1]\n",
      "[9.58156686]\n",
      "[238.2  34.3   5.3]\n",
      "[20.34024612]\n",
      "[43.1 26.7 35.1]\n",
      "[9.79675779]\n",
      "[76.3 27.5 16. ]\n",
      "[11.54093975]\n",
      "[290.7   4.1   8.5]\n",
      "[17.00398014]\n",
      "[261.3  42.7  54.7]\n",
      "[22.85070571]\n",
      "[50.  11.6 18.4]\n",
      "[7.29294172]\n",
      "[265.2   2.9  43. ]\n",
      "[15.49078977]\n",
      "[134.3   4.9   9.3]\n",
      "[9.93624455]\n",
      "[276.7   2.3  23.7]\n",
      "[15.96767894]\n",
      "[280.2  10.1  21.4]\n",
      "[17.62123946]\n",
      "[95.7  1.4  7.4]\n",
      "[7.49460826]\n",
      "[141.3  26.8  46.2]\n",
      "[14.31277062]\n",
      "[210.8  49.6  37.7]\n",
      "[21.8869643]\n",
      "[80.2  0.   9.2]\n",
      "[6.50717224]\n",
      "[213.4  24.6  13.1]\n",
      "[17.32482899]\n",
      "[131.7  18.4  34.6]\n",
      "[12.30699551]\n",
      "[102.7  29.6   8.4]\n",
      "[13.18279617]\n",
      "[109.8  14.3  31.7]\n",
      "[10.52493943]\n",
      "[216.4  41.7  39.6]\n",
      "[20.6355647]\n",
      "[57.5 32.8 23.5]\n",
      "[11.65881833]\n",
      "[26.8 33.  19.3]\n",
      "[10.29329805]\n",
      "[219.8  33.5  45.1]\n",
      "[19.21426268]\n",
      "[19.6 20.1 17. ]\n",
      "[7.51252851]\n",
      "[216.8  43.9  27.2]\n",
      "[21.11163722]\n",
      "[97.2  1.5 30. ]\n",
      "[7.51213001]\n",
      "[27.5  1.6 20.7]\n",
      "[4.34376988]\n",
      "[149.7  35.6   6. ]\n",
      "[16.50144469]\n",
      "[19.4 16.  22.3]\n",
      "[6.70621527]\n",
      "[217.7  33.5  59. ]\n",
      "[19.07384614]\n",
      "[66.1  5.8 24.2]\n",
      "[6.91365353]\n"
     ]
    }
   ],
   "source": [
    "y_predictions = []\n",
    "\n",
    "for row in X_train.values:\n",
    "    print (row)\n",
    "    y_predictions.append(model.predict(row)[0])\n",
    "\n",
    "y_predictions = np.asarray(y_predictions)"
   ]
  },
  {
   "cell_type": "code",
   "execution_count": 74,
   "metadata": {
    "colab": {
     "base_uri": "https://localhost:8080/",
     "height": 424
    },
    "colab_type": "code",
    "id": "GEAguIBk4Njy",
    "outputId": "86672ec8-d62e-4648-80f3-1be8355e0f20"
   },
   "outputs": [
    {
     "name": "stdout",
     "output_type": "stream",
     "text": [
      "     sales\n",
      "31    11.9\n",
      "107    8.7\n",
      "67    13.4\n",
      "198   25.5\n",
      "44     8.5\n",
      "..     ...\n",
      "76     6.9\n",
      "194   17.3\n",
      "119    6.6\n",
      "92    19.4\n",
      "10     8.6\n",
      "\n",
      "[150 rows x 1 columns]\n"
     ]
    },
    {
     "data": {
      "text/html": [
       "<div>\n",
       "<style scoped>\n",
       "    .dataframe tbody tr th:only-of-type {\n",
       "        vertical-align: middle;\n",
       "    }\n",
       "\n",
       "    .dataframe tbody tr th {\n",
       "        vertical-align: top;\n",
       "    }\n",
       "\n",
       "    .dataframe thead th {\n",
       "        text-align: right;\n",
       "    }\n",
       "</style>\n",
       "<table border=\"1\" class=\"dataframe\">\n",
       "  <thead>\n",
       "    <tr style=\"text-align: right;\">\n",
       "      <th></th>\n",
       "      <th>sales</th>\n",
       "      <th>Y Predictions</th>\n",
       "    </tr>\n",
       "  </thead>\n",
       "  <tbody>\n",
       "    <tr>\n",
       "      <th>31</th>\n",
       "      <td>11.9</td>\n",
       "      <td>11.236532</td>\n",
       "    </tr>\n",
       "    <tr>\n",
       "      <th>107</th>\n",
       "      <td>8.7</td>\n",
       "      <td>6.991171</td>\n",
       "    </tr>\n",
       "    <tr>\n",
       "      <th>67</th>\n",
       "      <td>13.4</td>\n",
       "      <td>11.991667</td>\n",
       "    </tr>\n",
       "    <tr>\n",
       "      <th>198</th>\n",
       "      <td>25.5</td>\n",
       "      <td>23.710553</td>\n",
       "    </tr>\n",
       "    <tr>\n",
       "      <th>44</th>\n",
       "      <td>8.5</td>\n",
       "      <td>8.750066</td>\n",
       "    </tr>\n",
       "    <tr>\n",
       "      <th>...</th>\n",
       "      <td>...</td>\n",
       "      <td>...</td>\n",
       "    </tr>\n",
       "    <tr>\n",
       "      <th>76</th>\n",
       "      <td>6.9</td>\n",
       "      <td>4.343770</td>\n",
       "    </tr>\n",
       "    <tr>\n",
       "      <th>194</th>\n",
       "      <td>17.3</td>\n",
       "      <td>16.501445</td>\n",
       "    </tr>\n",
       "    <tr>\n",
       "      <th>119</th>\n",
       "      <td>6.6</td>\n",
       "      <td>6.706215</td>\n",
       "    </tr>\n",
       "    <tr>\n",
       "      <th>92</th>\n",
       "      <td>19.4</td>\n",
       "      <td>19.073846</td>\n",
       "    </tr>\n",
       "    <tr>\n",
       "      <th>10</th>\n",
       "      <td>8.6</td>\n",
       "      <td>6.913654</td>\n",
       "    </tr>\n",
       "  </tbody>\n",
       "</table>\n",
       "<p>150 rows × 2 columns</p>\n",
       "</div>"
      ],
      "text/plain": [
       "     sales  Y Predictions\n",
       "31    11.9      11.236532\n",
       "107    8.7       6.991171\n",
       "67    13.4      11.991667\n",
       "198   25.5      23.710553\n",
       "44     8.5       8.750066\n",
       "..     ...            ...\n",
       "76     6.9       4.343770\n",
       "194   17.3      16.501445\n",
       "119    6.6       6.706215\n",
       "92    19.4      19.073846\n",
       "10     8.6       6.913654\n",
       "\n",
       "[150 rows x 2 columns]"
      ]
     },
     "execution_count": 74,
     "metadata": {},
     "output_type": "execute_result"
    }
   ],
   "source": [
    "# Actual vs Predicted DataFrame\n",
    "AvP = Y_train.copy()\n",
    "AvP[\"Y Predictions\"] = y_predictions\n",
    "print (Y_train)\n",
    "AvP"
   ]
  },
  {
   "cell_type": "markdown",
   "metadata": {
    "colab_type": "text",
    "id": "xL53N-GZsuSD"
   },
   "source": [
    "### 2.2. Coefficients by Python Function\n"
   ]
  },
  {
   "cell_type": "code",
   "execution_count": null,
   "metadata": {
    "colab": {
     "base_uri": "https://localhost:8080/",
     "height": 144
    },
    "colab_type": "code",
    "id": "UWwmMHnjstab",
    "outputId": "5a4aad5d-715d-49b1-e8ad-00d76ad1aa5b"
   },
   "outputs": [
    {
     "name": "stdout",
     "output_type": "stream",
     "text": [
      "B_0 from mmodel: [3.22881573]\n",
      "W from mmodel: [[ 0.04443152]\n",
      " [ 0.18685433]\n",
      " [-0.00481199]]\n",
      "--------------\n",
      "B_0 from sklearn Linear Regression:  [3.22881573]\n",
      "W from sklearn Linear Regression:  [[ 0.04443152  0.18685433 -0.00481199]]\n"
     ]
    }
   ],
   "source": [
    "betas_from_library = pLM.LinearRegression().fit(X_train, Y_train).coef_\n",
    "beta_naught_from_library = pLM.LinearRegression().fit(X_train, Y_train).intercept_\n",
    "\n",
    "print(\"B_0 from mmodel:\", model.coefficients[0])\n",
    "print(\"W from mmodel:\", model.coefficients[1:])\n",
    "\n",
    "print(\"--------------\")\n",
    "\n",
    "print(\"B_0 from sklearn Linear Regression: \", beta_naught_from_library)\n",
    "print(\"W from sklearn Linear Regression: \", betas_from_library)"
   ]
  },
  {
   "cell_type": "markdown",
   "metadata": {
    "colab_type": "text",
    "id": "vvHiea98iRML"
   },
   "source": [
    "## 3. Mean Squared Error on Test Set\n",
    "Compute the mean squared error on the testing set [1 marks]"
   ]
  },
  {
   "cell_type": "markdown",
   "metadata": {
    "colab_type": "text",
    "id": "l2Kz_IwFzqa0"
   },
   "source": [
    "### 3.1. Applying Model onn test set"
   ]
  },
  {
   "cell_type": "code",
   "execution_count": null,
   "metadata": {
    "colab": {},
    "colab_type": "code",
    "id": "7NxoUnlvzn9T"
   },
   "outputs": [],
   "source": [
    "y_predictions_test = []\n",
    "\n",
    "for row in X_test.values:\n",
    "    y_predictions_test.append(model.predict(row)[0])\n",
    "\n",
    "y_predictions_test = np.asarray(y_predictions_test)"
   ]
  },
  {
   "cell_type": "code",
   "execution_count": null,
   "metadata": {
    "colab": {
     "base_uri": "https://localhost:8080/",
     "height": 1000
    },
    "colab_type": "code",
    "id": "V9w3N-nzz_W6",
    "outputId": "95f74850-6e5b-4ef0-eaaf-7f9468756cb7"
   },
   "outputs": [
    {
     "data": {
      "text/html": [
       "<div>\n",
       "<style scoped>\n",
       "    .dataframe tbody tr th:only-of-type {\n",
       "        vertical-align: middle;\n",
       "    }\n",
       "\n",
       "    .dataframe tbody tr th {\n",
       "        vertical-align: top;\n",
       "    }\n",
       "\n",
       "    .dataframe thead th {\n",
       "        text-align: right;\n",
       "    }\n",
       "</style>\n",
       "<table border=\"1\" class=\"dataframe\">\n",
       "  <thead>\n",
       "    <tr style=\"text-align: right;\">\n",
       "      <th></th>\n",
       "      <th>sales</th>\n",
       "      <th>Y Predictions</th>\n",
       "    </tr>\n",
       "  </thead>\n",
       "  <tbody>\n",
       "    <tr>\n",
       "      <th>156</th>\n",
       "      <td>15.3</td>\n",
       "      <td>15.286093</td>\n",
       "    </tr>\n",
       "    <tr>\n",
       "      <th>110</th>\n",
       "      <td>13.4</td>\n",
       "      <td>14.521781</td>\n",
       "    </tr>\n",
       "    <tr>\n",
       "      <th>61</th>\n",
       "      <td>24.2</td>\n",
       "      <td>22.554236</td>\n",
       "    </tr>\n",
       "    <tr>\n",
       "      <th>31</th>\n",
       "      <td>11.9</td>\n",
       "      <td>11.310657</td>\n",
       "    </tr>\n",
       "    <tr>\n",
       "      <th>106</th>\n",
       "      <td>7.2</td>\n",
       "      <td>6.252085</td>\n",
       "    </tr>\n",
       "    <tr>\n",
       "      <th>175</th>\n",
       "      <td>27.0</td>\n",
       "      <td>24.467939</td>\n",
       "    </tr>\n",
       "    <tr>\n",
       "      <th>167</th>\n",
       "      <td>12.2</td>\n",
       "      <td>13.295544</td>\n",
       "    </tr>\n",
       "    <tr>\n",
       "      <th>86</th>\n",
       "      <td>12.0</td>\n",
       "      <td>11.680443</td>\n",
       "    </tr>\n",
       "    <tr>\n",
       "      <th>93</th>\n",
       "      <td>22.2</td>\n",
       "      <td>20.848960</td>\n",
       "    </tr>\n",
       "    <tr>\n",
       "      <th>24</th>\n",
       "      <td>9.7</td>\n",
       "      <td>8.263204</td>\n",
       "    </tr>\n",
       "    <tr>\n",
       "      <th>163</th>\n",
       "      <td>18.0</td>\n",
       "      <td>17.334000</td>\n",
       "    </tr>\n",
       "    <tr>\n",
       "      <th>192</th>\n",
       "      <td>5.9</td>\n",
       "      <td>4.607082</td>\n",
       "    </tr>\n",
       "    <tr>\n",
       "      <th>16</th>\n",
       "      <td>12.5</td>\n",
       "      <td>12.531574</td>\n",
       "    </tr>\n",
       "    <tr>\n",
       "      <th>144</th>\n",
       "      <td>11.4</td>\n",
       "      <td>10.081385</td>\n",
       "    </tr>\n",
       "    <tr>\n",
       "      <th>77</th>\n",
       "      <td>14.2</td>\n",
       "      <td>13.839832</td>\n",
       "    </tr>\n",
       "    <tr>\n",
       "      <th>198</th>\n",
       "      <td>25.5</td>\n",
       "      <td>23.358922</td>\n",
       "    </tr>\n",
       "    <tr>\n",
       "      <th>145</th>\n",
       "      <td>10.3</td>\n",
       "      <td>9.774273</td>\n",
       "    </tr>\n",
       "    <tr>\n",
       "      <th>18</th>\n",
       "      <td>11.3</td>\n",
       "      <td>10.045931</td>\n",
       "    </tr>\n",
       "    <tr>\n",
       "      <th>89</th>\n",
       "      <td>16.7</td>\n",
       "      <td>16.791697</td>\n",
       "    </tr>\n",
       "    <tr>\n",
       "      <th>73</th>\n",
       "      <td>11.0</td>\n",
       "      <td>9.892709</td>\n",
       "    </tr>\n",
       "    <tr>\n",
       "      <th>160</th>\n",
       "      <td>14.4</td>\n",
       "      <td>14.127588</td>\n",
       "    </tr>\n",
       "    <tr>\n",
       "      <th>128</th>\n",
       "      <td>24.7</td>\n",
       "      <td>22.157543</td>\n",
       "    </tr>\n",
       "    <tr>\n",
       "      <th>52</th>\n",
       "      <td>22.6</td>\n",
       "      <td>20.445067</td>\n",
       "    </tr>\n",
       "    <tr>\n",
       "      <th>158</th>\n",
       "      <td>7.3</td>\n",
       "      <td>10.426087</td>\n",
       "    </tr>\n",
       "    <tr>\n",
       "      <th>78</th>\n",
       "      <td>5.3</td>\n",
       "      <td>9.010458</td>\n",
       "    </tr>\n",
       "    <tr>\n",
       "      <th>70</th>\n",
       "      <td>18.3</td>\n",
       "      <td>17.606650</td>\n",
       "    </tr>\n",
       "    <tr>\n",
       "      <th>120</th>\n",
       "      <td>15.5</td>\n",
       "      <td>14.292371</td>\n",
       "    </tr>\n",
       "    <tr>\n",
       "      <th>1</th>\n",
       "      <td>10.4</td>\n",
       "      <td>12.332373</td>\n",
       "    </tr>\n",
       "    <tr>\n",
       "      <th>166</th>\n",
       "      <td>8.0</td>\n",
       "      <td>10.945924</td>\n",
       "    </tr>\n",
       "    <tr>\n",
       "      <th>134</th>\n",
       "      <td>10.8</td>\n",
       "      <td>11.765249</td>\n",
       "    </tr>\n",
       "    <tr>\n",
       "      <th>9</th>\n",
       "      <td>10.6</td>\n",
       "      <td>12.490040</td>\n",
       "    </tr>\n",
       "    <tr>\n",
       "      <th>199</th>\n",
       "      <td>13.4</td>\n",
       "      <td>15.106454</td>\n",
       "    </tr>\n",
       "    <tr>\n",
       "      <th>135</th>\n",
       "      <td>11.6</td>\n",
       "      <td>14.116110</td>\n",
       "    </tr>\n",
       "    <tr>\n",
       "      <th>94</th>\n",
       "      <td>11.5</td>\n",
       "      <td>10.564271</td>\n",
       "    </tr>\n",
       "    <tr>\n",
       "      <th>21</th>\n",
       "      <td>12.5</td>\n",
       "      <td>14.616734</td>\n",
       "    </tr>\n",
       "    <tr>\n",
       "      <th>98</th>\n",
       "      <td>25.4</td>\n",
       "      <td>23.758191</td>\n",
       "    </tr>\n",
       "    <tr>\n",
       "      <th>114</th>\n",
       "      <td>14.6</td>\n",
       "      <td>15.282130</td>\n",
       "    </tr>\n",
       "    <tr>\n",
       "      <th>197</th>\n",
       "      <td>12.8</td>\n",
       "      <td>12.800143</td>\n",
       "    </tr>\n",
       "    <tr>\n",
       "      <th>49</th>\n",
       "      <td>9.7</td>\n",
       "      <td>8.210399</td>\n",
       "    </tr>\n",
       "    <tr>\n",
       "      <th>17</th>\n",
       "      <td>24.4</td>\n",
       "      <td>22.862767</td>\n",
       "    </tr>\n",
       "    <tr>\n",
       "      <th>171</th>\n",
       "      <td>14.5</td>\n",
       "      <td>14.214968</td>\n",
       "    </tr>\n",
       "    <tr>\n",
       "      <th>87</th>\n",
       "      <td>16.0</td>\n",
       "      <td>15.429553</td>\n",
       "    </tr>\n",
       "    <tr>\n",
       "      <th>125</th>\n",
       "      <td>10.6</td>\n",
       "      <td>9.183495</td>\n",
       "    </tr>\n",
       "    <tr>\n",
       "      <th>63</th>\n",
       "      <td>14.0</td>\n",
       "      <td>13.282400</td>\n",
       "    </tr>\n",
       "    <tr>\n",
       "      <th>147</th>\n",
       "      <td>25.4</td>\n",
       "      <td>22.977252</td>\n",
       "    </tr>\n",
       "    <tr>\n",
       "      <th>88</th>\n",
       "      <td>12.9</td>\n",
       "      <td>11.563704</td>\n",
       "    </tr>\n",
       "    <tr>\n",
       "      <th>143</th>\n",
       "      <td>10.4</td>\n",
       "      <td>8.775890</td>\n",
       "    </tr>\n",
       "    <tr>\n",
       "      <th>50</th>\n",
       "      <td>11.4</td>\n",
       "      <td>12.518987</td>\n",
       "    </tr>\n",
       "    <tr>\n",
       "      <th>33</th>\n",
       "      <td>17.4</td>\n",
       "      <td>18.765470</td>\n",
       "    </tr>\n",
       "    <tr>\n",
       "      <th>20</th>\n",
       "      <td>18.0</td>\n",
       "      <td>17.851564</td>\n",
       "    </tr>\n",
       "  </tbody>\n",
       "</table>\n",
       "</div>"
      ],
      "text/plain": [
       "     sales  Y Predictions\n",
       "156   15.3      15.286093\n",
       "110   13.4      14.521781\n",
       "61    24.2      22.554236\n",
       "31    11.9      11.310657\n",
       "106    7.2       6.252085\n",
       "175   27.0      24.467939\n",
       "167   12.2      13.295544\n",
       "86    12.0      11.680443\n",
       "93    22.2      20.848960\n",
       "24     9.7       8.263204\n",
       "163   18.0      17.334000\n",
       "192    5.9       4.607082\n",
       "16    12.5      12.531574\n",
       "144   11.4      10.081385\n",
       "77    14.2      13.839832\n",
       "198   25.5      23.358922\n",
       "145   10.3       9.774273\n",
       "18    11.3      10.045931\n",
       "89    16.7      16.791697\n",
       "73    11.0       9.892709\n",
       "160   14.4      14.127588\n",
       "128   24.7      22.157543\n",
       "52    22.6      20.445067\n",
       "158    7.3      10.426087\n",
       "78     5.3       9.010458\n",
       "70    18.3      17.606650\n",
       "120   15.5      14.292371\n",
       "1     10.4      12.332373\n",
       "166    8.0      10.945924\n",
       "134   10.8      11.765249\n",
       "9     10.6      12.490040\n",
       "199   13.4      15.106454\n",
       "135   11.6      14.116110\n",
       "94    11.5      10.564271\n",
       "21    12.5      14.616734\n",
       "98    25.4      23.758191\n",
       "114   14.6      15.282130\n",
       "197   12.8      12.800143\n",
       "49     9.7       8.210399\n",
       "17    24.4      22.862767\n",
       "171   14.5      14.214968\n",
       "87    16.0      15.429553\n",
       "125   10.6       9.183495\n",
       "63    14.0      13.282400\n",
       "147   25.4      22.977252\n",
       "88    12.9      11.563704\n",
       "143   10.4       8.775890\n",
       "50    11.4      12.518987\n",
       "33    17.4      18.765470\n",
       "20    18.0      17.851564"
      ]
     },
     "execution_count": 18,
     "metadata": {
      "tags": []
     },
     "output_type": "execute_result"
    }
   ],
   "source": [
    "# Actual vs Predicted DataFrame\n",
    "AvP_test = Y_test.copy()\n",
    "AvP_test[\"Y Predictions\"] = y_predictions_test\n",
    "\n",
    "AvP_test"
   ]
  },
  {
   "cell_type": "code",
   "execution_count": null,
   "metadata": {
    "colab": {
     "base_uri": "https://localhost:8080/",
     "height": 35
    },
    "colab_type": "code",
    "id": "kE3QsVLMfW0S",
    "outputId": "699226c1-cf5f-4f2c-9739-030ea5fea817"
   },
   "outputs": [
    {
     "data": {
      "text/plain": [
       "2.414960220148406"
      ]
     },
     "execution_count": 19,
     "metadata": {
      "tags": []
     },
     "output_type": "execute_result"
    }
   ],
   "source": [
    "# Calculating the mean square error\n",
    "mean_sq_error = []\n",
    "\n",
    "for i in range(len(AvP_test)):\n",
    "    mean_sq_error.append((AvP_test.iloc[i, 0] - AvP_test.iloc[i, 1])**2)\n",
    "\n",
    "MSE_test = sum(mean_sq_error)\n",
    "MSE_test /= len(AvP_test)\n",
    "MSE_test"
   ]
  },
  {
   "cell_type": "markdown",
   "metadata": {
    "colab_type": "text",
    "id": "981xaRtfibgx"
   },
   "source": [
    "## 4. Ridge Regression\n",
    "\n",
    "Using ridge regression with different values of lambda (0.5, 1, 5, 10, 50, 100) plot the coefficients against each other, and also compare the test set mean squared errors. [3 marks]"
   ]
  },
  {
   "cell_type": "code",
   "execution_count": 78,
   "metadata": {
    "colab": {},
    "colab_type": "code",
    "id": "Xo_Yrt3difrS"
   },
   "outputs": [],
   "source": [
    "class RidgeRegression(object):\n",
    "\n",
    "\n",
    "    def __init__(self):\n",
    "        self.coefficients = []\n",
    "\n",
    "    def _reshape_x(self, X):\n",
    "        # Reshapig into a vector of 1 column\n",
    "        return X.reshape(-1, 1)\n",
    "\n",
    "    def _concatneate_ones(self, X):\n",
    "        ones = np.ones(shape=X.shape[0]).reshape(-1, 1)\n",
    "        return np.concatenate((ones, X), 1)\n",
    "\n",
    "    def fit(self, X, y, alpha):\n",
    "        if len(X.shape) == 1:\n",
    "            X = self._reshape_x(X)\n",
    "        \n",
    "        X = self._concatneate_ones(X)\n",
    "\n",
    "        I = np.identity(X.shape[1])\n",
    "\n",
    "        self.coefficients = np.linalg.inv(\n",
    "            X.transpose().dot(X) + alpha*I).dot(\n",
    "                X.transpose().dot(y))\n",
    "            \n",
    "    def predict(self, entry):\n",
    "        b = self.coefficients[0]\n",
    "        other_betas = self.coefficients[1:]\n",
    "\n",
    "        prediction = entry.dot(other_betas) + b\n",
    "        return prediction"
   ]
  },
  {
   "cell_type": "code",
   "execution_count": 80,
   "metadata": {
    "colab": {},
    "colab_type": "code",
    "id": "n3ed4Ca4MDSr"
   },
   "outputs": [],
   "source": [
    "rrModel = RidgeRegression()\n",
    "\n",
    "rrModel.fit(X_train, Y_train, alpha=2)"
   ]
  },
  {
   "cell_type": "code",
   "execution_count": 81,
   "metadata": {
    "colab": {},
    "colab_type": "code",
    "id": "UL2ekJqOMuWk"
   },
   "outputs": [
    {
     "data": {
      "text/html": [
       "<div>\n",
       "<style scoped>\n",
       "    .dataframe tbody tr th:only-of-type {\n",
       "        vertical-align: middle;\n",
       "    }\n",
       "\n",
       "    .dataframe tbody tr th {\n",
       "        vertical-align: top;\n",
       "    }\n",
       "\n",
       "    .dataframe thead th {\n",
       "        text-align: right;\n",
       "    }\n",
       "</style>\n",
       "<table border=\"1\" class=\"dataframe\">\n",
       "  <thead>\n",
       "    <tr style=\"text-align: right;\">\n",
       "      <th></th>\n",
       "      <th>0</th>\n",
       "    </tr>\n",
       "  </thead>\n",
       "  <tbody>\n",
       "    <tr>\n",
       "      <th>160</th>\n",
       "      <td>14.112940</td>\n",
       "    </tr>\n",
       "    <tr>\n",
       "      <th>18</th>\n",
       "      <td>9.760079</td>\n",
       "    </tr>\n",
       "    <tr>\n",
       "      <th>125</th>\n",
       "      <td>8.911897</td>\n",
       "    </tr>\n",
       "    <tr>\n",
       "      <th>139</th>\n",
       "      <td>19.716561</td>\n",
       "    </tr>\n",
       "    <tr>\n",
       "      <th>57</th>\n",
       "      <td>12.647473</td>\n",
       "    </tr>\n",
       "    <tr>\n",
       "      <th>65</th>\n",
       "      <td>7.615046</td>\n",
       "    </tr>\n",
       "    <tr>\n",
       "      <th>114</th>\n",
       "      <td>15.233297</td>\n",
       "    </tr>\n",
       "    <tr>\n",
       "      <th>7</th>\n",
       "      <td>11.983338</td>\n",
       "    </tr>\n",
       "    <tr>\n",
       "      <th>167</th>\n",
       "      <td>13.245318</td>\n",
       "    </tr>\n",
       "    <tr>\n",
       "      <th>190</th>\n",
       "      <td>12.364897</td>\n",
       "    </tr>\n",
       "    <tr>\n",
       "      <th>141</th>\n",
       "      <td>18.376976</td>\n",
       "    </tr>\n",
       "    <tr>\n",
       "      <th>148</th>\n",
       "      <td>12.131134</td>\n",
       "    </tr>\n",
       "    <tr>\n",
       "      <th>41</th>\n",
       "      <td>17.264681</td>\n",
       "    </tr>\n",
       "    <tr>\n",
       "      <th>40</th>\n",
       "      <td>16.326326</td>\n",
       "    </tr>\n",
       "    <tr>\n",
       "      <th>8</th>\n",
       "      <td>3.398322</td>\n",
       "    </tr>\n",
       "    <tr>\n",
       "      <th>129</th>\n",
       "      <td>7.632960</td>\n",
       "    </tr>\n",
       "    <tr>\n",
       "      <th>144</th>\n",
       "      <td>9.892669</td>\n",
       "    </tr>\n",
       "    <tr>\n",
       "      <th>73</th>\n",
       "      <td>9.701472</td>\n",
       "    </tr>\n",
       "    <tr>\n",
       "      <th>161</th>\n",
       "      <td>13.438958</td>\n",
       "    </tr>\n",
       "    <tr>\n",
       "      <th>105</th>\n",
       "      <td>17.913456</td>\n",
       "    </tr>\n",
       "    <tr>\n",
       "      <th>12</th>\n",
       "      <td>10.381884</td>\n",
       "    </tr>\n",
       "    <tr>\n",
       "      <th>176</th>\n",
       "      <td>20.016320</td>\n",
       "    </tr>\n",
       "    <tr>\n",
       "      <th>184</th>\n",
       "      <td>18.536675</td>\n",
       "    </tr>\n",
       "    <tr>\n",
       "      <th>180</th>\n",
       "      <td>10.410643</td>\n",
       "    </tr>\n",
       "    <tr>\n",
       "      <th>109</th>\n",
       "      <td>19.729183</td>\n",
       "    </tr>\n",
       "    <tr>\n",
       "      <th>117</th>\n",
       "      <td>6.299914</td>\n",
       "    </tr>\n",
       "    <tr>\n",
       "      <th>28</th>\n",
       "      <td>19.432796</td>\n",
       "    </tr>\n",
       "    <tr>\n",
       "      <th>165</th>\n",
       "      <td>14.096245</td>\n",
       "    </tr>\n",
       "    <tr>\n",
       "      <th>45</th>\n",
       "      <td>15.082692</td>\n",
       "    </tr>\n",
       "    <tr>\n",
       "      <th>78</th>\n",
       "      <td>8.601769</td>\n",
       "    </tr>\n",
       "    <tr>\n",
       "      <th>91</th>\n",
       "      <td>4.170575</td>\n",
       "    </tr>\n",
       "    <tr>\n",
       "      <th>39</th>\n",
       "      <td>20.491616</td>\n",
       "    </tr>\n",
       "    <tr>\n",
       "      <th>55</th>\n",
       "      <td>21.345950</td>\n",
       "    </tr>\n",
       "    <tr>\n",
       "      <th>123</th>\n",
       "      <td>15.013087</td>\n",
       "    </tr>\n",
       "    <tr>\n",
       "      <th>136</th>\n",
       "      <td>11.303763</td>\n",
       "    </tr>\n",
       "    <tr>\n",
       "      <th>174</th>\n",
       "      <td>13.637457</td>\n",
       "    </tr>\n",
       "    <tr>\n",
       "      <th>169</th>\n",
       "      <td>17.934282</td>\n",
       "    </tr>\n",
       "    <tr>\n",
       "      <th>11</th>\n",
       "      <td>17.266830</td>\n",
       "    </tr>\n",
       "    <tr>\n",
       "      <th>179</th>\n",
       "      <td>12.246228</td>\n",
       "    </tr>\n",
       "    <tr>\n",
       "      <th>16</th>\n",
       "      <td>12.658582</td>\n",
       "    </tr>\n",
       "    <tr>\n",
       "      <th>20</th>\n",
       "      <td>18.080073</td>\n",
       "    </tr>\n",
       "    <tr>\n",
       "      <th>193</th>\n",
       "      <td>18.499860</td>\n",
       "    </tr>\n",
       "    <tr>\n",
       "      <th>103</th>\n",
       "      <td>14.679179</td>\n",
       "    </tr>\n",
       "    <tr>\n",
       "      <th>175</th>\n",
       "      <td>24.927325</td>\n",
       "    </tr>\n",
       "    <tr>\n",
       "      <th>182</th>\n",
       "      <td>6.277933</td>\n",
       "    </tr>\n",
       "    <tr>\n",
       "      <th>189</th>\n",
       "      <td>5.767584</td>\n",
       "    </tr>\n",
       "    <tr>\n",
       "      <th>50</th>\n",
       "      <td>12.489576</td>\n",
       "    </tr>\n",
       "    <tr>\n",
       "      <th>93</th>\n",
       "      <td>21.271340</td>\n",
       "    </tr>\n",
       "    <tr>\n",
       "      <th>98</th>\n",
       "      <td>24.238402</td>\n",
       "    </tr>\n",
       "    <tr>\n",
       "      <th>13</th>\n",
       "      <td>8.611343</td>\n",
       "    </tr>\n",
       "  </tbody>\n",
       "</table>\n",
       "</div>"
      ],
      "text/plain": [
       "             0\n",
       "160  14.112940\n",
       "18    9.760079\n",
       "125   8.911897\n",
       "139  19.716561\n",
       "57   12.647473\n",
       "65    7.615046\n",
       "114  15.233297\n",
       "7    11.983338\n",
       "167  13.245318\n",
       "190  12.364897\n",
       "141  18.376976\n",
       "148  12.131134\n",
       "41   17.264681\n",
       "40   16.326326\n",
       "8     3.398322\n",
       "129   7.632960\n",
       "144   9.892669\n",
       "73    9.701472\n",
       "161  13.438958\n",
       "105  17.913456\n",
       "12   10.381884\n",
       "176  20.016320\n",
       "184  18.536675\n",
       "180  10.410643\n",
       "109  19.729183\n",
       "117   6.299914\n",
       "28   19.432796\n",
       "165  14.096245\n",
       "45   15.082692\n",
       "78    8.601769\n",
       "91    4.170575\n",
       "39   20.491616\n",
       "55   21.345950\n",
       "123  15.013087\n",
       "136  11.303763\n",
       "174  13.637457\n",
       "169  17.934282\n",
       "11   17.266830\n",
       "179  12.246228\n",
       "16   12.658582\n",
       "20   18.080073\n",
       "193  18.499860\n",
       "103  14.679179\n",
       "175  24.927325\n",
       "182   6.277933\n",
       "189   5.767584\n",
       "50   12.489576\n",
       "93   21.271340\n",
       "98   24.238402\n",
       "13    8.611343"
      ]
     },
     "execution_count": 81,
     "metadata": {},
     "output_type": "execute_result"
    }
   ],
   "source": [
    "# prediction on test set\n",
    "Y_Pred = rrModel.predict(X_test)\n",
    "Y_Pred"
   ]
  },
  {
   "cell_type": "markdown",
   "metadata": {
    "colab_type": "text",
    "id": "-695g3dOiMeV"
   },
   "source": [
    "#### For Different Alphas"
   ]
  },
  {
   "cell_type": "code",
   "execution_count": 84,
   "metadata": {
    "colab": {
     "base_uri": "https://localhost:8080/",
     "height": 144
    },
    "colab_type": "code",
    "id": "o7atIsSNiL6H",
    "outputId": "aacaca94-be3c-48d1-d863-56ffb469fab7"
   },
   "outputs": [
    {
     "data": {
      "text/plain": [
       "[sales    0.042134\n",
       " dtype: float64,\n",
       " sales    0.042315\n",
       " dtype: float64,\n",
       " sales    0.04413\n",
       " dtype: float64,\n",
       " sales    0.046649\n",
       " dtype: float64,\n",
       " sales    0.059045\n",
       " dtype: float64,\n",
       " sales    0.064634\n",
       " dtype: float64]"
      ]
     },
     "execution_count": 84,
     "metadata": {},
     "output_type": "execute_result"
    }
   ],
   "source": [
    "alpha = [0.5, 1, 5, 10, 50, 100]\n",
    "\n",
    "mse_new = []\n",
    "\n",
    "for i in alpha:\n",
    "    rrModel.fit(X_train, Y_train, alpha=i)\n",
    "    Y_Pred = rrModel.predict(X_test)    \n",
    "    mse_new.append(np.square(np.subtract(Y_test, Y_Pred)).mean() / len(Y_Pred))\n",
    "\n",
    "mse_new"
   ]
  },
  {
   "cell_type": "markdown",
   "metadata": {
    "colab_type": "text",
    "id": "LVH49rSf-G-a"
   },
   "source": [
    "### Mean Squared Error compared with Alpha"
   ]
  },
  {
   "cell_type": "code",
   "execution_count": null,
   "metadata": {
    "colab": {
     "base_uri": "https://localhost:8080/",
     "height": 401
    },
    "colab_type": "code",
    "id": "EneDnqAclaCa",
    "outputId": "e931462d-0b87-480f-e9d1-a5cc38ba31e2"
   },
   "outputs": [
    {
     "data": {
      "text/plain": [
       "[<matplotlib.lines.Line2D at 0x7f122d8bf908>]"
      ]
     },
     "execution_count": 163,
     "metadata": {
      "tags": []
     },
     "output_type": "execute_result"
    },
    {
     "data": {
      "image/png": "[encoded data removed]",
      "text/plain": [
       "<Figure size 400x400 with 1 Axes>"
      ]
     },
     "metadata": {
      "tags": []
     },
     "output_type": "display_data"
    }
   ],
   "source": [
    "plt.figure(num=None, figsize=(5, 5), dpi=80, facecolor='w', edgecolor='k')\n",
    "plt.title('MSE vs Alpha')\n",
    "plt.ylabel('Mean Squared Error')\n",
    "plt.xlabel('Alpha')\n",
    "plt.plot(alpha,mse_new,marker='*',color='g')"
   ]
  },
  {
   "cell_type": "code",
   "execution_count": 85,
   "metadata": {
    "colab": {},
    "colab_type": "code",
    "id": "n8bkzsZ0mGO7"
   },
   "outputs": [],
   "source": [
    "alpha = [0.5, 1, 5, 10, 50, 100]\n",
    "\n",
    "parameters = []\n",
    "for i in alpha:\n",
    "    rrModel.fit(X_train, Y_train, alpha=i)\n",
    "    parameters.append(rrModel.coefficients)\n",
    "\n",
    "# Coeff indices:\n",
    "coeff_idx = []\n",
    "for i in range(len(parameters[0])):\n",
    "    coeff_idx.append(i)"
   ]
  },
  {
   "cell_type": "code",
   "execution_count": 86,
   "metadata": {
    "colab": {
     "base_uri": "https://localhost:8080/",
     "height": 362
    },
    "colab_type": "code",
    "id": "Ir_m2p5ioIEm",
    "outputId": "0a19eaaa-d4c7-4383-db06-a7d31463f385"
   },
   "outputs": [
    {
     "data": {
      "text/plain": [
       "[array([[ 2.77000499e+00],\n",
       "        [ 4.63227346e-02],\n",
       "        [ 1.91072954e-01],\n",
       "        [-2.69442449e-03]]),\n",
       " array([[ 2.70800789e+00],\n",
       "        [ 4.64897926e-02],\n",
       "        [ 1.91749385e-01],\n",
       "        [-2.27836815e-03]]),\n",
       " array([[2.29683534e+00],\n",
       "        [4.75979579e-02],\n",
       "        [1.96231157e-01],\n",
       "        [4.82852677e-04]]),\n",
       " array([[1.9305693 ],\n",
       "        [0.04858555],\n",
       "        [0.2002142 ],\n",
       "        [0.00294646]]),\n",
       " array([[0.84927708],\n",
       "        [0.05150905],\n",
       "        [0.21181086],\n",
       "        [0.0102888 ]]),\n",
       " array([[0.50035666],\n",
       "        [0.05246406],\n",
       "        [0.21531553],\n",
       "        [0.01275946]])]"
      ]
     },
     "execution_count": 86,
     "metadata": {},
     "output_type": "execute_result"
    }
   ],
   "source": [
    "parameters"
   ]
  },
  {
   "cell_type": "markdown",
   "metadata": {
    "colab_type": "text",
    "id": "yfexd21--hTy"
   },
   "source": [
    "### Comparing the coefficients with changing Alphas\n",
    "Here, \n",
    "1. index 0 indicates the intercept term w0\n",
    "2. index 1 indicates the w1 term, and so on"
   ]
  },
  {
   "cell_type": "code",
   "execution_count": 87,
   "metadata": {
    "colab": {
     "base_uri": "https://localhost:8080/",
     "height": 875
    },
    "colab_type": "code",
    "id": "prNYPkLdnTIa",
    "outputId": "95ec55e6-5ee2-4397-8edd-5ab3225ad427"
   },
   "outputs": [
    {
     "data": {
      "text/plain": [
       "<matplotlib.legend.Legend at 0x7f02b79ac130>"
      ]
     },
     "execution_count": 87,
     "metadata": {},
     "output_type": "execute_result"
    },
    {
     "data": {
      "image/png": "[encoded data removed]",
      "text/plain": [
       "<Figure size 1000x1000 with 1 Axes>"
      ]
     },
     "metadata": {},
     "output_type": "display_data"
    }
   ],
   "source": [
    "plt.figure(num=None, figsize=(10, 10), dpi=100, facecolor='w', edgecolor='k')\n",
    "plt.title('Plotting the coefficients against each other')\n",
    "plt.ylabel('Coefficient')\n",
    "plt.xlabel('Coefficient Index')\n",
    "plt.plot(coeff_idx,parameters[0],marker='o',color='b' ,label='Alpha = 0.5')\n",
    "plt.plot(coeff_idx,parameters[1],marker='^',color='g' ,label='Alpha = 1')\n",
    "plt.plot(coeff_idx,parameters[2],marker=',',color='r' ,label='Alpha = 5')\n",
    "plt.plot(coeff_idx,parameters[3],marker='1',color='c' ,label='Alpha = 10')\n",
    "plt.plot(coeff_idx,parameters[4],marker='*',color='y' ,label='Alpha = 50')\n",
    "plt.plot(coeff_idx,parameters[5],marker='+',color='k' ,label='Alpha = 100')\n",
    "plt.legend()"
   ]
  },
  {
   "cell_type": "code",
   "execution_count": 91,
   "metadata": {
    "colab": {
     "base_uri": "https://localhost:8080/",
     "height": 35
    },
    "colab_type": "code",
    "id": "HmylqfBhtE01",
    "outputId": "0aea41dc-b557-42e1-b1a0-4f5a110b42e1"
   },
   "outputs": [
    {
     "name": "stdout",
     "output_type": "stream",
     "text": [
      "6\n",
      "4\n",
      "[array([0.04882819]), array([0.20106568]), array([0.00358413])]\n",
      "1\n",
      "Parameter2\n",
      "[array([0.19107295]), array([0.19174938]), array([0.19623116]), array([0.2002142]), array([0.21181086]), array([0.21531553])]\n"
     ]
    }
   ],
   "source": [
    "# Comparing the coefficients (and NOT the bias term)\n",
    "\n",
    "mean_list = []\n",
    "print (len(parameters))\n",
    "print (len(parameters[0]))\n",
    "for i in range(1, len(parameters[0])):\n",
    "    sum = 0\n",
    "    for j in range(len(parameters)):\n",
    "        sum += parameters[j][i]\n",
    "    \n",
    "    sum /= len(parameters)\n",
    "    mean_list.append(sum)\n",
    "print (mean_list)\n",
    "print (np.argmax(mean_list))\n",
    "maxPar = 'Parameter' + str(np.argmax(mean_list) + 1)\n",
    "print(maxPar)\n",
    "\n",
    "# variation of parameter 2 with alpha\n",
    "parMean = []\n",
    "for i in range(len(parameters)):\n",
    "    parMean.append(parameters[i][np.argmax(mean_list)])\n",
    "\n",
    "max_list = []\n",
    "for i in range(len(parameters)):\n",
    "    for j in range(1, len(parameters[0])-1):\n",
    "        max = parameters[i][j]\n",
    "        temp = parameters[i][j+1]\n",
    "        if (temp > max):\n",
    "            max = temp\n",
    "    max_list.append(max)\n",
    "print (max_list)"
   ]
  },
  {
   "cell_type": "code",
   "execution_count": null,
   "metadata": {
    "colab": {
     "base_uri": "https://localhost:8080/",
     "height": 703
    },
    "colab_type": "code",
    "id": "cHXhtxRVsLdB",
    "outputId": "cca3fc7e-ef4e-4aa6-b3ac-20ed7db9bfb9"
   },
   "outputs": [
    {
     "data": {
      "text/plain": [
       "<matplotlib.legend.Legend at 0x7f122da75828>"
      ]
     },
     "execution_count": 141,
     "metadata": {
      "tags": []
     },
     "output_type": "execute_result"
    },
    {
     "data": {
      "image/png": "[encoded data removed]",
      "text/plain": [
       "<Figure size 800x800 with 1 Axes>"
      ]
     },
     "metadata": {
      "tags": []
     },
     "output_type": "display_data"
    }
   ],
   "source": [
    "plt.figure(num=None, figsize=(10, 10), dpi=80, facecolor='w', edgecolor='k')\n",
    "plt.title('Plotting the coefficients (max, mean) vs alpha')\n",
    "plt.ylabel('Coefficient')\n",
    "plt.xlabel('alpha')\n",
    "plt.plot(alpha,parMean,marker='o',color='c' ,label='MEAN COEFFICIENT')\n",
    "plt.plot(alpha,max_list,marker='^',color='b' ,label='MAX COEFFICIENT')\n",
    "plt.legend()"
   ]
  },
  {
   "cell_type": "markdown",
   "metadata": {
    "colab_type": "text",
    "id": "6fdUdUPEig7d"
   },
   "source": [
    "## 5. Lasso Regression\n",
    "\n",
    "Use the library function of \"LASSO regression\" to find out which of the 3 features is most important, i.e. whose coefficient is furthest from 0. [2 marks]"
   ]
  },
  {
   "cell_type": "code",
   "execution_count": null,
   "metadata": {
    "colab": {
     "base_uri": "https://localhost:8080/",
     "height": 126
    },
    "colab_type": "code",
    "id": "Sm1-Q86hipps",
    "outputId": "1eae776b-8e2e-4bc5-d6ad-9c7026843580"
   },
   "outputs": [
    {
     "name": "stdout",
     "output_type": "stream",
     "text": [
      "All the available coefficients obtained using Lasso regression are:\n",
      "[ 0.04441851  0.18618922 -0.00443115]\n",
      "farthest from zero coefficient identified is =  0.1861892181617704\n",
      "----------------------------------------------------------------------\n",
      "Since, LASSO REGRESSION coeficient of feature #[2] i.e. radio is the farthest \n",
      " from 0 which means that radio is the most important feature!\n"
     ]
    }
   ],
   "source": [
    "lasso = Lasso(alpha = 0.1)\n",
    "lasso.fit(X_train,Y_train)\n",
    "\n",
    "print('All the available coefficients obtained using Lasso regression are:')\n",
    "print(lasso.coef_)\n",
    "print('farthest from zero coefficient identified is = ', lasso.coef_.max())\n",
    "\n",
    "print('----------------------------------------------------------------------')\n",
    "print('Since, LASSO REGRESSION coeficient of feature #' + \n",
    "      str(np.where(lasso.coef_ == lasso.coef_.max())[0] + 1) + \n",
    "      ' i.e. ' + \n",
    "      str(X_train.columns[int(\n",
    "          np.where(lasso.coef_ == lasso.coef_.max())[0])]) + \n",
    "      ' is the farthest', '\\n', 'from 0 which means that ' + \n",
    "      str(X_train.columns[int(\n",
    "          np.where(lasso.coef_ == lasso.coef_.max())[0])]) + \n",
    "      ' is the most important feature!')"
   ]
  },
  {
   "cell_type": "code",
   "execution_count": null,
   "metadata": {
    "colab": {},
    "colab_type": "code",
    "id": "D63-3AJGwj27"
   },
   "outputs": [],
   "source": []
  }
 ],
 "metadata": {
  "colab": {
   "name": "17BT10026_Assgn_2.ipynb",
   "provenance": [],
   "toc_visible": true
  },
  "kernelspec": {
   "display_name": "Python 3",
   "language": "python",
   "name": "python3"
  },
  "language_info": {
   "codemirror_mode": {
    "name": "ipython",
    "version": 3
   },
   "file_extension": ".py",
   "mimetype": "text/x-python",
   "name": "python",
   "nbconvert_exporter": "python",
   "pygments_lexer": "ipython3",
   "version": "3.8.3"
  }
 },
 "nbformat": 4,
 "nbformat_minor": 1
}

{
 "cells": [
  {
   "cell_type": "markdown",
   "metadata": {},
   "source": [
    "# Problem Statement\n",
    "Consider the attached dataset about *advertising and sales*. The attributes denote the investments on advertising in TV, radio etc and the target variable is the **total sales**. \n",
    "\n",
    "AIM: to predict the sales from the investments on advertising."
   ]
  },
  {
   "cell_type": "code",
   "execution_count": 1,
   "metadata": {},
   "outputs": [],
   "source": [
    "import pandas as pd\n",
    "import numpy as np\n",
    "import seaborn as sb\n",
    "from matplotlib import pyplot as plt\n",
    "from sklearn.model_selection import train_test_split\n",
    "from sklearn.linear_model import LinearRegression\n",
    "from sklearn.linear_model import Lasso"
   ]
  },
  {
   "cell_type": "markdown",
   "metadata": {},
   "source": [
    "### Importing Data "
   ]
  },
  {
   "cell_type": "code",
   "execution_count": 2,
   "metadata": {},
   "outputs": [],
   "source": [
    "advertising_df = pd.read_csv('Advertising Dataset.csv', index_col = False)"
   ]
  },
  {
   "cell_type": "code",
   "execution_count": 3,
   "metadata": {},
   "outputs": [
    {
     "data": {
      "text/html": [
       "<div>\n",
       "<style scoped>\n",
       "    .dataframe tbody tr th:only-of-type {\n",
       "        vertical-align: middle;\n",
       "    }\n",
       "\n",
       "    .dataframe tbody tr th {\n",
       "        vertical-align: top;\n",
       "    }\n",
       "\n",
       "    .dataframe thead th {\n",
       "        text-align: right;\n",
       "    }\n",
       "</style>\n",
       "<table border=\"1\" class=\"dataframe\">\n",
       "  <thead>\n",
       "    <tr style=\"text-align: right;\">\n",
       "      <th></th>\n",
       "      <th>Unnamed: 0</th>\n",
       "      <th>TV</th>\n",
       "      <th>radio</th>\n",
       "      <th>newspaper</th>\n",
       "      <th>sales</th>\n",
       "    </tr>\n",
       "  </thead>\n",
       "  <tbody>\n",
       "    <tr>\n",
       "      <th>0</th>\n",
       "      <td>1</td>\n",
       "      <td>230.1</td>\n",
       "      <td>37.8</td>\n",
       "      <td>69.2</td>\n",
       "      <td>22.1</td>\n",
       "    </tr>\n",
       "    <tr>\n",
       "      <th>1</th>\n",
       "      <td>2</td>\n",
       "      <td>44.5</td>\n",
       "      <td>39.3</td>\n",
       "      <td>45.1</td>\n",
       "      <td>10.4</td>\n",
       "    </tr>\n",
       "    <tr>\n",
       "      <th>2</th>\n",
       "      <td>3</td>\n",
       "      <td>17.2</td>\n",
       "      <td>45.9</td>\n",
       "      <td>69.3</td>\n",
       "      <td>9.3</td>\n",
       "    </tr>\n",
       "    <tr>\n",
       "      <th>3</th>\n",
       "      <td>4</td>\n",
       "      <td>151.5</td>\n",
       "      <td>41.3</td>\n",
       "      <td>58.5</td>\n",
       "      <td>18.5</td>\n",
       "    </tr>\n",
       "    <tr>\n",
       "      <th>4</th>\n",
       "      <td>5</td>\n",
       "      <td>180.8</td>\n",
       "      <td>10.8</td>\n",
       "      <td>58.4</td>\n",
       "      <td>12.9</td>\n",
       "    </tr>\n",
       "    <tr>\n",
       "      <th>...</th>\n",
       "      <td>...</td>\n",
       "      <td>...</td>\n",
       "      <td>...</td>\n",
       "      <td>...</td>\n",
       "      <td>...</td>\n",
       "    </tr>\n",
       "    <tr>\n",
       "      <th>195</th>\n",
       "      <td>196</td>\n",
       "      <td>38.2</td>\n",
       "      <td>3.7</td>\n",
       "      <td>13.8</td>\n",
       "      <td>7.6</td>\n",
       "    </tr>\n",
       "    <tr>\n",
       "      <th>196</th>\n",
       "      <td>197</td>\n",
       "      <td>94.2</td>\n",
       "      <td>4.9</td>\n",
       "      <td>8.1</td>\n",
       "      <td>9.7</td>\n",
       "    </tr>\n",
       "    <tr>\n",
       "      <th>197</th>\n",
       "      <td>198</td>\n",
       "      <td>177.0</td>\n",
       "      <td>9.3</td>\n",
       "      <td>6.4</td>\n",
       "      <td>12.8</td>\n",
       "    </tr>\n",
       "    <tr>\n",
       "      <th>198</th>\n",
       "      <td>199</td>\n",
       "      <td>283.6</td>\n",
       "      <td>42.0</td>\n",
       "      <td>66.2</td>\n",
       "      <td>25.5</td>\n",
       "    </tr>\n",
       "    <tr>\n",
       "      <th>199</th>\n",
       "      <td>200</td>\n",
       "      <td>232.1</td>\n",
       "      <td>8.6</td>\n",
       "      <td>8.7</td>\n",
       "      <td>13.4</td>\n",
       "    </tr>\n",
       "  </tbody>\n",
       "</table>\n",
       "<p>200 rows × 5 columns</p>\n",
       "</div>"
      ],
      "text/plain": [
       "     Unnamed: 0     TV  radio  newspaper  sales\n",
       "0             1  230.1   37.8       69.2   22.1\n",
       "1             2   44.5   39.3       45.1   10.4\n",
       "2             3   17.2   45.9       69.3    9.3\n",
       "3             4  151.5   41.3       58.5   18.5\n",
       "4             5  180.8   10.8       58.4   12.9\n",
       "..          ...    ...    ...        ...    ...\n",
       "195         196   38.2    3.7       13.8    7.6\n",
       "196         197   94.2    4.9        8.1    9.7\n",
       "197         198  177.0    9.3        6.4   12.8\n",
       "198         199  283.6   42.0       66.2   25.5\n",
       "199         200  232.1    8.6        8.7   13.4\n",
       "\n",
       "[200 rows x 5 columns]"
      ]
     },
     "execution_count": 3,
     "metadata": {},
     "output_type": "execute_result"
    }
   ],
   "source": [
    "advertising_df"
   ]
  },
  {
   "cell_type": "code",
   "execution_count": 4,
   "metadata": {},
   "outputs": [],
   "source": [
    "advertising_df = advertising_df[[\"TV\", \"radio\", \"newspaper\", \"sales\"]]"
   ]
  },
  {
   "cell_type": "code",
   "execution_count": 5,
   "metadata": {},
   "outputs": [
    {
     "data": {
      "text/html": [
       "<div>\n",
       "<style scoped>\n",
       "    .dataframe tbody tr th:only-of-type {\n",
       "        vertical-align: middle;\n",
       "    }\n",
       "\n",
       "    .dataframe tbody tr th {\n",
       "        vertical-align: top;\n",
       "    }\n",
       "\n",
       "    .dataframe thead th {\n",
       "        text-align: right;\n",
       "    }\n",
       "</style>\n",
       "<table border=\"1\" class=\"dataframe\">\n",
       "  <thead>\n",
       "    <tr style=\"text-align: right;\">\n",
       "      <th></th>\n",
       "      <th>TV</th>\n",
       "      <th>radio</th>\n",
       "      <th>newspaper</th>\n",
       "      <th>sales</th>\n",
       "    </tr>\n",
       "  </thead>\n",
       "  <tbody>\n",
       "    <tr>\n",
       "      <th>count</th>\n",
       "      <td>200.000000</td>\n",
       "      <td>200.000000</td>\n",
       "      <td>200.000000</td>\n",
       "      <td>200.000000</td>\n",
       "    </tr>\n",
       "    <tr>\n",
       "      <th>mean</th>\n",
       "      <td>147.042500</td>\n",
       "      <td>23.264000</td>\n",
       "      <td>30.554000</td>\n",
       "      <td>14.022500</td>\n",
       "    </tr>\n",
       "    <tr>\n",
       "      <th>std</th>\n",
       "      <td>85.854236</td>\n",
       "      <td>14.846809</td>\n",
       "      <td>21.778621</td>\n",
       "      <td>5.217457</td>\n",
       "    </tr>\n",
       "    <tr>\n",
       "      <th>min</th>\n",
       "      <td>0.700000</td>\n",
       "      <td>0.000000</td>\n",
       "      <td>0.300000</td>\n",
       "      <td>1.600000</td>\n",
       "    </tr>\n",
       "    <tr>\n",
       "      <th>25%</th>\n",
       "      <td>74.375000</td>\n",
       "      <td>9.975000</td>\n",
       "      <td>12.750000</td>\n",
       "      <td>10.375000</td>\n",
       "    </tr>\n",
       "    <tr>\n",
       "      <th>50%</th>\n",
       "      <td>149.750000</td>\n",
       "      <td>22.900000</td>\n",
       "      <td>25.750000</td>\n",
       "      <td>12.900000</td>\n",
       "    </tr>\n",
       "    <tr>\n",
       "      <th>75%</th>\n",
       "      <td>218.825000</td>\n",
       "      <td>36.525000</td>\n",
       "      <td>45.100000</td>\n",
       "      <td>17.400000</td>\n",
       "    </tr>\n",
       "    <tr>\n",
       "      <th>max</th>\n",
       "      <td>296.400000</td>\n",
       "      <td>49.600000</td>\n",
       "      <td>114.000000</td>\n",
       "      <td>27.000000</td>\n",
       "    </tr>\n",
       "  </tbody>\n",
       "</table>\n",
       "</div>"
      ],
      "text/plain": [
       "               TV       radio   newspaper       sales\n",
       "count  200.000000  200.000000  200.000000  200.000000\n",
       "mean   147.042500   23.264000   30.554000   14.022500\n",
       "std     85.854236   14.846809   21.778621    5.217457\n",
       "min      0.700000    0.000000    0.300000    1.600000\n",
       "25%     74.375000    9.975000   12.750000   10.375000\n",
       "50%    149.750000   22.900000   25.750000   12.900000\n",
       "75%    218.825000   36.525000   45.100000   17.400000\n",
       "max    296.400000   49.600000  114.000000   27.000000"
      ]
     },
     "execution_count": 5,
     "metadata": {},
     "output_type": "execute_result"
    }
   ],
   "source": [
    "advertising_df.describe()"
   ]
  },
  {
   "cell_type": "markdown",
   "metadata": {},
   "source": [
    "## Part 1: Random division of data into 25% testing & 75% training subset "
   ]
  },
  {
   "cell_type": "code",
   "execution_count": 6,
   "metadata": {},
   "outputs": [
    {
     "name": "stdout",
     "output_type": "stream",
     "text": [
      "        TV  radio  newspaper  sales\n",
      "190   39.5   41.1        5.8   10.8\n",
      "40   202.5   22.3       31.6   16.6\n",
      "42   293.6   27.7        1.8   20.7\n",
      "16    67.8   36.6      114.0   12.5\n",
      "8      8.6    2.1        1.0    4.8\n",
      "\n",
      "\n",
      "        TV  radio  newspaper  sales\n",
      "142  220.5   33.2       37.9   20.1\n",
      "80    76.4   26.7       22.3   11.8\n",
      "45   175.1   22.5       31.5   14.9\n",
      "158   11.7   36.9       45.2    7.3\n",
      "2     17.2   45.9       69.3    9.3\n"
     ]
    }
   ],
   "source": [
    "#randomly split into 25% test & 75% training subset\n",
    "advertising_df_train, advertising_df_test = train_test_split(advertising_df, test_size = 0.25)  \n",
    "print (advertising_df_test.head())\n",
    "print (\"\\n\")\n",
    "print (advertising_df_train.head())"
   ]
  },
  {
   "cell_type": "code",
   "execution_count": 7,
   "metadata": {},
   "outputs": [
    {
     "name": "stdout",
     "output_type": "stream",
     "text": [
      "Size of testing subset is (50, 4) & of training subset is (150, 4)\n"
     ]
    }
   ],
   "source": [
    "print (\"Size of testing subset is {} & of training subset is {}\".format(advertising_df_test.shape, advertising_df_train.shape))"
   ]
  },
  {
   "cell_type": "markdown",
   "metadata": {},
   "source": [
    ">### Visualizing Pairwise Relationship"
   ]
  },
  {
   "cell_type": "code",
   "execution_count": 8,
   "metadata": {},
   "outputs": [
    {
     "data": {
      "text/plain": [
       "<seaborn.axisgrid.PairGrid at 0x7f0aa294d580>"
      ]
     },
     "execution_count": 8,
     "metadata": {},
     "output_type": "execute_result"
    },
    {
     "data": {
      "image/png": "[encoded data removed]",
      "text/plain": [
       "<Figure size 720x720 with 20 Axes>"
      ]
     },
     "metadata": {
      "needs_background": "light"
     },
     "output_type": "display_data"
    }
   ],
   "source": [
    "sb.pairplot(advertising_df_test)"
   ]
  },
  {
   "cell_type": "markdown",
   "metadata": {},
   "source": [
    "> ### Seprating into Independent variables & Dependent varibles "
   ]
  },
  {
   "cell_type": "code",
   "execution_count": 9,
   "metadata": {},
   "outputs": [],
   "source": [
    "#iloc[x, y] do, responsible for acessing the compplete row by using index x & y for accesing row elements\n",
    "#attribute Matix\n",
    "X_test = pd.DataFrame(advertising_df_test.iloc[:, 0:3])\n",
    "X_train = pd.DataFrame(advertising_df_train.iloc[:, 0:3])\n",
    "Y_test = pd.DataFrame(advertising_df_test.iloc[:, 3])\n",
    "Y_train = pd.DataFrame(advertising_df_train.iloc[:, 3])"
   ]
  },
  {
   "cell_type": "markdown",
   "metadata": {},
   "source": [
    "## Part 2: Linear Regression \n",
    "\n",
    "Using Linear Regression, fit a model to predict the sales from investments using your own formula. Compare the coefficients as found by the python library function."
   ]
  },
  {
   "cell_type": "markdown",
   "metadata": {},
   "source": [
    "> ### Using base model to extract cofficient from Dataset for fit line"
   ]
  },
  {
   "cell_type": "code",
   "execution_count": 10,
   "metadata": {},
   "outputs": [],
   "source": [
    "class least_squared_method(object):\n",
    "    \n",
    "    def __init__(self):\n",
    "        self.coff = []\n",
    "\n",
    "    # -- Heart of the model -- #\n",
    "    def fit(self, X, Y):\n",
    "        ones = np.ones(X.shape[0]).reshape(-1, 1)\n",
    "        \n",
    "        X = np.concatenate((ones, X), 1)\n",
    "\n",
    "        self.coff = np.linalg.inv(X.transpose().dot(X)).dot( X.transpose().dot(Y))\n",
    "    \n",
    "    def predict(self, data):\n",
    "        b0 = self.coff[0]\n",
    "        other_coefficient = self.coff[1:]\n",
    "\n",
    "        prediction = other_coefficient.transpose().dot(data) + b0\n",
    "        \n",
    "        return prediction"
   ]
  },
  {
   "cell_type": "code",
   "execution_count": 11,
   "metadata": {},
   "outputs": [
    {
     "data": {
      "text/plain": [
       "array([[ 2.65136199],\n",
       "       [ 0.04738357],\n",
       "       [ 0.19070844],\n",
       "       [-0.00332532]])"
      ]
     },
     "execution_count": 11,
     "metadata": {},
     "output_type": "execute_result"
    }
   ],
   "source": [
    "mine_model = least_squared_method()\n",
    "mine_model.fit(X_train, Y_train)\n",
    "mine_model.coff "
   ]
  },
  {
   "cell_type": "code",
   "execution_count": 12,
   "metadata": {},
   "outputs": [],
   "source": [
    "def return_prediction_list(y_predicted, data):\n",
    "    for arr in data.values: #X_test.values gives us the list of list of row data\n",
    "        y_predicted.append(mine_model.predict(arr)[0])\n",
    "    \n",
    "y_predicted = []\n",
    "return_prediction_list(y_predicted, X_train)\n",
    "Y_train_prediction = Y_train.copy()\n",
    "Y_train_prediction[\"Prediction\"] = y_predicted"
   ]
  },
  {
   "cell_type": "code",
   "execution_count": 13,
   "metadata": {
    "scrolled": true
   },
   "outputs": [
    {
     "data": {
      "text/html": [
       "<div>\n",
       "<style scoped>\n",
       "    .dataframe tbody tr th:only-of-type {\n",
       "        vertical-align: middle;\n",
       "    }\n",
       "\n",
       "    .dataframe tbody tr th {\n",
       "        vertical-align: top;\n",
       "    }\n",
       "\n",
       "    .dataframe thead th {\n",
       "        text-align: right;\n",
       "    }\n",
       "</style>\n",
       "<table border=\"1\" class=\"dataframe\">\n",
       "  <thead>\n",
       "    <tr style=\"text-align: right;\">\n",
       "      <th></th>\n",
       "      <th>sales</th>\n",
       "      <th>Prediction</th>\n",
       "    </tr>\n",
       "  </thead>\n",
       "  <tbody>\n",
       "    <tr>\n",
       "      <th>142</th>\n",
       "      <td>20.1</td>\n",
       "      <td>19.304930</td>\n",
       "    </tr>\n",
       "    <tr>\n",
       "      <th>80</th>\n",
       "      <td>11.8</td>\n",
       "      <td>11.289228</td>\n",
       "    </tr>\n",
       "    <tr>\n",
       "      <th>45</th>\n",
       "      <td>14.9</td>\n",
       "      <td>15.134418</td>\n",
       "    </tr>\n",
       "    <tr>\n",
       "      <th>158</th>\n",
       "      <td>7.3</td>\n",
       "      <td>10.092587</td>\n",
       "    </tr>\n",
       "    <tr>\n",
       "      <th>2</th>\n",
       "      <td>9.3</td>\n",
       "      <td>11.989432</td>\n",
       "    </tr>\n",
       "  </tbody>\n",
       "</table>\n",
       "</div>"
      ],
      "text/plain": [
       "     sales  Prediction\n",
       "142   20.1   19.304930\n",
       "80    11.8   11.289228\n",
       "45    14.9   15.134418\n",
       "158    7.3   10.092587\n",
       "2      9.3   11.989432"
      ]
     },
     "execution_count": 13,
     "metadata": {},
     "output_type": "execute_result"
    }
   ],
   "source": [
    "#actual versus predicted DataFrame\n",
    "Y_train_prediction.head()"
   ]
  },
  {
   "cell_type": "markdown",
   "metadata": {},
   "source": [
    "> ### Cofficients by Python Library Functions "
   ]
  },
  {
   "cell_type": "code",
   "execution_count": 14,
   "metadata": {},
   "outputs": [],
   "source": [
    "#By inbuilt Linear Regression Model\n",
    "reg = LinearRegression()\n",
    "reg.fit(X_train, Y_train)\n",
    "var = reg.coef_[0] #give list of coefficients m1, m2, m3 for equation y = m1*x1 + m2*x2 + m3*x3 + M\n",
    "M = reg.intercept_[0]"
   ]
  },
  {
   "cell_type": "code",
   "execution_count": 15,
   "metadata": {},
   "outputs": [],
   "source": [
    "inbuilt_model_coff = []\n",
    "for y in var:\n",
    "    inbuilt_model_coff.append(\"{:.8f}\".format(y))\n",
    "    \n",
    "inbuilt_model_coff = [\"{:.8f}\".format(M)] + inbuilt_model_coff\n",
    "\n",
    "mine_coff = []\n",
    "for x in mine_model.coff:\n",
    "    mine_coff.append(\"{:.8f}\".format(x[0]))"
   ]
  },
  {
   "cell_type": "markdown",
   "metadata": {},
   "source": [
    "> ### Comparsion in between the cofficients generated by formula & from python library functions"
   ]
  },
  {
   "cell_type": "code",
   "execution_count": 16,
   "metadata": {},
   "outputs": [
    {
     "name": "stdout",
     "output_type": "stream",
     "text": [
      "Coefficients from formula: ['2.65136199', '0.04738357', '0.19070844', '-0.00332532']\n",
      "-------------------------------\n",
      "Coefficients from sklearn Linear Regression: ['2.65136199', '0.04738357', '0.19070844', '-0.00332532']\n"
     ]
    }
   ],
   "source": [
    "print (\"Coefficients from formula: {}\".format(mine_coff))\n",
    "print (\"-------------------------------\")\n",
    "print (\"Coefficients from sklearn Linear Regression: {}\".format(inbuilt_model_coff))"
   ]
  },
  {
   "cell_type": "markdown",
   "metadata": {},
   "source": [
    "## Part 3: Mean Squared Error on Test Set\n",
    "Compute the mean squared error on the testing set."
   ]
  },
  {
   "cell_type": "code",
   "execution_count": 17,
   "metadata": {},
   "outputs": [],
   "source": [
    "y_predicted_test = []\n",
    "return_prediction_list(y_predicted_test, X_test)\n",
    "Y_test_prediction = Y_test.copy()\n",
    "Y_test_prediction[\"Prediction\"] = y_predicted_test"
   ]
  },
  {
   "cell_type": "code",
   "execution_count": 18,
   "metadata": {
    "scrolled": true
   },
   "outputs": [
    {
     "data": {
      "text/html": [
       "<div>\n",
       "<style scoped>\n",
       "    .dataframe tbody tr th:only-of-type {\n",
       "        vertical-align: middle;\n",
       "    }\n",
       "\n",
       "    .dataframe tbody tr th {\n",
       "        vertical-align: top;\n",
       "    }\n",
       "\n",
       "    .dataframe thead th {\n",
       "        text-align: right;\n",
       "    }\n",
       "</style>\n",
       "<table border=\"1\" class=\"dataframe\">\n",
       "  <thead>\n",
       "    <tr style=\"text-align: right;\">\n",
       "      <th></th>\n",
       "      <th>sales</th>\n",
       "      <th>Prediction</th>\n",
       "    </tr>\n",
       "  </thead>\n",
       "  <tbody>\n",
       "    <tr>\n",
       "      <th>190</th>\n",
       "      <td>10.8</td>\n",
       "      <td>12.341843</td>\n",
       "    </tr>\n",
       "    <tr>\n",
       "      <th>40</th>\n",
       "      <td>16.6</td>\n",
       "      <td>16.394253</td>\n",
       "    </tr>\n",
       "    <tr>\n",
       "      <th>42</th>\n",
       "      <td>20.7</td>\n",
       "      <td>21.839817</td>\n",
       "    </tr>\n",
       "    <tr>\n",
       "      <th>16</th>\n",
       "      <td>12.5</td>\n",
       "      <td>12.464811</td>\n",
       "    </tr>\n",
       "    <tr>\n",
       "      <th>8</th>\n",
       "      <td>4.8</td>\n",
       "      <td>3.456023</td>\n",
       "    </tr>\n",
       "  </tbody>\n",
       "</table>\n",
       "</div>"
      ],
      "text/plain": [
       "     sales  Prediction\n",
       "190   10.8   12.341843\n",
       "40    16.6   16.394253\n",
       "42    20.7   21.839817\n",
       "16    12.5   12.464811\n",
       "8      4.8    3.456023"
      ]
     },
     "execution_count": 18,
     "metadata": {},
     "output_type": "execute_result"
    }
   ],
   "source": [
    "#Actaul versus predicted DataFrame\n",
    "Y_test_prediction.head()"
   ]
  },
  {
   "cell_type": "markdown",
   "metadata": {},
   "source": [
    "> ### Mean Squared Error"
   ]
  },
  {
   "cell_type": "code",
   "execution_count": 19,
   "metadata": {},
   "outputs": [
    {
     "data": {
      "text/plain": [
       "1.9473488985616771"
      ]
     },
     "execution_count": 19,
     "metadata": {},
     "output_type": "execute_result"
    }
   ],
   "source": [
    "# Calculating the mean square error\n",
    "mean_sq_error = []\n",
    "\n",
    "for i in range(len(Y_test_prediction)):\n",
    "    mean_sq_error.append((Y_test_prediction.iloc[i, 0] - Y_test_prediction.iloc[i, 1])**2)\n",
    "\n",
    "MSE_test = sum(mean_sq_error)/len(Y_test_prediction)\n",
    "MSE_test"
   ]
  },
  {
   "cell_type": "markdown",
   "metadata": {},
   "source": [
    "## Part 4: Ridge Regression\n",
    "\n",
    "Using ridge regression with different values of lambda (0.5, 1, 5, 10, 50, 100) plot the coefficients against each other, and also compare the test set mean squared errors. "
   ]
  },
  {
   "cell_type": "code",
   "execution_count": 20,
   "metadata": {},
   "outputs": [],
   "source": [
    "\n",
    "class Ridge_Regression(object):\n",
    "\n",
    "\n",
    "    def __init__(self):\n",
    "        self.coff = []\n",
    "\n",
    "    def fit(self, X, Y, alpha):\n",
    "        ones = np.ones(X.shape[0]).reshape(-1, 1)\n",
    "        X = np.concatenate((ones, X), 1)\n",
    "  \n",
    "        I = np.identity(X.shape[1])\n",
    "\n",
    "        self.coff = np.linalg.inv(X.transpose().dot(X) + alpha*I).dot(X.transpose().dot(Y))\n",
    "            \n",
    "    def predict(self, data):\n",
    "        b = self.coff[0]\n",
    "        other_betas = self.coff[1:]\n",
    "\n",
    "        prediction = data.dot(other_betas) + b\n",
    "        return prediction"
   ]
  },
  {
   "cell_type": "code",
   "execution_count": 21,
   "metadata": {},
   "outputs": [
    {
     "data": {
      "text/plain": [
       "array([[ 2.42588381e+00],\n",
       "       [ 4.79899173e-02],\n",
       "       [ 1.93339599e-01],\n",
       "       [-2.01599177e-03]])"
      ]
     },
     "execution_count": 21,
     "metadata": {},
     "output_type": "execute_result"
    }
   ],
   "source": [
    "ridge_model = Ridge_Regression()\n",
    "ridge_model.fit(X_train, Y_train, alpha = 2)\n",
    "ridge_model.coff"
   ]
  },
  {
   "cell_type": "code",
   "execution_count": 22,
   "metadata": {},
   "outputs": [
    {
     "data": {
      "text/plain": [
       "[sales    0.039367\n",
       " dtype: float64,\n",
       " sales    0.039789\n",
       " dtype: float64,\n",
       " sales    0.04311\n",
       " dtype: float64,\n",
       " sales    0.046839\n",
       " dtype: float64,\n",
       " sales    0.062126\n",
       " dtype: float64,\n",
       " sales    0.068437\n",
       " dtype: float64]"
      ]
     },
     "execution_count": 22,
     "metadata": {},
     "output_type": "execute_result"
    }
   ],
   "source": [
    "alpha = [0.5, 1, 5, 10, 50, 100]\n",
    "mse_new = []\n",
    "for i in alpha:\n",
    "    ridge_model.fit(X_train, Y_train, alpha = i)\n",
    "    Y_Pred = ridge_model.predict(X_test)    \n",
    "    mse_new.append(np.square(np.subtract(Y_test, Y_Pred)).mean() / len(Y_Pred))\n",
    "\n",
    "mse_new"
   ]
  },
  {
   "cell_type": "markdown",
   "metadata": {},
   "source": [
    "> ### Comparing Mean Squared Error with different value of Alpha"
   ]
  },
  {
   "cell_type": "code",
   "execution_count": 23,
   "metadata": {},
   "outputs": [
    {
     "data": {
      "text/plain": [
       "[<matplotlib.lines.Line2D at 0x7f0aa02164f0>]"
      ]
     },
     "execution_count": 23,
     "metadata": {},
     "output_type": "execute_result"
    },
    {
     "data": {
      "image/png": "[encoded data removed]",
      "text/plain": [
       "<Figure size 800x800 with 1 Axes>"
      ]
     },
     "metadata": {},
     "output_type": "display_data"
    }
   ],
   "source": [
    "plt.figure(num=None, figsize=(10, 10), dpi=80, facecolor='w', edgecolor='k')\n",
    "plt.title('MSE vs Alpha')\n",
    "plt.ylabel('Mean Squared Error')\n",
    "plt.xlabel('Alpha')\n",
    "plt.plot(alpha,mse_new,marker='*',color='b')"
   ]
  },
  {
   "cell_type": "code",
   "execution_count": 24,
   "metadata": {},
   "outputs": [],
   "source": [
    "alpha = [0.5, 1, 5, 10, 50, 100]\n",
    "\n",
    "para = []\n",
    "for i in alpha:\n",
    "    ridge_model.fit(X_train, Y_train, alpha=i)\n",
    "    para.append(ridge_model.coff)\n",
    "\n",
    "coff_idx = []\n",
    "for i in range(len(para[0])):\n",
    "    coff_idx.append(i)"
   ]
  },
  {
   "cell_type": "code",
   "execution_count": 25,
   "metadata": {},
   "outputs": [
    {
     "data": {
      "text/plain": [
       "[array([[ 2.5911478 ],\n",
       "        [ 0.04754549],\n",
       "        [ 0.19141128],\n",
       "        [-0.00297574]]),\n",
       " array([[ 2.53361065],\n",
       "        [ 0.04770021],\n",
       "        [ 0.19208276],\n",
       "        [-0.00264166]]),\n",
       " array([[ 2.15149861e+00],\n",
       "        [ 4.87279456e-02],\n",
       "        [ 1.96538304e-01],\n",
       "        [-4.21310065e-04]]),\n",
       " array([[1.81035858e+00],\n",
       "        [4.96458957e-02],\n",
       "        [2.00508123e-01],\n",
       "        [1.56438853e-03]]),\n",
       " array([[0.7990399 ],\n",
       "        [0.05237447],\n",
       "        [0.21213631],\n",
       "        [0.00751136]]),\n",
       " array([[0.47135192],\n",
       "        [0.05326928],\n",
       "        [0.21569809],\n",
       "        [0.00952668]])]"
      ]
     },
     "execution_count": 25,
     "metadata": {},
     "output_type": "execute_result"
    }
   ],
   "source": [
    "para #for every alpha the cofficients are as follows"
   ]
  },
  {
   "cell_type": "markdown",
   "metadata": {},
   "source": [
    "> ### Comparing the Coefficients"
   ]
  },
  {
   "cell_type": "code",
   "execution_count": 26,
   "metadata": {},
   "outputs": [],
   "source": [
    "mean_lst = []\n",
    "\n",
    "for i in range(1, len(para[0])):\n",
    "    sum = 0\n",
    "    for j in range(len(para)):\n",
    "        sum += para[j][i]\n",
    "    \n",
    "    sum = sum/len(para)\n",
    "    mean_lst.append(sum)\n",
    "\n",
    "\n",
    "par_mean = []\n",
    "for i in range(len(para)):\n",
    "    par_mean.append(para[i][np.argmax(mean_lst)])\n",
    "\n",
    "max_lst = []\n",
    "for i in range(len(para)):\n",
    "    for j in range(1, len(para[0])-1):\n",
    "        max = para[i][j]\n",
    "        temp = para[i][j+1]\n",
    "        if (temp > max):\n",
    "            max = temp\n",
    "    max_lst.append(max)"
   ]
  },
  {
   "cell_type": "code",
   "execution_count": 27,
   "metadata": {},
   "outputs": [
    {
     "name": "stdout",
     "output_type": "stream",
     "text": [
      "[array([0.19141128]), array([0.19208276]), array([0.1965383]), array([0.20050812]), array([0.21213631]), array([0.21569809])]\n",
      "------------\n",
      "[array([0.04754549]), array([0.04770021]), array([0.04872795]), array([0.0496459]), array([0.05237447]), array([0.05326928])]\n"
     ]
    }
   ],
   "source": [
    "print (max_lst)\n",
    "print (\"------------\")\n",
    "print (par_mean)"
   ]
  },
  {
   "cell_type": "code",
   "execution_count": 28,
   "metadata": {},
   "outputs": [
    {
     "data": {
      "text/plain": [
       "<matplotlib.legend.Legend at 0x7f0aa002e8e0>"
      ]
     },
     "execution_count": 28,
     "metadata": {},
     "output_type": "execute_result"
    },
    {
     "data": {
      "image/png": "[encoded data removed]",
      "text/plain": [
       "<Figure size 800x800 with 1 Axes>"
      ]
     },
     "metadata": {},
     "output_type": "display_data"
    }
   ],
   "source": [
    "plt.figure(num=None, figsize=(10, 10), dpi=80, facecolor='w', edgecolor='k')\n",
    "plt.title('Plotting the coefficients (max, mean) vs alpha')\n",
    "plt.ylabel('Coefficient')\n",
    "plt.xlabel('alpha')\n",
    "plt.plot(alpha,par_mean,marker='o',color='r' ,label='MEAN COEFFICIENT')\n",
    "plt.plot(alpha,max_lst,marker='^',color='g' ,label='MAX COEFFICIENT')\n",
    "plt.legend()"
   ]
  },
  {
   "cell_type": "markdown",
   "metadata": {},
   "source": [
    "## 5. Lasso Regression\n",
    "\n",
    "Use the library function of \"LASSO regression\" to find out which of the 3 features is most important, i.e. whose coefficient is furthest from 0."
   ]
  },
  {
   "cell_type": "code",
   "execution_count": 29,
   "metadata": {},
   "outputs": [
    {
     "name": "stdout",
     "output_type": "stream",
     "text": [
      "Lasso Coefficient are: [ 0.04736333  0.19009405 -0.00294606]\n",
      "----------------------\n",
      "Farthest from zero coefficient identified is: 0.1900940479488329 \n",
      "\n",
      "\n",
      "Lasso Regression coefficient of feature #[2]radio is the farthest from 0 which means that radio is the  most important feature\n"
     ]
    }
   ],
   "source": [
    "#Lasso Inbuilt Function from sklearn Module:\n",
    "lasso = Lasso(alpha = 0.1)\n",
    "lasso.fit(X_train,Y_train)\n",
    "\n",
    "print('Lasso Coefficient are: {}'.format(lasso.coef_))\n",
    "print (\"----------------------\")\n",
    "print('Farthest from zero coefficient identified is: {} '.format(lasso.coef_.max()))\n",
    "y = str(X_train.columns[int(np.where(lasso.coef_ == lasso.coef_.max())[0])])\n",
    "\n",
    "print('\\n')\n",
    "print('Lasso Regression coefficient of feature #' + str(np.where(lasso.coef_ == lasso.coef_.max())[0] + 1) + y + \" is the farthest from\" \n",
    "      + \" 0 which means that \" + y + \" is the  most important feature\") \n",
    "    "
   ]
  }
 ],
 "metadata": {
  "kernelspec": {
   "display_name": "Python 3",
   "language": "python",
   "name": "python3"
  },
  "language_info": {
   "codemirror_mode": {
    "name": "ipython",
    "version": 3
   },
   "file_extension": ".py",
   "mimetype": "text/x-python",
   "name": "python",
   "nbconvert_exporter": "python",
   "pygments_lexer": "ipython3",
   "version": "3.8.3"
  }
 },
 "nbformat": 4,
 "nbformat_minor": 4
}
